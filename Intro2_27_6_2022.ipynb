{
  "nbformat": 4,
  "nbformat_minor": 0,
  "metadata": {
    "colab": {
      "name": "Intro2 27/6/2022",
      "provenance": [],
      "collapsed_sections": [],
      "toc_visible": true,
      "include_colab_link": true
    },
    "kernelspec": {
      "name": "python3",
      "display_name": "Python 3"
    }
  },
  "cells": [
    {
      "cell_type": "markdown",
      "metadata": {
        "id": "view-in-github",
        "colab_type": "text"
      },
      "source": [
        "<a href=\"https://colab.research.google.com/github/lcerda7/lcerda7.github.io/blob/master/Intro2_27_6_2022.ipynb\" target=\"_parent\"><img src=\"https://colab.research.google.com/assets/colab-badge.svg\" alt=\"Open In Colab\"/></a>"
      ]
    },
    {
      "cell_type": "markdown",
      "metadata": {
        "id": "hv4NxXSS8pE6"
      },
      "source": [
        "# **Python Intermediate** \n",
        "\n",
        "[github.com/whythawk](github.com/whythawk/intro-to-python)\n",
        "\n",
        "[github.com/webartifex](https://github.com/webartifex/intro-to-python/blob/master/10_classes_00_content.ipynb) (Para la parte de Classes)\n",
        "\n"
      ]
    },
    {
      "cell_type": "markdown",
      "metadata": {
        "id": "sbY2i98vSJ6v"
      },
      "source": [
        "# Funciones\n",
        "Las funciones son módulos de código invocables, algunos con parámetros o argumentos (variables que puede pasar a la función), que realiza una tarea y puede devolver un valor. Son una forma conveniente de empaquetar código en bloques discretos, lo que hace que el programa sea más legible, reutilizable y ahorre tiempo.\n",
        "\n",
        "* `return` es opcional, pero le permite devolver los resultados de cualquier tarea realizada por la función al punto donde se llamó a la función\n"
      ]
    },
    {
      "cell_type": "code",
      "metadata": {
        "id": "fmXzSzeGRTo4",
        "outputId": "6c0e2c93-d6af-47e2-e63f-fd98ee75ae9d",
        "colab": {
          "base_uri": "https://localhost:8080/"
        }
      },
      "source": [
        "# Función simple sin argumentos (def function_name(parámetros):)\n",
        "def say_hello():\n",
        "    print(\"Hello, World!\")\n",
        "\n",
        "# Llamar función\n",
        "say_hello()\n",
        "\n",
        "# Testearla\n",
        "print(callable(say_hello))"
      ],
      "execution_count": 1,
      "outputs": [
        {
          "output_type": "stream",
          "name": "stdout",
          "text": [
            "Hello, World!\n",
            "True\n"
          ]
        }
      ]
    },
    {
      "cell_type": "markdown",
      "metadata": {
        "id": "b84HsCjIXidf"
      },
      "source": [
        "Un argumento puede ser cualquier variable, como números enteros, *strings*, listas, diccionarios o incluso otras funciones. \n",
        "\n",
        "Es importante dejar comentarios y explicaciones en tu código porque necesitas asegurarte de que cualquiera que use una función sepa qué variables espera la función, y en qué orden.\n",
        "\n",
        "Las funciones también pueden realizar cálculos."
      ]
    },
    {
      "cell_type": "code",
      "metadata": {
        "id": "X5-oqoRVXlrZ"
      },
      "source": [
        "# Una función con dos argumentos string\n",
        "def say_hello_to_user(username, greeting):\n",
        "    # Devuelve saludo a un nombre\n",
        "    print(\"Hello, {}! I hope you have a great {}.\".format(username, greeting))"
      ],
      "execution_count": 2,
      "outputs": []
    },
    {
      "cell_type": "code",
      "metadata": {
        "id": "4e48Vp-hErxz",
        "colab": {
          "base_uri": "https://localhost:8080/"
        },
        "outputId": "4ae91c98-6465-4077-9c3e-cd8b5ac74bec"
      },
      "source": [
        "# Hay que \"llamarla\" (to call it)\n",
        "say_hello_to_user(\"Jill\", \"day\")"
      ],
      "execution_count": 3,
      "outputs": [
        {
          "output_type": "stream",
          "name": "stdout",
          "text": [
            "Hello, Jill! I hope you have a great day.\n"
          ]
        }
      ]
    },
    {
      "cell_type": "code",
      "metadata": {
        "id": "9MqXwK9rE0Ih",
        "outputId": "3411f250-a51c-40ea-a395-85677c232532",
        "colab": {
          "base_uri": "https://localhost:8080/"
        }
      },
      "source": [
        "# Realizar un cálculo\n",
        "def sum_two_numbers(x, y):\n",
        "    # Devolver resultado\n",
        "    return x + y\n",
        "\n",
        "sum_two_numbers(5, 10)"
      ],
      "execution_count": 4,
      "outputs": [
        {
          "output_type": "execute_result",
          "data": {
            "text/plain": [
              "15"
            ]
          },
          "metadata": {},
          "execution_count": 4
        }
      ]
    },
    {
      "cell_type": "code",
      "metadata": {
        "id": "xUAzPxDhF436",
        "outputId": "62e6e000-d761-4c07-f3f5-1f8557fd737d",
        "colab": {
          "base_uri": "https://localhost:8080/"
        }
      },
      "source": [
        "# Realizar un cálculo\n",
        "def sum_two_numbers2(x, y):\n",
        "    # Devolver resultado\n",
        "    print(x + y)\n",
        "\n",
        "sum_two_numbers2(5, 10)"
      ],
      "execution_count": 5,
      "outputs": [
        {
          "output_type": "stream",
          "name": "stdout",
          "text": [
            "15\n"
          ]
        }
      ]
    },
    {
      "cell_type": "markdown",
      "metadata": {
        "id": "yhJ4FOqzHyNt"
      },
      "source": [
        "* *print* sólo muestra al usuario un string que representa lo que está pasando dentro de la computadora. La computadora no puede hacer uso de esa impresión. \n",
        "\n",
        "* *return* es como una función que devuelve un valor. Este valor a menudo no es visto por el usuario humano, pero puede ser usado por la computadora en otras funciones.\n"
      ]
    },
    {
      "cell_type": "code",
      "metadata": {
        "id": "BM_eMzFhGadJ"
      },
      "source": [
        "def add_three(num):\n",
        "    return num + 3"
      ],
      "execution_count": 6,
      "outputs": []
    },
    {
      "cell_type": "code",
      "metadata": {
        "id": "Q-CCAlGqHdaO"
      },
      "source": [
        "x1 = sum_two_numbers(5, 10)"
      ],
      "execution_count": 7,
      "outputs": []
    },
    {
      "cell_type": "code",
      "metadata": {
        "id": "OK_99fJAInVe",
        "outputId": "00f18ae3-75ef-48ce-eada-e365d74775c5",
        "colab": {
          "base_uri": "https://localhost:8080/"
        }
      },
      "source": [
        "x2 = sum_two_numbers2(5, 10)"
      ],
      "execution_count": 8,
      "outputs": [
        {
          "output_type": "stream",
          "name": "stdout",
          "text": [
            "15\n"
          ]
        }
      ]
    },
    {
      "cell_type": "code",
      "metadata": {
        "id": "ACRr4D3THoZf",
        "outputId": "988ffb0b-697a-4f32-d287-123075d0298d",
        "colab": {
          "base_uri": "https://localhost:8080/"
        }
      },
      "source": [
        "print (x1)\n",
        "print (x2)"
      ],
      "execution_count": 9,
      "outputs": [
        {
          "output_type": "stream",
          "name": "stdout",
          "text": [
            "15\n",
            "None\n"
          ]
        }
      ]
    },
    {
      "cell_type": "code",
      "metadata": {
        "id": "DNDhYdl_JgXO",
        "outputId": "5b889b3e-2107-4523-ee1d-9cefbe27fa9b",
        "colab": {
          "base_uri": "https://localhost:8080/",
          "height": 304
        }
      },
      "source": [
        "x3 = add_three(x1)\n",
        "print (x3)\n",
        "x4 = add_three(x2)\n",
        "print (x4)"
      ],
      "execution_count": 10,
      "outputs": [
        {
          "output_type": "stream",
          "name": "stdout",
          "text": [
            "18\n"
          ]
        },
        {
          "output_type": "error",
          "ename": "TypeError",
          "evalue": "ignored",
          "traceback": [
            "\u001b[0;31m---------------------------------------------------------------------------\u001b[0m",
            "\u001b[0;31mTypeError\u001b[0m                                 Traceback (most recent call last)",
            "\u001b[0;32m<ipython-input-10-59b2fc49c5e9>\u001b[0m in \u001b[0;36m<module>\u001b[0;34m()\u001b[0m\n\u001b[1;32m      1\u001b[0m \u001b[0mx3\u001b[0m \u001b[0;34m=\u001b[0m \u001b[0madd_three\u001b[0m\u001b[0;34m(\u001b[0m\u001b[0mx1\u001b[0m\u001b[0;34m)\u001b[0m\u001b[0;34m\u001b[0m\u001b[0;34m\u001b[0m\u001b[0m\n\u001b[1;32m      2\u001b[0m \u001b[0mprint\u001b[0m \u001b[0;34m(\u001b[0m\u001b[0mx3\u001b[0m\u001b[0;34m)\u001b[0m\u001b[0;34m\u001b[0m\u001b[0;34m\u001b[0m\u001b[0m\n\u001b[0;32m----> 3\u001b[0;31m \u001b[0mx4\u001b[0m \u001b[0;34m=\u001b[0m \u001b[0madd_three\u001b[0m\u001b[0;34m(\u001b[0m\u001b[0mx2\u001b[0m\u001b[0;34m)\u001b[0m\u001b[0;34m\u001b[0m\u001b[0;34m\u001b[0m\u001b[0m\n\u001b[0m\u001b[1;32m      4\u001b[0m \u001b[0mprint\u001b[0m \u001b[0;34m(\u001b[0m\u001b[0mx4\u001b[0m\u001b[0;34m)\u001b[0m\u001b[0;34m\u001b[0m\u001b[0;34m\u001b[0m\u001b[0m\n",
            "\u001b[0;32m<ipython-input-6-f9ee38c13bfa>\u001b[0m in \u001b[0;36madd_three\u001b[0;34m(num)\u001b[0m\n\u001b[1;32m      1\u001b[0m \u001b[0;32mdef\u001b[0m \u001b[0madd_three\u001b[0m\u001b[0;34m(\u001b[0m\u001b[0mnum\u001b[0m\u001b[0;34m)\u001b[0m\u001b[0;34m:\u001b[0m\u001b[0;34m\u001b[0m\u001b[0;34m\u001b[0m\u001b[0m\n\u001b[0;32m----> 2\u001b[0;31m     \u001b[0;32mreturn\u001b[0m \u001b[0mnum\u001b[0m \u001b[0;34m+\u001b[0m \u001b[0;36m3\u001b[0m\u001b[0;34m\u001b[0m\u001b[0;34m\u001b[0m\u001b[0m\n\u001b[0m",
            "\u001b[0;31mTypeError\u001b[0m: unsupported operand type(s) for +: 'NoneType' and 'int'"
          ]
        }
      ]
    },
    {
      "cell_type": "markdown",
      "metadata": {
        "id": "qJQZZ0gPXrOI"
      },
      "source": [
        "No sólo se pueden llamar funciones desde las funciones, sino que también se pueden crear variables que son funciones, o el resultado de las funciones."
      ]
    },
    {
      "cell_type": "code",
      "metadata": {
        "id": "Q2wXac-FXuEZ",
        "outputId": "a206b75c-89b8-4f39-a06a-55ace3c5e12a",
        "colab": {
          "base_uri": "https://localhost:8080/"
        }
      },
      "source": [
        "def number_powered(number, exponent):\n",
        "    # Devuelve el numero alevado al exponente\n",
        "    return number ** exponent\n",
        "\n",
        "# `sum_two_numbers` sigue disponible\n",
        "def sum_and_power(number1, number2, exponent):\n",
        "    # Devuelve los dos números sumados, y luego exponenciados\n",
        "    summed = sum_two_numbers(number1, number2)\n",
        "    return number_powered(summed, exponent)\n",
        "\n",
        "# `sum_and_power`\n",
        "print(sum_and_power(2, 3, 4))"
      ],
      "execution_count": 11,
      "outputs": [
        {
          "output_type": "stream",
          "name": "stdout",
          "text": [
            "625\n"
          ]
        }
      ]
    },
    {
      "cell_type": "markdown",
      "metadata": {
        "id": "uFGDV-i2Xxdk"
      },
      "source": [
        "Otra forma de comentar tus archivos es usando *docstrings*:  texto entre 3 comillas dobles para comentar\n",
        "\n",
        "También se puede usar llamando a esta función: \n",
        "`function.__ doc__`"
      ]
    },
    {
      "cell_type": "code",
      "metadata": {
        "id": "lSyDmSAdX2CP",
        "outputId": "4ce1812e-836f-4656-b758-fa77d96e2719",
        "colab": {
          "base_uri": "https://localhost:8080/"
        }
      },
      "source": [
        "def docstring_example():\n",
        "    \"\"\"\n",
        "    An example function which returns `True`.\n",
        "    \"\"\"\n",
        "    return True\n",
        "\n",
        "# Imprimir el comentario\n",
        "print(docstring_example.__doc__)"
      ],
      "execution_count": 12,
      "outputs": [
        {
          "output_type": "stream",
          "name": "stdout",
          "text": [
            "\n",
            "    An example function which returns `True`.\n",
            "    \n"
          ]
        }
      ]
    },
    {
      "cell_type": "code",
      "metadata": {
        "id": "36-FEMVsLFjN",
        "outputId": "8d32c85a-d56a-4f4a-826b-79b6910e1c70",
        "colab": {
          "base_uri": "https://localhost:8080/"
        }
      },
      "source": [
        "# Call it\n",
        "print(docstring_example())"
      ],
      "execution_count": 13,
      "outputs": [
        {
          "output_type": "stream",
          "name": "stdout",
          "text": [
            "True\n"
          ]
        }
      ]
    },
    {
      "cell_type": "markdown",
      "metadata": {
        "id": "9Ab5S23BX8DF"
      },
      "source": [
        "# Clases y Objetos\n",
        "\n",
        "Un objeto de Python completo es una encapsulación de ambas variables y funciones en una sola entidad. Los objetos obtienen sus variables y funciones de las *clases*.\n",
        "\n",
        "Las clases son donde la mayor parte de la acción ocurre en Python y la codificación consiste, en gran medida, en producir y utilizar clases para realizar tareas.\n",
        "\n",
        "Las clases siguen el paradigma objecte-oriented programming (OOP) donde un programa largo se divide en pequeños componentes (objetos) que reusan el codigo.\n",
        "\n",
        "La clase solo se puede acceder con operadores de punto (class atributes).\n",
        "\n",
        "Dentro de las clases, las funciones se vinculan como métodos que se utilizan con objetos futuros.\n",
        "\n",
        "Una clase muy básica se vería así:"
      ]
    },
    {
      "cell_type": "code",
      "metadata": {
        "id": "tRVEEtoLL6b9"
      },
      "source": [
        "class myClass:\n",
        "    \"\"\"\n",
        "    A demonstration class.\n",
        "    \"\"\"\n",
        "    my_variable = \"Look, a variable!\"\n",
        "    \n",
        "    def my_function(self):\n",
        "        \"\"\"\n",
        "        A demonstration class function.\n",
        "        \"\"\"\n",
        "        return \"I'm a class function!\""
      ],
      "execution_count": 14,
      "outputs": []
    },
    {
      "cell_type": "code",
      "metadata": {
        "id": "KZTBc4WEMGIO"
      },
      "source": [
        "# You call a class by creating a new class object\n",
        "new_class = myClass()"
      ],
      "execution_count": 15,
      "outputs": []
    },
    {
      "cell_type": "code",
      "metadata": {
        "id": "ZcE9T9kMMJSK",
        "outputId": "efba2b6a-3f82-4512-b435-1dfbd62293f1",
        "colab": {
          "base_uri": "https://localhost:8080/"
        }
      },
      "source": [
        "# You can access class variables or functions with a dotted call, as follows\n",
        "print(new_class.my_variable)\n",
        "print(new_class.my_function())"
      ],
      "execution_count": 16,
      "outputs": [
        {
          "output_type": "stream",
          "name": "stdout",
          "text": [
            "Look, a variable!\n",
            "I'm a class function!\n"
          ]
        }
      ]
    },
    {
      "cell_type": "code",
      "metadata": {
        "id": "HVFVSwo4MOE7",
        "outputId": "fd5e3db0-d229-4a13-c3bd-429292aea5e3",
        "colab": {
          "base_uri": "https://localhost:8080/"
        }
      },
      "source": [
        "# Access the class docstrings\n",
        "print(myClass.__doc__)\n",
        "print(myClass.my_function.__doc__)"
      ],
      "execution_count": 17,
      "outputs": [
        {
          "output_type": "stream",
          "name": "stdout",
          "text": [
            "\n",
            "    A demonstration class.\n",
            "    \n",
            "\n",
            "        A demonstration class function.\n",
            "        \n"
          ]
        }
      ]
    },
    {
      "cell_type": "markdown",
      "metadata": {
        "id": "JbOm2da3Lqm4"
      },
      "source": [
        "* Se llama a una clase mediante `class()`. \n",
        "\n",
        "* Todas las variables y funciones de una clase se llaman mediante el punto (.): `.function()` o `.variable`. \n",
        "\n",
        "* Incluso puede agregar nuevas funciones y variables a una clase que ya se creó. \n",
        "\n",
        "* Sin embargo, no existirán en las nuevas clases que crees, ya que no has cambiado el código subyacente.\n",
        "\n",
        "* Las funciones dentro de una clase requieren un argumento base que, por convención, se llama `self`. \n",
        "\n",
        "* Entonces, dentro de la clase, `self.function` es la forma en que la clase llama a sus funciones."
      ]
    },
    {
      "cell_type": "code",
      "metadata": {
        "id": "uMEwaRybPeho"
      },
      "source": [
        "class myClass:\n",
        "    \"\"\"\n",
        "    A demonstration class.\n",
        "    \"\"\"\n",
        "    my_variable = \"Look, a variable!\"\n",
        "    \n",
        "    def my_function(self):\n",
        "        \"\"\"\n",
        "        A demonstration class function.\n",
        "        \"\"\"\n",
        "        return \"I'm a class function!\""
      ],
      "execution_count": 18,
      "outputs": []
    },
    {
      "cell_type": "code",
      "metadata": {
        "id": "0mYU2VFfaJ5Q",
        "outputId": "136714a7-8521-465e-ba9b-055ff1f1d4aa",
        "colab": {
          "base_uri": "https://localhost:8080/"
        }
      },
      "source": [
        "# Agregar nueva variable\n",
        "new_class1 = myClass()\n",
        "new_class1.my_variable2 = \"Hi, Bob!\"\n",
        "print(new_class1.my_variable2, new_class1.my_variable)"
      ],
      "execution_count": 19,
      "outputs": [
        {
          "output_type": "stream",
          "name": "stdout",
          "text": [
            "Hi, Bob! Look, a variable!\n"
          ]
        }
      ]
    },
    {
      "cell_type": "code",
      "metadata": {
        "id": "enh7EM51PMAk",
        "outputId": "250e02b0-1044-440f-8568-7256885bceea",
        "colab": {
          "base_uri": "https://localhost:8080/"
        }
      },
      "source": [
        "# But, trying to access my_variable2 in new_class causes an error\n",
        "print(new_class1.my_variable2)"
      ],
      "execution_count": 20,
      "outputs": [
        {
          "output_type": "stream",
          "name": "stdout",
          "text": [
            "Hi, Bob!\n"
          ]
        }
      ]
    },
    {
      "cell_type": "markdown",
      "metadata": {
        "id": "l_r5UAEwaTkX"
      },
      "source": [
        "Las clases pueden inicializarse con un conjunto de variables ya disponibles. Esto hace que la referencia a *self* sea más explícita y también te permite pasar argumentos a su clase para establecer valores iniciales.\n",
        "\n",
        "* Inicialice una clase con la función especial `def __init__(self)`: esto contiene la validación lógica requerida para \"correr\" la clase\n",
        "* Pase argumentos a sus funciones con `__init__(self, arguments)`: atributos\n",
        "* También podemos diferenciar entre argumentos y argumentos de palabras clave:\n",
        "* **argumentos**: estos se pasan de la manera habitual, como un solo término: `my_function(argument)`.\n",
        "* **argumentos de palabras clave**: estos se pasan de la forma en que se pensaría en un diccionario: `my_function(keyword_argument = value)`. Esta es también una forma de inicializar un argumento con un valor predeterminado. \n",
        "* Las funciones a menudo necesitan que se les pasen numerosos argumentos y argumentos de palabras clave.\n",
        "* Se puede pensar en una lista de argumentos como una lista, y una lista de argumentos de palabras clave como un diccionario. \n",
        "* Una forma más ordenada de lidiar con esto es hacer referencia a sus argumentos y argumentos de palabras clave así: `my_function(*args,**kwargs)` donde `*args` estará disponible para la función como una lista ordenada, y `**kwargs` como un diccionario.\n",
        "* No es necesario escribir `*args` o `**kwargs`. Sólo el `*` (asterisco) es necesario. También podrías haber escrito *var y **vars. Escribir *args y **kwargs es sólo una convención. ([Help](https://book.pythontips.com/en/latest/args_and_kwargs.html))\n",
        "* `*args` y `**kwargs` te permiten pasar un número variable de argumentos a una función.\n",
        "* Al tratar `**kwargs` como un diccionario podemos usar los métodos para diccionarios: [Built-in Types](https://docs.python.org/3/library/stdtypes.html#dict.items)"
      ]
    },
    {
      "cell_type": "code",
      "metadata": {
        "id": "GIJtBtFXHRj3",
        "outputId": "e6a044fe-3264-47de-d6c6-893cd19a2188",
        "colab": {
          "base_uri": "https://localhost:8080/"
        }
      },
      "source": [
        "def test_args_kwargs(arg1, arg2, arg3):\n",
        "    print(\"arg1:\", arg1)\n",
        "    print(\"arg2:\", arg2)\n",
        "    print(\"arg3:\", arg3)\n",
        "\n",
        "#Now you can use *args or **kwargs to pass arguments to this little function. Here’s how to do it:\n",
        "\n",
        "# first with *args\n",
        "args = (\"two\", 3, 5)\n",
        "test_args_kwargs(*args)\n",
        "\n",
        "# now with **kwargs:\n",
        "kwargs = {\"arg3\": 3, \"arg2\": \"two\", \"arg1\": 5}\n",
        "test_args_kwargs(**kwargs)"
      ],
      "execution_count": 21,
      "outputs": [
        {
          "output_type": "stream",
          "name": "stdout",
          "text": [
            "arg1: two\n",
            "arg2: 3\n",
            "arg3: 5\n",
            "arg1: 5\n",
            "arg2: two\n",
            "arg3: 3\n"
          ]
        }
      ]
    },
    {
      "cell_type": "code",
      "metadata": {
        "id": "UjhydNxVapnp"
      },
      "source": [
        "class demoClass:\n",
        "    \"\"\"\n",
        "    A demonstration class with an __init__ function, and a function that takes args and kwargs.\n",
        "    \"\"\"\n",
        "    \n",
        "    def __init__(self, argument = None):\n",
        "        \"\"\"\n",
        "        A function that is called automatically when the demoClass is initialised.\n",
        "        \"\"\"\n",
        "        self.demo_variable = \"Hello, World!\"\n",
        "        self.initial_variable = argument\n",
        "        \n",
        "    def demo_class(self, *args, **kwargs):\n",
        "        \"\"\"\n",
        "        A demo class that loops through any args and kwargs provided and prints them.\n",
        "        \"\"\"\n",
        "        for i, a in enumerate(args):\n",
        "            print(\"Arg {}: {}\".format(i+1, a))\n",
        "        for k, v in kwargs.items():\n",
        "            print(\"{} - {}\".format(k, v))\n",
        "        if kwargs.get(self.initial_variable):\n",
        "            print(self.demo_variable)\n",
        "        return True\n",
        "\n",
        "demo1 = demoClass()\n",
        "demo2 = demoClass(\"Bob\")"
      ],
      "execution_count": 22,
      "outputs": []
    },
    {
      "cell_type": "code",
      "metadata": {
        "id": "ea9TlGbWy_K-",
        "outputId": "dc2ba299-3ea3-46b4-a099-0aadca9a86da",
        "colab": {
          "base_uri": "https://localhost:8080/"
        }
      },
      "source": [
        "# What was initialised in each demo object?\n",
        "print(demo1.demo_variable, demo1.initial_variable)\n",
        "print(demo2.demo_variable, demo2.initial_variable)"
      ],
      "execution_count": 23,
      "outputs": [
        {
          "output_type": "stream",
          "name": "stdout",
          "text": [
            "Hello, World! None\n",
            "Hello, World! Bob\n"
          ]
        }
      ]
    },
    {
      "cell_type": "code",
      "metadata": {
        "id": "KXGguEzRzFbz"
      },
      "source": [
        "# A demo of passing arguments and keyword arguments\n",
        "args = [\"Alice\", \"Bob\", \"Carol\", \"Dave\"]\n",
        "kwargs = {\"Alice\": \"Engineer\",\n",
        "          \"Bob\": \"Consultant\",\n",
        "          \"Carol\": \"Lawyer\",\n",
        "          \"Dave\": \"Doctor\"\n",
        "         }"
      ],
      "execution_count": 24,
      "outputs": []
    },
    {
      "cell_type": "code",
      "metadata": {
        "id": "rVcg6n6xzJfy"
      },
      "source": [
        "demo2.demo_class(*args, **kwargs)"
      ],
      "execution_count": null,
      "outputs": []
    },
    {
      "cell_type": "markdown",
      "metadata": {
        "id": "zHRp6XCIbU8F"
      },
      "source": [
        "El uso de `*args` y `**kwargs` en tus llamadas a una función mientras estás programando hace más fácil cambiar tu código sin tener que volver a cada línea de código que llama a tu función y corregir errores cuando cambias el orden o el número de argumentos que estás llamando.\n",
        "\n",
        "Esto reduce los errores, mejora la legibilidad y hace que la experiencia de codificación sea más agradable y eficiente.\n",
        "\n",
        "Haremos otro ejemplo usando [Special method names](https://docs.python.org/3/reference/datamodel.html#special-method-names).\n",
        "\n",
        "Los elementos proporcionados por el argumento de *data* se proyectan primero como objetos *float* y luego se almacenan en un objeto de lista llamado _entries, que es un objeto nuevo."
      ]
    },
    {
      "cell_type": "code",
      "metadata": {
        "id": "XH5jYX8RNT1a"
      },
      "source": [
        "# Text representations\n",
        "\n",
        "class Vector:\n",
        "\n",
        "    def __init__(self, data):\n",
        "        self._entries = list(float(x) for x in data)\n",
        "        # ...\n",
        "\n",
        "    def __repr__(self):\n",
        "        args = \", \".join(f\"{x:.2f}\" for x in self._entries)\n",
        "        return f\"Vector(({args}))\"\n",
        "    \n",
        "    def __str__(self):\n",
        "        first, last = self._entries[0], self._entries[-1]\n",
        "        n_entries = len(self._entries)\n",
        "        return f\"Vector({first:.1f}, ..., {last:.1f})[{n_entries:d}]\"\n",
        "\n",
        "# object.__str__() method differs from object.__repr__() in that \n",
        "# there is no expectation that __str__() return a valid Python expression.\n"
      ],
      "execution_count": 25,
      "outputs": []
    },
    {
      "cell_type": "code",
      "metadata": {
        "id": "fpTrEc-mNaI_"
      },
      "source": [
        "v = Vector([1, 2, 3])"
      ],
      "execution_count": 26,
      "outputs": []
    },
    {
      "cell_type": "code",
      "metadata": {
        "id": "oxry0ZiuNecL",
        "outputId": "18036223-43f2-4f79-b3cf-f5f4ec1637dd",
        "colab": {
          "base_uri": "https://localhost:8080/"
        }
      },
      "source": [
        "v"
      ],
      "execution_count": 27,
      "outputs": [
        {
          "output_type": "execute_result",
          "data": {
            "text/plain": [
              "Vector((1.00, 2.00, 3.00))"
            ]
          },
          "metadata": {},
          "execution_count": 27
        }
      ]
    },
    {
      "cell_type": "code",
      "metadata": {
        "id": "oCvPkxV-NjOR",
        "outputId": "4d182635-39ab-4d9a-a7b1-a3844a896ac8",
        "colab": {
          "base_uri": "https://localhost:8080/",
          "height": 36
        }
      },
      "source": [
        "repr(v)"
      ],
      "execution_count": 28,
      "outputs": [
        {
          "output_type": "execute_result",
          "data": {
            "text/plain": [
              "'Vector((1.00, 2.00, 3.00))'"
            ],
            "application/vnd.google.colaboratory.intrinsic+json": {
              "type": "string"
            }
          },
          "metadata": {},
          "execution_count": 28
        }
      ]
    },
    {
      "cell_type": "code",
      "metadata": {
        "id": "gwGbKiq3PVuZ",
        "outputId": "9eb339d3-21fd-4f1f-98c8-12a64b9abb9f",
        "colab": {
          "base_uri": "https://localhost:8080/",
          "height": 36
        }
      },
      "source": [
        "str(v)"
      ],
      "execution_count": 29,
      "outputs": [
        {
          "output_type": "execute_result",
          "data": {
            "text/plain": [
              "'Vector(1.0, ..., 3.0)[3]'"
            ],
            "application/vnd.google.colaboratory.intrinsic+json": {
              "type": "string"
            }
          },
          "metadata": {},
          "execution_count": 29
        }
      ]
    },
    {
      "cell_type": "markdown",
      "metadata": {
        "id": "PVt1ZsyxU4NQ"
      },
      "source": [
        "### Computed properties\n",
        "\n",
        "* Una matriz exhibe ciertas propiedades que dependen sólo de los datos concretos encapsulados en ella y que no pueden fijarse en algún valor arbitrario. \n",
        "\n",
        "* Por ejemplo, cada Matriz tiene implícitamente dos dimensiones: el número de filas y columnas.\n",
        "\n",
        "* Diseñaremos nuestra clase Matrix de tal manera que las instancias tienen dos atributos, n_filas y n_cols. \n",
        "\n",
        "* Para ello, utilizamos property() incorporada con una sintaxis @ especial e implementamos atributos derivados que se calculan a partir del estado actual de un objeto. \n",
        "\n",
        "* Funcionan como métodos, excepto que no necesitan ser invocados con el operador de llamada (), sino que se puede acceder a ellos como si fueran variables."
      ]
    },
    {
      "cell_type": "code",
      "metadata": {
        "id": "wrbkEy7OUsQ5"
      },
      "source": [
        "# Computed properties\n",
        "\n",
        "class Matrix:\n",
        "\n",
        "    def __init__(self, data):\n",
        "        self._entries = list(list(float(x) for x in r) for r in data)\n",
        "        for row in self._entries[1:]:\n",
        "            if len(row) != self.n_cols:\n",
        "                raise ValueError(\"rows must have the same number of entries\")\n",
        "        if self.n_rows == 0:\n",
        "            raise ValueError(\"a matrix must have at least one entry\")\n",
        "\n",
        "    def __repr__(self):\n",
        "        args = \", \".join(\"(\" + \", \".join(f\"{c:.3f}\" for c in r) + \",)\" for r in self._entries)\n",
        "        return f\"Matrix(({args}))\"\n",
        "\n",
        "    @property\n",
        "    def n_rows(self):\n",
        "        return len(self._entries)\n",
        "\n",
        "    @property\n",
        "    def n_cols(self):\n",
        "        return len(self._entries[0])"
      ],
      "execution_count": 30,
      "outputs": []
    },
    {
      "cell_type": "code",
      "metadata": {
        "id": "ct1N2ZyFUxT2"
      },
      "source": [
        "m = Matrix([(1, 2, 3), (4, 5, 6)])"
      ],
      "execution_count": 31,
      "outputs": []
    },
    {
      "cell_type": "code",
      "metadata": {
        "id": "is-bK93_U1Hy",
        "outputId": "e68397f4-8d5c-4a25-bd2a-2b5fd3056291",
        "colab": {
          "base_uri": "https://localhost:8080/"
        }
      },
      "source": [
        "m.n_rows, m.n_cols"
      ],
      "execution_count": 32,
      "outputs": [
        {
          "output_type": "execute_result",
          "data": {
            "text/plain": [
              "(2, 3)"
            ]
          },
          "metadata": {},
          "execution_count": 32
        }
      ]
    },
    {
      "cell_type": "code",
      "metadata": {
        "id": "0ranBB7P9xJK",
        "outputId": "549a6141-55cc-4aaf-a2ac-aa200940d583",
        "colab": {
          "base_uri": "https://localhost:8080/"
        }
      },
      "source": [
        "m\n"
      ],
      "execution_count": 33,
      "outputs": [
        {
          "output_type": "execute_result",
          "data": {
            "text/plain": [
              "Matrix(((1.000, 2.000, 3.000,), (4.000, 5.000, 6.000,)))"
            ]
          },
          "metadata": {},
          "execution_count": 33
        }
      ]
    },
    {
      "cell_type": "markdown",
      "metadata": {
        "id": "IHKbkYHwbaOM"
      },
      "source": [
        "# Módulos y paquetes\n",
        "Un módulo en Python es un conjunto de clases o funciones que encapsulan un conjunto único y relacionado de tareas. Los paquetes son un conjunto de módulos reunidos en una sola unidad. Esto también puede ser llamado una biblioteca.\n",
        "\n",
        "Crear un módulo es tan simple como guardar el código de la clase en un archivo con la extensión .py.\n"
      ]
    },
    {
      "cell_type": "markdown",
      "metadata": {
        "id": "C5r9YKVTizTb"
      },
      "source": [
        "## Módulos de escritura\n",
        "Un conjunto de módulos en una biblioteca requieren tener un conjunto específico de requisitos. \n",
        "\n",
        "* Imaginen que deseamos desarrollar un juego de ping pong. Podemos colocar la lógica del juego en un módulo, y la funcionalidad para jugar el juego en otro. Eso nos lleva a una carpeta con la siguiente estructura de archivos:\n",
        "\n",
        "*pingpong/*\n",
        "\n",
        "*pingpong/game.py*\n",
        "\n",
        "*pingpong/draw.py*\n",
        "\n",
        "* Dentro de cada archivo habrá un conjunto de funciones. \n",
        "\n",
        "* Supongamos que, dentro de *draw.py* hay una **función** llamada *draw_game*. \n",
        "\n",
        "* Si quisieras importar la función *draw_game* al archivo *game.py*, la convención es la siguiente:\n",
        "\n",
        "*import draw*\n",
        "\n",
        "* Esto importará todo lo que está en el archivo draw.py. \n",
        "\n",
        "* Después de eso, se accede a las funciones del archivo haciendo llamadas a, por ejemplo, *draw.draw_game*.\n",
        "\n",
        "* O bien, puedes acceder directamente a cada archivo y sólo importar lo que necesites (ya que algunos archivos pueden ser extremadamente grandes y no necesariamente deseas importar todo):\n",
        "\n",
        "*from draw import draw_game*\n",
        "\n",
        "* Cuando ejecutas un programa directamente desde la línea de comandos, necesitas una función especial llamada *main*, que se ejecuta de la siguiente manera:\n",
        "\n",
        "    `if __name__ == '__main__':`\n",
        "\n",
        "          `main()`\n"
      ]
    },
    {
      "cell_type": "code",
      "metadata": {
        "id": "hklE0NXgfsmQ",
        "outputId": "5ab3af9b-a4e3-4194-c724-cb0f391f94e4",
        "colab": {
          "base_uri": "https://localhost:8080/",
          "height": 373
        }
      },
      "source": [
        "# game.py\n",
        "# Import the draw_game function from draw.py\n",
        "from draw import draw_game\n",
        "\n",
        "def play_game():\n",
        "    ...\n",
        "\n",
        "def main():\n",
        "    result = play_game()\n",
        "    draw_game(result)\n",
        "\n",
        "# If this script is executed, then main() will be executed\n",
        "if __name__ == '__main__':\n",
        "    main()"
      ],
      "execution_count": 34,
      "outputs": [
        {
          "output_type": "error",
          "ename": "ModuleNotFoundError",
          "evalue": "ignored",
          "traceback": [
            "\u001b[0;31m---------------------------------------------------------------------------\u001b[0m",
            "\u001b[0;31mModuleNotFoundError\u001b[0m                       Traceback (most recent call last)",
            "\u001b[0;32m<ipython-input-34-39632d91753e>\u001b[0m in \u001b[0;36m<module>\u001b[0;34m()\u001b[0m\n\u001b[1;32m      1\u001b[0m \u001b[0;31m# game.py\u001b[0m\u001b[0;34m\u001b[0m\u001b[0;34m\u001b[0m\u001b[0;34m\u001b[0m\u001b[0m\n\u001b[1;32m      2\u001b[0m \u001b[0;31m# Import the draw_game function from draw.py\u001b[0m\u001b[0;34m\u001b[0m\u001b[0;34m\u001b[0m\u001b[0;34m\u001b[0m\u001b[0m\n\u001b[0;32m----> 3\u001b[0;31m \u001b[0;32mfrom\u001b[0m \u001b[0mdraw\u001b[0m \u001b[0;32mimport\u001b[0m \u001b[0mdraw_game\u001b[0m\u001b[0;34m\u001b[0m\u001b[0;34m\u001b[0m\u001b[0m\n\u001b[0m\u001b[1;32m      4\u001b[0m \u001b[0;34m\u001b[0m\u001b[0m\n\u001b[1;32m      5\u001b[0m \u001b[0;32mdef\u001b[0m \u001b[0mplay_game\u001b[0m\u001b[0;34m(\u001b[0m\u001b[0;34m)\u001b[0m\u001b[0;34m:\u001b[0m\u001b[0;34m\u001b[0m\u001b[0;34m\u001b[0m\u001b[0m\n",
            "\u001b[0;31mModuleNotFoundError\u001b[0m: No module named 'draw'",
            "",
            "\u001b[0;31m---------------------------------------------------------------------------\u001b[0;32m\nNOTE: If your import is failing due to a missing package, you can\nmanually install dependencies using either !pip or !apt.\n\nTo view examples of installing some common dependencies, click the\n\"Open Examples\" button below.\n\u001b[0;31m---------------------------------------------------------------------------\u001b[0m\n"
          ],
          "errorDetails": {
            "actions": [
              {
                "action": "open_url",
                "actionText": "Open Examples",
                "url": "/notebooks/snippets/importing_libraries.ipynb"
              }
            ]
          }
        }
      ]
    },
    {
      "cell_type": "markdown",
      "metadata": {
        "id": "PwlpdkAHhpO4"
      },
      "source": [
        "* Las funciones y clases de Python se pueden guardar para reutilizarlas en archivos con la extensión `.py`\n",
        "\n",
        "* Podés importar las funciones de esos archivos usando `import filename` (sin la extensión` .py`) o funciones o clases específicas de ese archivo con `from filename import class, function1, function2`\n",
        "\n",
        "* Después de ejecutar el programa, Python crea automáticamente un archivo con el mismo nombre, pero con `.pyc` como extensión. Esta es una versión compilada del archivo y ocurre automáticamente.\n",
        "\n",
        "* Si un módulo tiene una gran cantidad de funciones que querés utilizar en tu propio código, podés especificar un nombre personalizado para su uso. \n",
        "\n",
        "* Por ejemplo, un módulo que conoceremos en la siguiente sección se llama `pandas`. La convención es importarlo como `import pandas as pd`. \n",
        "\n",
        "* Ahora accederás a las funciones en `pandas` utilizando la notación de punto de` pd.function`."
      ]
    },
    {
      "cell_type": "markdown",
      "metadata": {
        "id": "cBLW3LYchyda"
      },
      "source": [
        "Poniendo todo esto junto en un ejemplo de pseudocódigo (es decir, este código no funciona, así que no intente ejecutarlo):"
      ]
    },
    {
      "cell_type": "code",
      "metadata": {
        "id": "CY1oXuzDho6c",
        "outputId": "a7890150-ea09-473e-9846-80365c134b45",
        "colab": {
          "base_uri": "https://localhost:8080/",
          "height": 235
        }
      },
      "source": [
        "# game.py\n",
        "# Import the draw module\n",
        "if visual_mode:\n",
        "    # in visual mode, we draw using graphics\n",
        "    import draw_visual as draw\n",
        "else:\n",
        "    # In textual mode, we print out text\n",
        "    import draw_textual as draw\n",
        "\n",
        "def main():\n",
        "    result = play_game()\n",
        "    # this can either be visual or textual depending on visual_mode\n",
        "    draw.draw_game(result)"
      ],
      "execution_count": 35,
      "outputs": [
        {
          "output_type": "error",
          "ename": "NameError",
          "evalue": "ignored",
          "traceback": [
            "\u001b[0;31m---------------------------------------------------------------------------\u001b[0m",
            "\u001b[0;31mNameError\u001b[0m                                 Traceback (most recent call last)",
            "\u001b[0;32m<ipython-input-35-c1bc1f53a817>\u001b[0m in \u001b[0;36m<module>\u001b[0;34m()\u001b[0m\n\u001b[1;32m      1\u001b[0m \u001b[0;31m# game.py\u001b[0m\u001b[0;34m\u001b[0m\u001b[0;34m\u001b[0m\u001b[0;34m\u001b[0m\u001b[0m\n\u001b[1;32m      2\u001b[0m \u001b[0;31m# Import the draw module\u001b[0m\u001b[0;34m\u001b[0m\u001b[0;34m\u001b[0m\u001b[0;34m\u001b[0m\u001b[0m\n\u001b[0;32m----> 3\u001b[0;31m \u001b[0;32mif\u001b[0m \u001b[0mvisual_mode\u001b[0m\u001b[0;34m:\u001b[0m\u001b[0;34m\u001b[0m\u001b[0;34m\u001b[0m\u001b[0m\n\u001b[0m\u001b[1;32m      4\u001b[0m     \u001b[0;31m# in visual mode, we draw using graphics\u001b[0m\u001b[0;34m\u001b[0m\u001b[0;34m\u001b[0m\u001b[0;34m\u001b[0m\u001b[0m\n\u001b[1;32m      5\u001b[0m     \u001b[0;32mimport\u001b[0m \u001b[0mdraw_visual\u001b[0m \u001b[0;32mas\u001b[0m \u001b[0mdraw\u001b[0m\u001b[0;34m\u001b[0m\u001b[0;34m\u001b[0m\u001b[0m\n",
            "\u001b[0;31mNameError\u001b[0m: name 'visual_mode' is not defined"
          ]
        }
      ]
    },
    {
      "cell_type": "markdown",
      "metadata": {
        "id": "DWkeEeQ0iFzT"
      },
      "source": [
        "# Módulos Built-in\n"
      ]
    },
    {
      "cell_type": "code",
      "metadata": {
        "id": "7yNWbFjNiW1C",
        "outputId": "fa9bf342-8091-4d06-8091-69860d961d63",
        "colab": {
          "base_uri": "https://localhost:8080/"
        }
      },
      "source": [
        "#  Leer el manual de ayuda usando `help (module)` (va a mostrar los docstrings)\n",
        "import pandas as pd\n",
        "\n",
        "help(pd)"
      ],
      "execution_count": 36,
      "outputs": [
        {
          "output_type": "stream",
          "name": "stdout",
          "text": [
            "Help on package pandas:\n",
            "\n",
            "NAME\n",
            "    pandas\n",
            "\n",
            "DESCRIPTION\n",
            "    pandas - a powerful data analysis and manipulation library for Python\n",
            "    =====================================================================\n",
            "    \n",
            "    **pandas** is a Python package providing fast, flexible, and expressive data\n",
            "    structures designed to make working with \"relational\" or \"labeled\" data both\n",
            "    easy and intuitive. It aims to be the fundamental high-level building block for\n",
            "    doing practical, **real world** data analysis in Python. Additionally, it has\n",
            "    the broader goal of becoming **the most powerful and flexible open source data\n",
            "    analysis / manipulation tool available in any language**. It is already well on\n",
            "    its way toward this goal.\n",
            "    \n",
            "    Main Features\n",
            "    -------------\n",
            "    Here are just a few of the things that pandas does well:\n",
            "    \n",
            "      - Easy handling of missing data in floating point as well as non-floating\n",
            "        point data.\n",
            "      - Size mutability: columns can be inserted and deleted from DataFrame and\n",
            "        higher dimensional objects\n",
            "      - Automatic and explicit data alignment: objects can be explicitly aligned\n",
            "        to a set of labels, or the user can simply ignore the labels and let\n",
            "        `Series`, `DataFrame`, etc. automatically align the data for you in\n",
            "        computations.\n",
            "      - Powerful, flexible group by functionality to perform split-apply-combine\n",
            "        operations on data sets, for both aggregating and transforming data.\n",
            "      - Make it easy to convert ragged, differently-indexed data in other Python\n",
            "        and NumPy data structures into DataFrame objects.\n",
            "      - Intelligent label-based slicing, fancy indexing, and subsetting of large\n",
            "        data sets.\n",
            "      - Intuitive merging and joining data sets.\n",
            "      - Flexible reshaping and pivoting of data sets.\n",
            "      - Hierarchical labeling of axes (possible to have multiple labels per tick).\n",
            "      - Robust IO tools for loading data from flat files (CSV and delimited),\n",
            "        Excel files, databases, and saving/loading data from the ultrafast HDF5\n",
            "        format.\n",
            "      - Time series-specific functionality: date range generation and frequency\n",
            "        conversion, moving window statistics, date shifting and lagging.\n",
            "\n",
            "PACKAGE CONTENTS\n",
            "    _config (package)\n",
            "    _libs (package)\n",
            "    _testing (package)\n",
            "    _typing\n",
            "    _version\n",
            "    api (package)\n",
            "    arrays (package)\n",
            "    compat (package)\n",
            "    conftest\n",
            "    core (package)\n",
            "    errors (package)\n",
            "    io (package)\n",
            "    plotting (package)\n",
            "    testing\n",
            "    tests (package)\n",
            "    tseries (package)\n",
            "    util (package)\n",
            "\n",
            "SUBMODULES\n",
            "    _hashtable\n",
            "    _lib\n",
            "    _tslib\n",
            "    offsets\n",
            "\n",
            "FUNCTIONS\n",
            "    __getattr__(name)\n",
            "        # GH 27101\n",
            "\n",
            "DATA\n",
            "    IndexSlice = <pandas.core.indexing._IndexSlice object>\n",
            "    NA = <NA>\n",
            "    NaT = NaT\n",
            "    __docformat__ = 'restructuredtext'\n",
            "    __git_version__ = '66e3805b8cabe977f40c05259cc3fcf7ead5687d'\n",
            "    describe_option = <pandas._config.config.CallableDynamicDoc object>\n",
            "    get_option = <pandas._config.config.CallableDynamicDoc object>\n",
            "    options = <pandas._config.config.DictWrapper object>\n",
            "    reset_option = <pandas._config.config.CallableDynamicDoc object>\n",
            "    set_option = <pandas._config.config.CallableDynamicDoc object>\n",
            "\n",
            "VERSION\n",
            "    1.3.5\n",
            "\n",
            "FILE\n",
            "    /usr/local/lib/python3.7/dist-packages/pandas/__init__.py\n",
            "\n",
            "\n"
          ]
        }
      ]
    },
    {
      "cell_type": "code",
      "metadata": {
        "id": "x5D2pfzhieIR",
        "outputId": "712e8472-5ac8-44d4-ce97-03d807320fd8",
        "colab": {
          "base_uri": "https://localhost:8080/"
        }
      },
      "source": [
        "# Después de importar un módulo, `dir (module)` te permite ver una lista de todas las funciones implementadas en esa biblioteca.\n",
        "dir(pd)"
      ],
      "execution_count": 37,
      "outputs": [
        {
          "output_type": "execute_result",
          "data": {
            "text/plain": [
              "['BooleanDtype',\n",
              " 'Categorical',\n",
              " 'CategoricalDtype',\n",
              " 'CategoricalIndex',\n",
              " 'DataFrame',\n",
              " 'DateOffset',\n",
              " 'DatetimeIndex',\n",
              " 'DatetimeTZDtype',\n",
              " 'ExcelFile',\n",
              " 'ExcelWriter',\n",
              " 'Flags',\n",
              " 'Float32Dtype',\n",
              " 'Float64Dtype',\n",
              " 'Float64Index',\n",
              " 'Grouper',\n",
              " 'HDFStore',\n",
              " 'Index',\n",
              " 'IndexSlice',\n",
              " 'Int16Dtype',\n",
              " 'Int32Dtype',\n",
              " 'Int64Dtype',\n",
              " 'Int64Index',\n",
              " 'Int8Dtype',\n",
              " 'Interval',\n",
              " 'IntervalDtype',\n",
              " 'IntervalIndex',\n",
              " 'MultiIndex',\n",
              " 'NA',\n",
              " 'NaT',\n",
              " 'NamedAgg',\n",
              " 'Period',\n",
              " 'PeriodDtype',\n",
              " 'PeriodIndex',\n",
              " 'RangeIndex',\n",
              " 'Series',\n",
              " 'SparseDtype',\n",
              " 'StringDtype',\n",
              " 'Timedelta',\n",
              " 'TimedeltaIndex',\n",
              " 'Timestamp',\n",
              " 'UInt16Dtype',\n",
              " 'UInt32Dtype',\n",
              " 'UInt64Dtype',\n",
              " 'UInt64Index',\n",
              " 'UInt8Dtype',\n",
              " '__builtins__',\n",
              " '__cached__',\n",
              " '__doc__',\n",
              " '__docformat__',\n",
              " '__file__',\n",
              " '__getattr__',\n",
              " '__git_version__',\n",
              " '__loader__',\n",
              " '__name__',\n",
              " '__package__',\n",
              " '__path__',\n",
              " '__spec__',\n",
              " '__version__',\n",
              " '_config',\n",
              " '_hashtable',\n",
              " '_is_numpy_dev',\n",
              " '_lib',\n",
              " '_libs',\n",
              " '_np_version_under1p18',\n",
              " '_testing',\n",
              " '_tslib',\n",
              " '_typing',\n",
              " '_version',\n",
              " 'api',\n",
              " 'array',\n",
              " 'arrays',\n",
              " 'bdate_range',\n",
              " 'compat',\n",
              " 'concat',\n",
              " 'core',\n",
              " 'crosstab',\n",
              " 'cut',\n",
              " 'date_range',\n",
              " 'describe_option',\n",
              " 'errors',\n",
              " 'eval',\n",
              " 'factorize',\n",
              " 'get_dummies',\n",
              " 'get_option',\n",
              " 'infer_freq',\n",
              " 'interval_range',\n",
              " 'io',\n",
              " 'isna',\n",
              " 'isnull',\n",
              " 'json_normalize',\n",
              " 'lreshape',\n",
              " 'melt',\n",
              " 'merge',\n",
              " 'merge_asof',\n",
              " 'merge_ordered',\n",
              " 'notna',\n",
              " 'notnull',\n",
              " 'offsets',\n",
              " 'option_context',\n",
              " 'options',\n",
              " 'pandas',\n",
              " 'period_range',\n",
              " 'pivot',\n",
              " 'pivot_table',\n",
              " 'plotting',\n",
              " 'qcut',\n",
              " 'read_clipboard',\n",
              " 'read_csv',\n",
              " 'read_excel',\n",
              " 'read_feather',\n",
              " 'read_fwf',\n",
              " 'read_gbq',\n",
              " 'read_hdf',\n",
              " 'read_html',\n",
              " 'read_json',\n",
              " 'read_orc',\n",
              " 'read_parquet',\n",
              " 'read_pickle',\n",
              " 'read_sas',\n",
              " 'read_spss',\n",
              " 'read_sql',\n",
              " 'read_sql_query',\n",
              " 'read_sql_table',\n",
              " 'read_stata',\n",
              " 'read_table',\n",
              " 'read_xml',\n",
              " 'reset_option',\n",
              " 'set_eng_float_format',\n",
              " 'set_option',\n",
              " 'show_versions',\n",
              " 'test',\n",
              " 'testing',\n",
              " 'timedelta_range',\n",
              " 'to_datetime',\n",
              " 'to_numeric',\n",
              " 'to_pickle',\n",
              " 'to_timedelta',\n",
              " 'tseries',\n",
              " 'unique',\n",
              " 'util',\n",
              " 'value_counts',\n",
              " 'wide_to_long']"
            ]
          },
          "metadata": {},
          "execution_count": 37
        }
      ]
    },
    {
      "cell_type": "markdown",
      "metadata": {
        "id": "u7uarH_JimaY"
      },
      "source": [
        "# Escribiendo paquetes\n",
        "\n",
        "* Los paquetes son bibliotecas que contienen múltiples módulos y archivos. \n",
        "* Se almacenan en directorios y tienen un requisito importante: cada paquete es un directorio que **debe** contener un archivo de inicialización llamado `__init__.py`.\n",
        "\n",
        "* El archivo puede estar completamente vacío, pero se importa y se ejecuta con la función de importación. \n",
        "\n",
        "* Esto permite establecer algunas reglas, o pasos iniciales a realizar con la primera importación del paquete.\n",
        "\n",
        "* Python sólo importará (e inicializará) el paquete una vez.\n",
        "\n",
        "* Una parte útil del archivo `__init__.py` es que se puede limitar lo que se importa con el comando `from package import *`."
      ]
    },
    {
      "cell_type": "code",
      "metadata": {
        "id": "xh5sXfQ2kQt8"
      },
      "source": [
        "#__init__.py\n",
        "\n",
        "__all__ = [\"class1\", \"class2\"]"
      ],
      "execution_count": 38,
      "outputs": []
    },
    {
      "cell_type": "markdown",
      "metadata": {
        "id": "Va_lZRvOkVbX"
      },
      "source": [
        "Esto significa que de `from package import *` sólo importa la *class1* y *class2*."
      ]
    },
    {
      "cell_type": "markdown",
      "metadata": {
        "id": "PBJ-9TEPlqXM"
      },
      "source": [
        "# Data Analysis"
      ]
    },
    {
      "cell_type": "markdown",
      "metadata": {
        "id": "fgDwGkPSmlsI"
      },
      "source": [
        "## Matrices de números (Numpy arrays)\n",
        "\n",
        "* El análisis de datos suele implicar la realización de operaciones sobre grandes cantidades de datos. \n",
        "\n",
        "* Numpy es un poderoso conjunto de herramientas que le permite trabajar rápida y fácilmente con listas de datos completas. \n",
        "\n",
        "* Nos referimos a estas listas como matrices.\n",
        "\n",
        "* Por convención, importamos Numpy como np: *import numpy as np*\n",
        "\n",
        "* También podemos querer generar un montón de listas de *floats* aleatorios para estos ejercicios. Python hace eso con el módulo *random*."
      ]
    },
    {
      "cell_type": "code",
      "metadata": {
        "id": "ZHwX2dTvm7Sj",
        "colab": {
          "base_uri": "https://localhost:8080/"
        },
        "outputId": "08ca214c-752b-4fa1-e696-11b37f143cd0"
      },
      "source": [
        "import numpy as np\n",
        "import random\n",
        "\n",
        "def generate_float_list(lwr, upr, num):\n",
        "    \"\"\"\n",
        "    Return a list of num random decimal floats ranged between lwr and upr.\n",
        "    \n",
        "    Range(lwr, upr) creates a list of every integer between lwr and upr.\n",
        "    random.sample takes num integers from the range list, chosen randomly.\n",
        "    \"\"\"\n",
        "    int_list = random.sample(range(lwr, upr), num)\n",
        "    return [x/100 for x in int_list]\n",
        "\n",
        "# Create two lists\n",
        "height = generate_float_list(100, 220, 10)\n",
        "weight = generate_float_list(5000, 20000, 10)\n",
        "\n",
        "# Convert these to Numpy arrays\n",
        "np_height = np.array(height)\n",
        "np_weight = np.array(weight)\n",
        "\n",
        "print(np_height)\n",
        "print(np_weight)"
      ],
      "execution_count": 39,
      "outputs": [
        {
          "output_type": "stream",
          "name": "stdout",
          "text": [
            "[2.16 1.11 1.83 1.65 1.28 1.92 1.76 1.53 1.75 1.52]\n",
            "[192.28 139.07  92.79  89.51 141.24  52.54  65.4   79.51 125.35 125.68]\n"
          ]
        }
      ]
    },
    {
      "cell_type": "markdown",
      "metadata": {
        "id": "iAitCGl_m_RR"
      },
      "source": [
        "Hay una útil función de temporizador incorporada. Inicia cualquier línea de código con *%time* y obtendrás la salida de cuánto tiempo tardó en ejecutarse el código.\n",
        "\n",
        "Esto es importante cuando se trabaja con operaciones de datos intensivos en las que se quiere exprimir cada gota de eficiencia optimizando el código.\n",
        "\n",
        "Ahora podemos realizar operaciones directamente en todos los valores de estas matrices Numpy. Aquí hay dos métodos sencillos de usar."
      ]
    },
    {
      "cell_type": "markdown",
      "metadata": {
        "id": "rKGfmZT6n_0U"
      },
      "source": [
        "* **Element-wise calculations**: puede tratar las matrices de Numpy como lo haría con *floats* o *integers* individuales. Tenga en cuenta que deben tener la misma forma (es decir, número o elementos), o puede realizar operaciones bit a bit (operar en cada elemento de la matriz) con un solo float o integer\n",
        "* **Filtering**: puede filtrar rápidamente matrices Numpy realizando operaciones booleanas: `np_array [np_array> num]`, o, para una respuesta puramente booleana, `np_array>num`"
      ]
    },
    {
      "cell_type": "code",
      "metadata": {
        "id": "JwrQVN2QoLZv",
        "outputId": "50e6cb09-a1d0-419d-fc9f-726bb240db93",
        "colab": {
          "base_uri": "https://localhost:8080/"
        }
      },
      "source": [
        "# Calculate body-mass index based on the heights and weights in our arrays\n",
        "# Time the calculation ... it won't be long\n",
        "%time bmi = np_weight / np_height ** 2\n",
        "\n",
        "print(bmi)\n",
        "\n",
        "# Any BMI > 35 is considered severely obese. Let's see who in our sample is at risk.\n",
        "\n",
        "# Get a boolean response\n",
        "print(bmi > 35)\n",
        "\n",
        "# Or print only BMI values above 35\n",
        "print(bmi[bmi > 35])"
      ],
      "execution_count": 40,
      "outputs": [
        {
          "output_type": "stream",
          "name": "stdout",
          "text": [
            "CPU times: user 40 µs, sys: 5 µs, total: 45 µs\n",
            "Wall time: 48.2 µs\n",
            "[ 41.21227709 112.87233179  27.70760548  32.87786961  86.20605469\n",
            "  14.25238715  21.11311983  33.9655688   40.93061224  54.39750693]\n",
            "[ True  True False False  True False False False  True  True]\n",
            "[ 41.21227709 112.87233179  86.20605469  40.93061224  54.39750693]\n"
          ]
        }
      ]
    },
    {
      "cell_type": "markdown",
      "metadata": {
        "id": "t-RgeJrwo9S9"
      },
      "source": [
        "## Pandas \n",
        "\n",
        "* [Tutorial de Pandas](https://pandas.pydata.org/pandas-docs/stable/getting_started/10min.html)\n",
        "\n",
        "* Pandas es un paquete de Python que proporciona estructuras de datos rápidas, flexibles y expresivas diseñadas para hacer que el trabajo con datos \"relacionales\" o \"etiquetados\" sea fácil e intuitivo. \n",
        "\n",
        "* Su objetivo es ser el bloque de construcción fundamental de alto nivel para hacer análisis de datos prácticos y del mundo real en Python. \n",
        "\n",
        "* Además, tiene el objetivo más amplio de convertirse en la herramienta de análisis / manipulación de datos de código abierto más potente y flexible disponible en cualquier idioma.\n",
        "\n",
        "* Pandas permite manipular los datos ya sea como una serie (similar a Numpy, pero con características añadidas), o en una forma tabular con filas de valores y columnas con nombre (similar a la forma en que se puede pensar en una hoja de cálculo de Excel).\n",
        "\n",
        "Esta forma tabular se conoce como *DataFrame*. "
      ]
    },
    {
      "cell_type": "markdown",
      "metadata": {
        "id": "7MQ0ZLjTrYTI"
      },
      "source": [
        "### Creación de objetos\n",
        "\n",
        "Una *Series* genera una lista de valores con un índice entero por defecto (pero tiene una dimensión). Se suele usar para generar time series.\n",
        "\n"
      ]
    },
    {
      "cell_type": "code",
      "metadata": {
        "id": "J6h0fq8qoLXR",
        "outputId": "1751d906-01b2-4efa-cb41-eba89c4ad534",
        "colab": {
          "base_uri": "https://localhost:8080/"
        }
      },
      "source": [
        "import pandas as pd\n",
        "import numpy as np\n",
        "\n",
        "s = pd.Series([1,3,5,np.nan,6,8])\n",
        "s"
      ],
      "execution_count": 41,
      "outputs": [
        {
          "output_type": "execute_result",
          "data": {
            "text/plain": [
              "0    1.0\n",
              "1    3.0\n",
              "2    5.0\n",
              "3    NaN\n",
              "4    6.0\n",
              "5    8.0\n",
              "dtype: float64"
            ]
          },
          "metadata": {},
          "execution_count": 41
        }
      ]
    },
    {
      "cell_type": "markdown",
      "metadata": {
        "id": "OFNg1o_isvfd"
      },
      "source": [
        "* *np.nan* es la forma por defecto de Numpy de presentar un valor como \"no-un-número\". \n",
        "\n",
        "* Por ejemplo, dividir por cero devuelve *np.nan*. Esto significa que puede realizar operaciones complejas de forma relativamente segura y solucionar los daños posteriormente."
      ]
    },
    {
      "cell_type": "code",
      "metadata": {
        "id": "J4SSH6rSsyDl",
        "outputId": "50a129bf-30bb-43d0-afd5-9e9c727e5aaa",
        "colab": {
          "base_uri": "https://localhost:8080/"
        }
      },
      "source": [
        "# Crea un DataFrame pasando una matriz numpy, con un índice de fecha y hora y columnas etiquetadas - c/ ISO-formatted date (YYYYMMDD)\n",
        "dates = pd.date_range('20130101', periods=6)\n",
        "dates"
      ],
      "execution_count": 42,
      "outputs": [
        {
          "output_type": "execute_result",
          "data": {
            "text/plain": [
              "DatetimeIndex(['2013-01-01', '2013-01-02', '2013-01-03', '2013-01-04',\n",
              "               '2013-01-05', '2013-01-06'],\n",
              "              dtype='datetime64[ns]', freq='D')"
            ]
          },
          "metadata": {},
          "execution_count": 42
        }
      ]
    },
    {
      "cell_type": "markdown",
      "metadata": {
        "id": "WD6Pwg7Zs_FO"
      },
      "source": [
        "Los números de la parte izquierda de una tabla (row name o primera columna) se llaman índice. Esto le permite hacer referencia a una fila específica. \n",
        "\n",
        "Sin embargo, Pandas le permite establecer su propio índice.\n",
        "\n",
        "Puede establecer una de las columnas existentes como índice (siempre y cuando conste de valores únicos) o puede establecer un nuevo índice personalizado."
      ]
    },
    {
      "cell_type": "code",
      "metadata": {
        "id": "E_0ZgyASs2Cm",
        "outputId": "da2031a7-4fec-4c96-ccbf-cc524d0448a6",
        "colab": {
          "base_uri": "https://localhost:8080/",
          "height": 237
        }
      },
      "source": [
        "# Create a dataframe using the date range we created above as the index\n",
        "df = pd.DataFrame(np.random.randn(6,4), index=dates, columns=list('ABCD'))\n",
        "df"
      ],
      "execution_count": 43,
      "outputs": [
        {
          "output_type": "execute_result",
          "data": {
            "text/plain": [
              "                   A         B         C         D\n",
              "2013-01-01  1.755240  1.144730  0.384722 -0.091226\n",
              "2013-01-02  1.844514  0.799883  0.975042  0.360253\n",
              "2013-01-03  0.241422 -0.473744  0.199555 -0.333147\n",
              "2013-01-04 -1.723905  0.837317 -1.742124 -0.125787\n",
              "2013-01-05 -0.986546  0.183913  0.241831 -1.014229\n",
              "2013-01-06  0.456204  0.211631  1.294752  0.247312"
            ],
            "text/html": [
              "\n",
              "  <div id=\"df-35a50d69-910e-45f6-b8c5-4a554dac256c\">\n",
              "    <div class=\"colab-df-container\">\n",
              "      <div>\n",
              "<style scoped>\n",
              "    .dataframe tbody tr th:only-of-type {\n",
              "        vertical-align: middle;\n",
              "    }\n",
              "\n",
              "    .dataframe tbody tr th {\n",
              "        vertical-align: top;\n",
              "    }\n",
              "\n",
              "    .dataframe thead th {\n",
              "        text-align: right;\n",
              "    }\n",
              "</style>\n",
              "<table border=\"1\" class=\"dataframe\">\n",
              "  <thead>\n",
              "    <tr style=\"text-align: right;\">\n",
              "      <th></th>\n",
              "      <th>A</th>\n",
              "      <th>B</th>\n",
              "      <th>C</th>\n",
              "      <th>D</th>\n",
              "    </tr>\n",
              "  </thead>\n",
              "  <tbody>\n",
              "    <tr>\n",
              "      <th>2013-01-01</th>\n",
              "      <td>1.755240</td>\n",
              "      <td>1.144730</td>\n",
              "      <td>0.384722</td>\n",
              "      <td>-0.091226</td>\n",
              "    </tr>\n",
              "    <tr>\n",
              "      <th>2013-01-02</th>\n",
              "      <td>1.844514</td>\n",
              "      <td>0.799883</td>\n",
              "      <td>0.975042</td>\n",
              "      <td>0.360253</td>\n",
              "    </tr>\n",
              "    <tr>\n",
              "      <th>2013-01-03</th>\n",
              "      <td>0.241422</td>\n",
              "      <td>-0.473744</td>\n",
              "      <td>0.199555</td>\n",
              "      <td>-0.333147</td>\n",
              "    </tr>\n",
              "    <tr>\n",
              "      <th>2013-01-04</th>\n",
              "      <td>-1.723905</td>\n",
              "      <td>0.837317</td>\n",
              "      <td>-1.742124</td>\n",
              "      <td>-0.125787</td>\n",
              "    </tr>\n",
              "    <tr>\n",
              "      <th>2013-01-05</th>\n",
              "      <td>-0.986546</td>\n",
              "      <td>0.183913</td>\n",
              "      <td>0.241831</td>\n",
              "      <td>-1.014229</td>\n",
              "    </tr>\n",
              "    <tr>\n",
              "      <th>2013-01-06</th>\n",
              "      <td>0.456204</td>\n",
              "      <td>0.211631</td>\n",
              "      <td>1.294752</td>\n",
              "      <td>0.247312</td>\n",
              "    </tr>\n",
              "  </tbody>\n",
              "</table>\n",
              "</div>\n",
              "      <button class=\"colab-df-convert\" onclick=\"convertToInteractive('df-35a50d69-910e-45f6-b8c5-4a554dac256c')\"\n",
              "              title=\"Convert this dataframe to an interactive table.\"\n",
              "              style=\"display:none;\">\n",
              "        \n",
              "  <svg xmlns=\"http://www.w3.org/2000/svg\" height=\"24px\"viewBox=\"0 0 24 24\"\n",
              "       width=\"24px\">\n",
              "    <path d=\"M0 0h24v24H0V0z\" fill=\"none\"/>\n",
              "    <path d=\"M18.56 5.44l.94 2.06.94-2.06 2.06-.94-2.06-.94-.94-2.06-.94 2.06-2.06.94zm-11 1L8.5 8.5l.94-2.06 2.06-.94-2.06-.94L8.5 2.5l-.94 2.06-2.06.94zm10 10l.94 2.06.94-2.06 2.06-.94-2.06-.94-.94-2.06-.94 2.06-2.06.94z\"/><path d=\"M17.41 7.96l-1.37-1.37c-.4-.4-.92-.59-1.43-.59-.52 0-1.04.2-1.43.59L10.3 9.45l-7.72 7.72c-.78.78-.78 2.05 0 2.83L4 21.41c.39.39.9.59 1.41.59.51 0 1.02-.2 1.41-.59l7.78-7.78 2.81-2.81c.8-.78.8-2.07 0-2.86zM5.41 20L4 18.59l7.72-7.72 1.47 1.35L5.41 20z\"/>\n",
              "  </svg>\n",
              "      </button>\n",
              "      \n",
              "  <style>\n",
              "    .colab-df-container {\n",
              "      display:flex;\n",
              "      flex-wrap:wrap;\n",
              "      gap: 12px;\n",
              "    }\n",
              "\n",
              "    .colab-df-convert {\n",
              "      background-color: #E8F0FE;\n",
              "      border: none;\n",
              "      border-radius: 50%;\n",
              "      cursor: pointer;\n",
              "      display: none;\n",
              "      fill: #1967D2;\n",
              "      height: 32px;\n",
              "      padding: 0 0 0 0;\n",
              "      width: 32px;\n",
              "    }\n",
              "\n",
              "    .colab-df-convert:hover {\n",
              "      background-color: #E2EBFA;\n",
              "      box-shadow: 0px 1px 2px rgba(60, 64, 67, 0.3), 0px 1px 3px 1px rgba(60, 64, 67, 0.15);\n",
              "      fill: #174EA6;\n",
              "    }\n",
              "\n",
              "    [theme=dark] .colab-df-convert {\n",
              "      background-color: #3B4455;\n",
              "      fill: #D2E3FC;\n",
              "    }\n",
              "\n",
              "    [theme=dark] .colab-df-convert:hover {\n",
              "      background-color: #434B5C;\n",
              "      box-shadow: 0px 1px 3px 1px rgba(0, 0, 0, 0.15);\n",
              "      filter: drop-shadow(0px 1px 2px rgba(0, 0, 0, 0.3));\n",
              "      fill: #FFFFFF;\n",
              "    }\n",
              "  </style>\n",
              "\n",
              "      <script>\n",
              "        const buttonEl =\n",
              "          document.querySelector('#df-35a50d69-910e-45f6-b8c5-4a554dac256c button.colab-df-convert');\n",
              "        buttonEl.style.display =\n",
              "          google.colab.kernel.accessAllowed ? 'block' : 'none';\n",
              "\n",
              "        async function convertToInteractive(key) {\n",
              "          const element = document.querySelector('#df-35a50d69-910e-45f6-b8c5-4a554dac256c');\n",
              "          const dataTable =\n",
              "            await google.colab.kernel.invokeFunction('convertToInteractive',\n",
              "                                                     [key], {});\n",
              "          if (!dataTable) return;\n",
              "\n",
              "          const docLinkHtml = 'Like what you see? Visit the ' +\n",
              "            '<a target=\"_blank\" href=https://colab.research.google.com/notebooks/data_table.ipynb>data table notebook</a>'\n",
              "            + ' to learn more about interactive tables.';\n",
              "          element.innerHTML = '';\n",
              "          dataTable['output_type'] = 'display_data';\n",
              "          await google.colab.output.renderOutput(dataTable, element);\n",
              "          const docLink = document.createElement('div');\n",
              "          docLink.innerHTML = docLinkHtml;\n",
              "          element.appendChild(docLink);\n",
              "        }\n",
              "      </script>\n",
              "    </div>\n",
              "  </div>\n",
              "  "
            ]
          },
          "metadata": {},
          "execution_count": 43
        }
      ]
    },
    {
      "cell_type": "code",
      "metadata": {
        "id": "uV5Pqbnjs48M",
        "outputId": "8a5c909c-c01e-4dd3-af79-7f908757c5e3",
        "colab": {
          "base_uri": "https://localhost:8080/",
          "height": 206
        }
      },
      "source": [
        "# También podemos mezclar datos de texto y numéricos con un índice generado automáticamente.\n",
        "dict = {\"country\": [\"Brazil\", \"Russia\", \"India\", \"China\", \"South Africa\"],\n",
        "       \"capital\": [\"Brasilia\", \"Moscow\", \"New Dehli\", \"Beijing\", \"Pretoria\"],\n",
        "       \"area\": [8.516, 17.10, 3.286, 9.597, 1.221],\n",
        "       \"population\": [200.4, 143.5, 1252, 1357, 52.98] }\n",
        "\n",
        "brics = pd.DataFrame(dict)\n",
        "brics"
      ],
      "execution_count": 44,
      "outputs": [
        {
          "output_type": "execute_result",
          "data": {
            "text/plain": [
              "        country    capital    area  population\n",
              "0        Brazil   Brasilia   8.516      200.40\n",
              "1        Russia     Moscow  17.100      143.50\n",
              "2         India  New Dehli   3.286     1252.00\n",
              "3         China    Beijing   9.597     1357.00\n",
              "4  South Africa   Pretoria   1.221       52.98"
            ],
            "text/html": [
              "\n",
              "  <div id=\"df-14de1a54-fbc2-4ece-978e-454976c7cae2\">\n",
              "    <div class=\"colab-df-container\">\n",
              "      <div>\n",
              "<style scoped>\n",
              "    .dataframe tbody tr th:only-of-type {\n",
              "        vertical-align: middle;\n",
              "    }\n",
              "\n",
              "    .dataframe tbody tr th {\n",
              "        vertical-align: top;\n",
              "    }\n",
              "\n",
              "    .dataframe thead th {\n",
              "        text-align: right;\n",
              "    }\n",
              "</style>\n",
              "<table border=\"1\" class=\"dataframe\">\n",
              "  <thead>\n",
              "    <tr style=\"text-align: right;\">\n",
              "      <th></th>\n",
              "      <th>country</th>\n",
              "      <th>capital</th>\n",
              "      <th>area</th>\n",
              "      <th>population</th>\n",
              "    </tr>\n",
              "  </thead>\n",
              "  <tbody>\n",
              "    <tr>\n",
              "      <th>0</th>\n",
              "      <td>Brazil</td>\n",
              "      <td>Brasilia</td>\n",
              "      <td>8.516</td>\n",
              "      <td>200.40</td>\n",
              "    </tr>\n",
              "    <tr>\n",
              "      <th>1</th>\n",
              "      <td>Russia</td>\n",
              "      <td>Moscow</td>\n",
              "      <td>17.100</td>\n",
              "      <td>143.50</td>\n",
              "    </tr>\n",
              "    <tr>\n",
              "      <th>2</th>\n",
              "      <td>India</td>\n",
              "      <td>New Dehli</td>\n",
              "      <td>3.286</td>\n",
              "      <td>1252.00</td>\n",
              "    </tr>\n",
              "    <tr>\n",
              "      <th>3</th>\n",
              "      <td>China</td>\n",
              "      <td>Beijing</td>\n",
              "      <td>9.597</td>\n",
              "      <td>1357.00</td>\n",
              "    </tr>\n",
              "    <tr>\n",
              "      <th>4</th>\n",
              "      <td>South Africa</td>\n",
              "      <td>Pretoria</td>\n",
              "      <td>1.221</td>\n",
              "      <td>52.98</td>\n",
              "    </tr>\n",
              "  </tbody>\n",
              "</table>\n",
              "</div>\n",
              "      <button class=\"colab-df-convert\" onclick=\"convertToInteractive('df-14de1a54-fbc2-4ece-978e-454976c7cae2')\"\n",
              "              title=\"Convert this dataframe to an interactive table.\"\n",
              "              style=\"display:none;\">\n",
              "        \n",
              "  <svg xmlns=\"http://www.w3.org/2000/svg\" height=\"24px\"viewBox=\"0 0 24 24\"\n",
              "       width=\"24px\">\n",
              "    <path d=\"M0 0h24v24H0V0z\" fill=\"none\"/>\n",
              "    <path d=\"M18.56 5.44l.94 2.06.94-2.06 2.06-.94-2.06-.94-.94-2.06-.94 2.06-2.06.94zm-11 1L8.5 8.5l.94-2.06 2.06-.94-2.06-.94L8.5 2.5l-.94 2.06-2.06.94zm10 10l.94 2.06.94-2.06 2.06-.94-2.06-.94-.94-2.06-.94 2.06-2.06.94z\"/><path d=\"M17.41 7.96l-1.37-1.37c-.4-.4-.92-.59-1.43-.59-.52 0-1.04.2-1.43.59L10.3 9.45l-7.72 7.72c-.78.78-.78 2.05 0 2.83L4 21.41c.39.39.9.59 1.41.59.51 0 1.02-.2 1.41-.59l7.78-7.78 2.81-2.81c.8-.78.8-2.07 0-2.86zM5.41 20L4 18.59l7.72-7.72 1.47 1.35L5.41 20z\"/>\n",
              "  </svg>\n",
              "      </button>\n",
              "      \n",
              "  <style>\n",
              "    .colab-df-container {\n",
              "      display:flex;\n",
              "      flex-wrap:wrap;\n",
              "      gap: 12px;\n",
              "    }\n",
              "\n",
              "    .colab-df-convert {\n",
              "      background-color: #E8F0FE;\n",
              "      border: none;\n",
              "      border-radius: 50%;\n",
              "      cursor: pointer;\n",
              "      display: none;\n",
              "      fill: #1967D2;\n",
              "      height: 32px;\n",
              "      padding: 0 0 0 0;\n",
              "      width: 32px;\n",
              "    }\n",
              "\n",
              "    .colab-df-convert:hover {\n",
              "      background-color: #E2EBFA;\n",
              "      box-shadow: 0px 1px 2px rgba(60, 64, 67, 0.3), 0px 1px 3px 1px rgba(60, 64, 67, 0.15);\n",
              "      fill: #174EA6;\n",
              "    }\n",
              "\n",
              "    [theme=dark] .colab-df-convert {\n",
              "      background-color: #3B4455;\n",
              "      fill: #D2E3FC;\n",
              "    }\n",
              "\n",
              "    [theme=dark] .colab-df-convert:hover {\n",
              "      background-color: #434B5C;\n",
              "      box-shadow: 0px 1px 3px 1px rgba(0, 0, 0, 0.15);\n",
              "      filter: drop-shadow(0px 1px 2px rgba(0, 0, 0, 0.3));\n",
              "      fill: #FFFFFF;\n",
              "    }\n",
              "  </style>\n",
              "\n",
              "      <script>\n",
              "        const buttonEl =\n",
              "          document.querySelector('#df-14de1a54-fbc2-4ece-978e-454976c7cae2 button.colab-df-convert');\n",
              "        buttonEl.style.display =\n",
              "          google.colab.kernel.accessAllowed ? 'block' : 'none';\n",
              "\n",
              "        async function convertToInteractive(key) {\n",
              "          const element = document.querySelector('#df-14de1a54-fbc2-4ece-978e-454976c7cae2');\n",
              "          const dataTable =\n",
              "            await google.colab.kernel.invokeFunction('convertToInteractive',\n",
              "                                                     [key], {});\n",
              "          if (!dataTable) return;\n",
              "\n",
              "          const docLinkHtml = 'Like what you see? Visit the ' +\n",
              "            '<a target=\"_blank\" href=https://colab.research.google.com/notebooks/data_table.ipynb>data table notebook</a>'\n",
              "            + ' to learn more about interactive tables.';\n",
              "          element.innerHTML = '';\n",
              "          dataTable['output_type'] = 'display_data';\n",
              "          await google.colab.output.renderOutput(dataTable, element);\n",
              "          const docLink = document.createElement('div');\n",
              "          docLink.innerHTML = docLinkHtml;\n",
              "          element.appendChild(docLink);\n",
              "        }\n",
              "      </script>\n",
              "    </div>\n",
              "  </div>\n",
              "  "
            ]
          },
          "metadata": {},
          "execution_count": 44
        }
      ]
    },
    {
      "cell_type": "code",
      "metadata": {
        "id": "jlJUjhi8tAnS",
        "outputId": "db268d7e-760f-4071-ed60-24a086952c81",
        "colab": {
          "base_uri": "https://localhost:8080/",
          "height": 206
        }
      },
      "source": [
        "# Set the ISO two-letter country codes as the index\n",
        "brics.index = [\"BR\", \"RU\", \"IN\", \"CH\", \"SA\"]\n",
        "\n",
        "brics"
      ],
      "execution_count": 45,
      "outputs": [
        {
          "output_type": "execute_result",
          "data": {
            "text/plain": [
              "         country    capital    area  population\n",
              "BR        Brazil   Brasilia   8.516      200.40\n",
              "RU        Russia     Moscow  17.100      143.50\n",
              "IN         India  New Dehli   3.286     1252.00\n",
              "CH         China    Beijing   9.597     1357.00\n",
              "SA  South Africa   Pretoria   1.221       52.98"
            ],
            "text/html": [
              "\n",
              "  <div id=\"df-7f81a7b0-7d73-485d-8683-b88d1c400fc5\">\n",
              "    <div class=\"colab-df-container\">\n",
              "      <div>\n",
              "<style scoped>\n",
              "    .dataframe tbody tr th:only-of-type {\n",
              "        vertical-align: middle;\n",
              "    }\n",
              "\n",
              "    .dataframe tbody tr th {\n",
              "        vertical-align: top;\n",
              "    }\n",
              "\n",
              "    .dataframe thead th {\n",
              "        text-align: right;\n",
              "    }\n",
              "</style>\n",
              "<table border=\"1\" class=\"dataframe\">\n",
              "  <thead>\n",
              "    <tr style=\"text-align: right;\">\n",
              "      <th></th>\n",
              "      <th>country</th>\n",
              "      <th>capital</th>\n",
              "      <th>area</th>\n",
              "      <th>population</th>\n",
              "    </tr>\n",
              "  </thead>\n",
              "  <tbody>\n",
              "    <tr>\n",
              "      <th>BR</th>\n",
              "      <td>Brazil</td>\n",
              "      <td>Brasilia</td>\n",
              "      <td>8.516</td>\n",
              "      <td>200.40</td>\n",
              "    </tr>\n",
              "    <tr>\n",
              "      <th>RU</th>\n",
              "      <td>Russia</td>\n",
              "      <td>Moscow</td>\n",
              "      <td>17.100</td>\n",
              "      <td>143.50</td>\n",
              "    </tr>\n",
              "    <tr>\n",
              "      <th>IN</th>\n",
              "      <td>India</td>\n",
              "      <td>New Dehli</td>\n",
              "      <td>3.286</td>\n",
              "      <td>1252.00</td>\n",
              "    </tr>\n",
              "    <tr>\n",
              "      <th>CH</th>\n",
              "      <td>China</td>\n",
              "      <td>Beijing</td>\n",
              "      <td>9.597</td>\n",
              "      <td>1357.00</td>\n",
              "    </tr>\n",
              "    <tr>\n",
              "      <th>SA</th>\n",
              "      <td>South Africa</td>\n",
              "      <td>Pretoria</td>\n",
              "      <td>1.221</td>\n",
              "      <td>52.98</td>\n",
              "    </tr>\n",
              "  </tbody>\n",
              "</table>\n",
              "</div>\n",
              "      <button class=\"colab-df-convert\" onclick=\"convertToInteractive('df-7f81a7b0-7d73-485d-8683-b88d1c400fc5')\"\n",
              "              title=\"Convert this dataframe to an interactive table.\"\n",
              "              style=\"display:none;\">\n",
              "        \n",
              "  <svg xmlns=\"http://www.w3.org/2000/svg\" height=\"24px\"viewBox=\"0 0 24 24\"\n",
              "       width=\"24px\">\n",
              "    <path d=\"M0 0h24v24H0V0z\" fill=\"none\"/>\n",
              "    <path d=\"M18.56 5.44l.94 2.06.94-2.06 2.06-.94-2.06-.94-.94-2.06-.94 2.06-2.06.94zm-11 1L8.5 8.5l.94-2.06 2.06-.94-2.06-.94L8.5 2.5l-.94 2.06-2.06.94zm10 10l.94 2.06.94-2.06 2.06-.94-2.06-.94-.94-2.06-.94 2.06-2.06.94z\"/><path d=\"M17.41 7.96l-1.37-1.37c-.4-.4-.92-.59-1.43-.59-.52 0-1.04.2-1.43.59L10.3 9.45l-7.72 7.72c-.78.78-.78 2.05 0 2.83L4 21.41c.39.39.9.59 1.41.59.51 0 1.02-.2 1.41-.59l7.78-7.78 2.81-2.81c.8-.78.8-2.07 0-2.86zM5.41 20L4 18.59l7.72-7.72 1.47 1.35L5.41 20z\"/>\n",
              "  </svg>\n",
              "      </button>\n",
              "      \n",
              "  <style>\n",
              "    .colab-df-container {\n",
              "      display:flex;\n",
              "      flex-wrap:wrap;\n",
              "      gap: 12px;\n",
              "    }\n",
              "\n",
              "    .colab-df-convert {\n",
              "      background-color: #E8F0FE;\n",
              "      border: none;\n",
              "      border-radius: 50%;\n",
              "      cursor: pointer;\n",
              "      display: none;\n",
              "      fill: #1967D2;\n",
              "      height: 32px;\n",
              "      padding: 0 0 0 0;\n",
              "      width: 32px;\n",
              "    }\n",
              "\n",
              "    .colab-df-convert:hover {\n",
              "      background-color: #E2EBFA;\n",
              "      box-shadow: 0px 1px 2px rgba(60, 64, 67, 0.3), 0px 1px 3px 1px rgba(60, 64, 67, 0.15);\n",
              "      fill: #174EA6;\n",
              "    }\n",
              "\n",
              "    [theme=dark] .colab-df-convert {\n",
              "      background-color: #3B4455;\n",
              "      fill: #D2E3FC;\n",
              "    }\n",
              "\n",
              "    [theme=dark] .colab-df-convert:hover {\n",
              "      background-color: #434B5C;\n",
              "      box-shadow: 0px 1px 3px 1px rgba(0, 0, 0, 0.15);\n",
              "      filter: drop-shadow(0px 1px 2px rgba(0, 0, 0, 0.3));\n",
              "      fill: #FFFFFF;\n",
              "    }\n",
              "  </style>\n",
              "\n",
              "      <script>\n",
              "        const buttonEl =\n",
              "          document.querySelector('#df-7f81a7b0-7d73-485d-8683-b88d1c400fc5 button.colab-df-convert');\n",
              "        buttonEl.style.display =\n",
              "          google.colab.kernel.accessAllowed ? 'block' : 'none';\n",
              "\n",
              "        async function convertToInteractive(key) {\n",
              "          const element = document.querySelector('#df-7f81a7b0-7d73-485d-8683-b88d1c400fc5');\n",
              "          const dataTable =\n",
              "            await google.colab.kernel.invokeFunction('convertToInteractive',\n",
              "                                                     [key], {});\n",
              "          if (!dataTable) return;\n",
              "\n",
              "          const docLinkHtml = 'Like what you see? Visit the ' +\n",
              "            '<a target=\"_blank\" href=https://colab.research.google.com/notebooks/data_table.ipynb>data table notebook</a>'\n",
              "            + ' to learn more about interactive tables.';\n",
              "          element.innerHTML = '';\n",
              "          dataTable['output_type'] = 'display_data';\n",
              "          await google.colab.output.renderOutput(dataTable, element);\n",
              "          const docLink = document.createElement('div');\n",
              "          docLink.innerHTML = docLinkHtml;\n",
              "          element.appendChild(docLink);\n",
              "        }\n",
              "      </script>\n",
              "    </div>\n",
              "  </div>\n",
              "  "
            ]
          },
          "metadata": {},
          "execution_count": 45
        }
      ]
    },
    {
      "cell_type": "markdown",
      "metadata": {
        "id": "oj_Z7wF-tCHZ"
      },
      "source": [
        "### Visualizar data\n",
        "\n",
        "Pandas puede trabajar con conjuntos de datos excepcionalmente grandes, incluyendo millones de filas. Presentar eso ocupa espacio y, si sólo quieres ver cómo son tus datos (ya que, la mayoría de las veces, puedes trabajar con ellos simbólicamente), puede ser costoso. \n",
        "\n",
        "Pandas viene con varias formas de ver y revisar los datos.\n",
        "\n",
        "* Ver las filas superior e inferior de su marco de datos con `df.head ()` o `df.tail (num)` donde `num` es un número entero de filas\n",
        "\n",
        "* Ver el índice, las columnas y los datos numpy subyacentes con `df.index`,` df.columns` y `df.values`\n",
        "\n",
        "* Obtener un resumen estadístico rápido de sus datos con `df.describe ()`\n",
        "\n",
        "* Transponer los datos con `df.T`\n",
        "\n",
        "* Ordenar por un eje con `df.sort_index (axis = 1, ascendente = False)` donde `axis = 1` se refiere a columnas y` axis = 0` se refiere a filas\n",
        "\n",
        "* Ordenar por valores con `df.sort_values (by = column)`"
      ]
    },
    {
      "cell_type": "code",
      "metadata": {
        "id": "dIK0x1oHtMyc",
        "outputId": "45a5eba1-9820-4107-bb3d-1880985370e1",
        "colab": {
          "base_uri": "https://localhost:8080/",
          "height": 206
        }
      },
      "source": [
        "# Head\n",
        "df.head()"
      ],
      "execution_count": 46,
      "outputs": [
        {
          "output_type": "execute_result",
          "data": {
            "text/plain": [
              "                   A         B         C         D\n",
              "2013-01-01  1.755240  1.144730  0.384722 -0.091226\n",
              "2013-01-02  1.844514  0.799883  0.975042  0.360253\n",
              "2013-01-03  0.241422 -0.473744  0.199555 -0.333147\n",
              "2013-01-04 -1.723905  0.837317 -1.742124 -0.125787\n",
              "2013-01-05 -0.986546  0.183913  0.241831 -1.014229"
            ],
            "text/html": [
              "\n",
              "  <div id=\"df-a1493af9-d8dd-46d7-85a7-5edece85a3f1\">\n",
              "    <div class=\"colab-df-container\">\n",
              "      <div>\n",
              "<style scoped>\n",
              "    .dataframe tbody tr th:only-of-type {\n",
              "        vertical-align: middle;\n",
              "    }\n",
              "\n",
              "    .dataframe tbody tr th {\n",
              "        vertical-align: top;\n",
              "    }\n",
              "\n",
              "    .dataframe thead th {\n",
              "        text-align: right;\n",
              "    }\n",
              "</style>\n",
              "<table border=\"1\" class=\"dataframe\">\n",
              "  <thead>\n",
              "    <tr style=\"text-align: right;\">\n",
              "      <th></th>\n",
              "      <th>A</th>\n",
              "      <th>B</th>\n",
              "      <th>C</th>\n",
              "      <th>D</th>\n",
              "    </tr>\n",
              "  </thead>\n",
              "  <tbody>\n",
              "    <tr>\n",
              "      <th>2013-01-01</th>\n",
              "      <td>1.755240</td>\n",
              "      <td>1.144730</td>\n",
              "      <td>0.384722</td>\n",
              "      <td>-0.091226</td>\n",
              "    </tr>\n",
              "    <tr>\n",
              "      <th>2013-01-02</th>\n",
              "      <td>1.844514</td>\n",
              "      <td>0.799883</td>\n",
              "      <td>0.975042</td>\n",
              "      <td>0.360253</td>\n",
              "    </tr>\n",
              "    <tr>\n",
              "      <th>2013-01-03</th>\n",
              "      <td>0.241422</td>\n",
              "      <td>-0.473744</td>\n",
              "      <td>0.199555</td>\n",
              "      <td>-0.333147</td>\n",
              "    </tr>\n",
              "    <tr>\n",
              "      <th>2013-01-04</th>\n",
              "      <td>-1.723905</td>\n",
              "      <td>0.837317</td>\n",
              "      <td>-1.742124</td>\n",
              "      <td>-0.125787</td>\n",
              "    </tr>\n",
              "    <tr>\n",
              "      <th>2013-01-05</th>\n",
              "      <td>-0.986546</td>\n",
              "      <td>0.183913</td>\n",
              "      <td>0.241831</td>\n",
              "      <td>-1.014229</td>\n",
              "    </tr>\n",
              "  </tbody>\n",
              "</table>\n",
              "</div>\n",
              "      <button class=\"colab-df-convert\" onclick=\"convertToInteractive('df-a1493af9-d8dd-46d7-85a7-5edece85a3f1')\"\n",
              "              title=\"Convert this dataframe to an interactive table.\"\n",
              "              style=\"display:none;\">\n",
              "        \n",
              "  <svg xmlns=\"http://www.w3.org/2000/svg\" height=\"24px\"viewBox=\"0 0 24 24\"\n",
              "       width=\"24px\">\n",
              "    <path d=\"M0 0h24v24H0V0z\" fill=\"none\"/>\n",
              "    <path d=\"M18.56 5.44l.94 2.06.94-2.06 2.06-.94-2.06-.94-.94-2.06-.94 2.06-2.06.94zm-11 1L8.5 8.5l.94-2.06 2.06-.94-2.06-.94L8.5 2.5l-.94 2.06-2.06.94zm10 10l.94 2.06.94-2.06 2.06-.94-2.06-.94-.94-2.06-.94 2.06-2.06.94z\"/><path d=\"M17.41 7.96l-1.37-1.37c-.4-.4-.92-.59-1.43-.59-.52 0-1.04.2-1.43.59L10.3 9.45l-7.72 7.72c-.78.78-.78 2.05 0 2.83L4 21.41c.39.39.9.59 1.41.59.51 0 1.02-.2 1.41-.59l7.78-7.78 2.81-2.81c.8-.78.8-2.07 0-2.86zM5.41 20L4 18.59l7.72-7.72 1.47 1.35L5.41 20z\"/>\n",
              "  </svg>\n",
              "      </button>\n",
              "      \n",
              "  <style>\n",
              "    .colab-df-container {\n",
              "      display:flex;\n",
              "      flex-wrap:wrap;\n",
              "      gap: 12px;\n",
              "    }\n",
              "\n",
              "    .colab-df-convert {\n",
              "      background-color: #E8F0FE;\n",
              "      border: none;\n",
              "      border-radius: 50%;\n",
              "      cursor: pointer;\n",
              "      display: none;\n",
              "      fill: #1967D2;\n",
              "      height: 32px;\n",
              "      padding: 0 0 0 0;\n",
              "      width: 32px;\n",
              "    }\n",
              "\n",
              "    .colab-df-convert:hover {\n",
              "      background-color: #E2EBFA;\n",
              "      box-shadow: 0px 1px 2px rgba(60, 64, 67, 0.3), 0px 1px 3px 1px rgba(60, 64, 67, 0.15);\n",
              "      fill: #174EA6;\n",
              "    }\n",
              "\n",
              "    [theme=dark] .colab-df-convert {\n",
              "      background-color: #3B4455;\n",
              "      fill: #D2E3FC;\n",
              "    }\n",
              "\n",
              "    [theme=dark] .colab-df-convert:hover {\n",
              "      background-color: #434B5C;\n",
              "      box-shadow: 0px 1px 3px 1px rgba(0, 0, 0, 0.15);\n",
              "      filter: drop-shadow(0px 1px 2px rgba(0, 0, 0, 0.3));\n",
              "      fill: #FFFFFF;\n",
              "    }\n",
              "  </style>\n",
              "\n",
              "      <script>\n",
              "        const buttonEl =\n",
              "          document.querySelector('#df-a1493af9-d8dd-46d7-85a7-5edece85a3f1 button.colab-df-convert');\n",
              "        buttonEl.style.display =\n",
              "          google.colab.kernel.accessAllowed ? 'block' : 'none';\n",
              "\n",
              "        async function convertToInteractive(key) {\n",
              "          const element = document.querySelector('#df-a1493af9-d8dd-46d7-85a7-5edece85a3f1');\n",
              "          const dataTable =\n",
              "            await google.colab.kernel.invokeFunction('convertToInteractive',\n",
              "                                                     [key], {});\n",
              "          if (!dataTable) return;\n",
              "\n",
              "          const docLinkHtml = 'Like what you see? Visit the ' +\n",
              "            '<a target=\"_blank\" href=https://colab.research.google.com/notebooks/data_table.ipynb>data table notebook</a>'\n",
              "            + ' to learn more about interactive tables.';\n",
              "          element.innerHTML = '';\n",
              "          dataTable['output_type'] = 'display_data';\n",
              "          await google.colab.output.renderOutput(dataTable, element);\n",
              "          const docLink = document.createElement('div');\n",
              "          docLink.innerHTML = docLinkHtml;\n",
              "          element.appendChild(docLink);\n",
              "        }\n",
              "      </script>\n",
              "    </div>\n",
              "  </div>\n",
              "  "
            ]
          },
          "metadata": {},
          "execution_count": 46
        }
      ]
    },
    {
      "cell_type": "code",
      "metadata": {
        "id": "U-ufVXv0tNbw",
        "outputId": "2edd622b-3795-4918-dca4-48c4275e95ad",
        "colab": {
          "base_uri": "https://localhost:8080/",
          "height": 143
        }
      },
      "source": [
        "# Tail\n",
        "df.tail(3)"
      ],
      "execution_count": 47,
      "outputs": [
        {
          "output_type": "execute_result",
          "data": {
            "text/plain": [
              "                   A         B         C         D\n",
              "2013-01-04 -1.723905  0.837317 -1.742124 -0.125787\n",
              "2013-01-05 -0.986546  0.183913  0.241831 -1.014229\n",
              "2013-01-06  0.456204  0.211631  1.294752  0.247312"
            ],
            "text/html": [
              "\n",
              "  <div id=\"df-a8d53a3e-9a85-4301-ac1f-aff2926bbe3b\">\n",
              "    <div class=\"colab-df-container\">\n",
              "      <div>\n",
              "<style scoped>\n",
              "    .dataframe tbody tr th:only-of-type {\n",
              "        vertical-align: middle;\n",
              "    }\n",
              "\n",
              "    .dataframe tbody tr th {\n",
              "        vertical-align: top;\n",
              "    }\n",
              "\n",
              "    .dataframe thead th {\n",
              "        text-align: right;\n",
              "    }\n",
              "</style>\n",
              "<table border=\"1\" class=\"dataframe\">\n",
              "  <thead>\n",
              "    <tr style=\"text-align: right;\">\n",
              "      <th></th>\n",
              "      <th>A</th>\n",
              "      <th>B</th>\n",
              "      <th>C</th>\n",
              "      <th>D</th>\n",
              "    </tr>\n",
              "  </thead>\n",
              "  <tbody>\n",
              "    <tr>\n",
              "      <th>2013-01-04</th>\n",
              "      <td>-1.723905</td>\n",
              "      <td>0.837317</td>\n",
              "      <td>-1.742124</td>\n",
              "      <td>-0.125787</td>\n",
              "    </tr>\n",
              "    <tr>\n",
              "      <th>2013-01-05</th>\n",
              "      <td>-0.986546</td>\n",
              "      <td>0.183913</td>\n",
              "      <td>0.241831</td>\n",
              "      <td>-1.014229</td>\n",
              "    </tr>\n",
              "    <tr>\n",
              "      <th>2013-01-06</th>\n",
              "      <td>0.456204</td>\n",
              "      <td>0.211631</td>\n",
              "      <td>1.294752</td>\n",
              "      <td>0.247312</td>\n",
              "    </tr>\n",
              "  </tbody>\n",
              "</table>\n",
              "</div>\n",
              "      <button class=\"colab-df-convert\" onclick=\"convertToInteractive('df-a8d53a3e-9a85-4301-ac1f-aff2926bbe3b')\"\n",
              "              title=\"Convert this dataframe to an interactive table.\"\n",
              "              style=\"display:none;\">\n",
              "        \n",
              "  <svg xmlns=\"http://www.w3.org/2000/svg\" height=\"24px\"viewBox=\"0 0 24 24\"\n",
              "       width=\"24px\">\n",
              "    <path d=\"M0 0h24v24H0V0z\" fill=\"none\"/>\n",
              "    <path d=\"M18.56 5.44l.94 2.06.94-2.06 2.06-.94-2.06-.94-.94-2.06-.94 2.06-2.06.94zm-11 1L8.5 8.5l.94-2.06 2.06-.94-2.06-.94L8.5 2.5l-.94 2.06-2.06.94zm10 10l.94 2.06.94-2.06 2.06-.94-2.06-.94-.94-2.06-.94 2.06-2.06.94z\"/><path d=\"M17.41 7.96l-1.37-1.37c-.4-.4-.92-.59-1.43-.59-.52 0-1.04.2-1.43.59L10.3 9.45l-7.72 7.72c-.78.78-.78 2.05 0 2.83L4 21.41c.39.39.9.59 1.41.59.51 0 1.02-.2 1.41-.59l7.78-7.78 2.81-2.81c.8-.78.8-2.07 0-2.86zM5.41 20L4 18.59l7.72-7.72 1.47 1.35L5.41 20z\"/>\n",
              "  </svg>\n",
              "      </button>\n",
              "      \n",
              "  <style>\n",
              "    .colab-df-container {\n",
              "      display:flex;\n",
              "      flex-wrap:wrap;\n",
              "      gap: 12px;\n",
              "    }\n",
              "\n",
              "    .colab-df-convert {\n",
              "      background-color: #E8F0FE;\n",
              "      border: none;\n",
              "      border-radius: 50%;\n",
              "      cursor: pointer;\n",
              "      display: none;\n",
              "      fill: #1967D2;\n",
              "      height: 32px;\n",
              "      padding: 0 0 0 0;\n",
              "      width: 32px;\n",
              "    }\n",
              "\n",
              "    .colab-df-convert:hover {\n",
              "      background-color: #E2EBFA;\n",
              "      box-shadow: 0px 1px 2px rgba(60, 64, 67, 0.3), 0px 1px 3px 1px rgba(60, 64, 67, 0.15);\n",
              "      fill: #174EA6;\n",
              "    }\n",
              "\n",
              "    [theme=dark] .colab-df-convert {\n",
              "      background-color: #3B4455;\n",
              "      fill: #D2E3FC;\n",
              "    }\n",
              "\n",
              "    [theme=dark] .colab-df-convert:hover {\n",
              "      background-color: #434B5C;\n",
              "      box-shadow: 0px 1px 3px 1px rgba(0, 0, 0, 0.15);\n",
              "      filter: drop-shadow(0px 1px 2px rgba(0, 0, 0, 0.3));\n",
              "      fill: #FFFFFF;\n",
              "    }\n",
              "  </style>\n",
              "\n",
              "      <script>\n",
              "        const buttonEl =\n",
              "          document.querySelector('#df-a8d53a3e-9a85-4301-ac1f-aff2926bbe3b button.colab-df-convert');\n",
              "        buttonEl.style.display =\n",
              "          google.colab.kernel.accessAllowed ? 'block' : 'none';\n",
              "\n",
              "        async function convertToInteractive(key) {\n",
              "          const element = document.querySelector('#df-a8d53a3e-9a85-4301-ac1f-aff2926bbe3b');\n",
              "          const dataTable =\n",
              "            await google.colab.kernel.invokeFunction('convertToInteractive',\n",
              "                                                     [key], {});\n",
              "          if (!dataTable) return;\n",
              "\n",
              "          const docLinkHtml = 'Like what you see? Visit the ' +\n",
              "            '<a target=\"_blank\" href=https://colab.research.google.com/notebooks/data_table.ipynb>data table notebook</a>'\n",
              "            + ' to learn more about interactive tables.';\n",
              "          element.innerHTML = '';\n",
              "          dataTable['output_type'] = 'display_data';\n",
              "          await google.colab.output.renderOutput(dataTable, element);\n",
              "          const docLink = document.createElement('div');\n",
              "          docLink.innerHTML = docLinkHtml;\n",
              "          element.appendChild(docLink);\n",
              "        }\n",
              "      </script>\n",
              "    </div>\n",
              "  </div>\n",
              "  "
            ]
          },
          "metadata": {},
          "execution_count": 47
        }
      ]
    },
    {
      "cell_type": "code",
      "metadata": {
        "id": "BFXHJS2otQBF",
        "outputId": "2ce26fac-63c5-4f47-8cc1-e5326ebba679",
        "colab": {
          "base_uri": "https://localhost:8080/"
        }
      },
      "source": [
        "# Index\n",
        "df.index"
      ],
      "execution_count": 48,
      "outputs": [
        {
          "output_type": "execute_result",
          "data": {
            "text/plain": [
              "DatetimeIndex(['2013-01-01', '2013-01-02', '2013-01-03', '2013-01-04',\n",
              "               '2013-01-05', '2013-01-06'],\n",
              "              dtype='datetime64[ns]', freq='D')"
            ]
          },
          "metadata": {},
          "execution_count": 48
        }
      ]
    },
    {
      "cell_type": "code",
      "metadata": {
        "id": "-85s0kuLtSG6",
        "outputId": "360211e1-2c61-4c48-c889-4db2479f429a",
        "colab": {
          "base_uri": "https://localhost:8080/"
        }
      },
      "source": [
        "# Values\n",
        "df.values"
      ],
      "execution_count": 49,
      "outputs": [
        {
          "output_type": "execute_result",
          "data": {
            "text/plain": [
              "array([[ 1.75524011,  1.14472989,  0.38472214, -0.09122611],\n",
              "       [ 1.84451414,  0.79988258,  0.97504244,  0.36025305],\n",
              "       [ 0.24142187, -0.47374431,  0.19955519, -0.33314743],\n",
              "       [-1.72390522,  0.83731692, -1.74212412, -0.12578655],\n",
              "       [-0.98654604,  0.18391251,  0.24183117, -1.01422938],\n",
              "       [ 0.4562037 ,  0.21163081,  1.29475212,  0.2473121 ]])"
            ]
          },
          "metadata": {},
          "execution_count": 49
        }
      ]
    },
    {
      "cell_type": "code",
      "metadata": {
        "id": "r79tUSf4uEP0",
        "outputId": "b6b9633e-1e82-4261-8c95-c75399f14925",
        "colab": {
          "base_uri": "https://localhost:8080/",
          "height": 300
        }
      },
      "source": [
        "# Statistical summary\n",
        "df.describe()"
      ],
      "execution_count": 50,
      "outputs": [
        {
          "output_type": "execute_result",
          "data": {
            "text/plain": [
              "              A         B         C         D\n",
              "count  6.000000  6.000000  6.000000  6.000000\n",
              "mean   0.264488  0.450621  0.225630 -0.159471\n",
              "std    1.433521  0.589238  1.058579  0.490337\n",
              "min   -1.723905 -0.473744 -1.742124 -1.014229\n",
              "25%   -0.679554  0.190842  0.210124 -0.281307\n",
              "50%    0.348813  0.505757  0.313277 -0.108506\n",
              "75%    1.430481  0.827958  0.827462  0.162678\n",
              "max    1.844514  1.144730  1.294752  0.360253"
            ],
            "text/html": [
              "\n",
              "  <div id=\"df-529e172d-e441-4eba-82bd-4623f9d55e27\">\n",
              "    <div class=\"colab-df-container\">\n",
              "      <div>\n",
              "<style scoped>\n",
              "    .dataframe tbody tr th:only-of-type {\n",
              "        vertical-align: middle;\n",
              "    }\n",
              "\n",
              "    .dataframe tbody tr th {\n",
              "        vertical-align: top;\n",
              "    }\n",
              "\n",
              "    .dataframe thead th {\n",
              "        text-align: right;\n",
              "    }\n",
              "</style>\n",
              "<table border=\"1\" class=\"dataframe\">\n",
              "  <thead>\n",
              "    <tr style=\"text-align: right;\">\n",
              "      <th></th>\n",
              "      <th>A</th>\n",
              "      <th>B</th>\n",
              "      <th>C</th>\n",
              "      <th>D</th>\n",
              "    </tr>\n",
              "  </thead>\n",
              "  <tbody>\n",
              "    <tr>\n",
              "      <th>count</th>\n",
              "      <td>6.000000</td>\n",
              "      <td>6.000000</td>\n",
              "      <td>6.000000</td>\n",
              "      <td>6.000000</td>\n",
              "    </tr>\n",
              "    <tr>\n",
              "      <th>mean</th>\n",
              "      <td>0.264488</td>\n",
              "      <td>0.450621</td>\n",
              "      <td>0.225630</td>\n",
              "      <td>-0.159471</td>\n",
              "    </tr>\n",
              "    <tr>\n",
              "      <th>std</th>\n",
              "      <td>1.433521</td>\n",
              "      <td>0.589238</td>\n",
              "      <td>1.058579</td>\n",
              "      <td>0.490337</td>\n",
              "    </tr>\n",
              "    <tr>\n",
              "      <th>min</th>\n",
              "      <td>-1.723905</td>\n",
              "      <td>-0.473744</td>\n",
              "      <td>-1.742124</td>\n",
              "      <td>-1.014229</td>\n",
              "    </tr>\n",
              "    <tr>\n",
              "      <th>25%</th>\n",
              "      <td>-0.679554</td>\n",
              "      <td>0.190842</td>\n",
              "      <td>0.210124</td>\n",
              "      <td>-0.281307</td>\n",
              "    </tr>\n",
              "    <tr>\n",
              "      <th>50%</th>\n",
              "      <td>0.348813</td>\n",
              "      <td>0.505757</td>\n",
              "      <td>0.313277</td>\n",
              "      <td>-0.108506</td>\n",
              "    </tr>\n",
              "    <tr>\n",
              "      <th>75%</th>\n",
              "      <td>1.430481</td>\n",
              "      <td>0.827958</td>\n",
              "      <td>0.827462</td>\n",
              "      <td>0.162678</td>\n",
              "    </tr>\n",
              "    <tr>\n",
              "      <th>max</th>\n",
              "      <td>1.844514</td>\n",
              "      <td>1.144730</td>\n",
              "      <td>1.294752</td>\n",
              "      <td>0.360253</td>\n",
              "    </tr>\n",
              "  </tbody>\n",
              "</table>\n",
              "</div>\n",
              "      <button class=\"colab-df-convert\" onclick=\"convertToInteractive('df-529e172d-e441-4eba-82bd-4623f9d55e27')\"\n",
              "              title=\"Convert this dataframe to an interactive table.\"\n",
              "              style=\"display:none;\">\n",
              "        \n",
              "  <svg xmlns=\"http://www.w3.org/2000/svg\" height=\"24px\"viewBox=\"0 0 24 24\"\n",
              "       width=\"24px\">\n",
              "    <path d=\"M0 0h24v24H0V0z\" fill=\"none\"/>\n",
              "    <path d=\"M18.56 5.44l.94 2.06.94-2.06 2.06-.94-2.06-.94-.94-2.06-.94 2.06-2.06.94zm-11 1L8.5 8.5l.94-2.06 2.06-.94-2.06-.94L8.5 2.5l-.94 2.06-2.06.94zm10 10l.94 2.06.94-2.06 2.06-.94-2.06-.94-.94-2.06-.94 2.06-2.06.94z\"/><path d=\"M17.41 7.96l-1.37-1.37c-.4-.4-.92-.59-1.43-.59-.52 0-1.04.2-1.43.59L10.3 9.45l-7.72 7.72c-.78.78-.78 2.05 0 2.83L4 21.41c.39.39.9.59 1.41.59.51 0 1.02-.2 1.41-.59l7.78-7.78 2.81-2.81c.8-.78.8-2.07 0-2.86zM5.41 20L4 18.59l7.72-7.72 1.47 1.35L5.41 20z\"/>\n",
              "  </svg>\n",
              "      </button>\n",
              "      \n",
              "  <style>\n",
              "    .colab-df-container {\n",
              "      display:flex;\n",
              "      flex-wrap:wrap;\n",
              "      gap: 12px;\n",
              "    }\n",
              "\n",
              "    .colab-df-convert {\n",
              "      background-color: #E8F0FE;\n",
              "      border: none;\n",
              "      border-radius: 50%;\n",
              "      cursor: pointer;\n",
              "      display: none;\n",
              "      fill: #1967D2;\n",
              "      height: 32px;\n",
              "      padding: 0 0 0 0;\n",
              "      width: 32px;\n",
              "    }\n",
              "\n",
              "    .colab-df-convert:hover {\n",
              "      background-color: #E2EBFA;\n",
              "      box-shadow: 0px 1px 2px rgba(60, 64, 67, 0.3), 0px 1px 3px 1px rgba(60, 64, 67, 0.15);\n",
              "      fill: #174EA6;\n",
              "    }\n",
              "\n",
              "    [theme=dark] .colab-df-convert {\n",
              "      background-color: #3B4455;\n",
              "      fill: #D2E3FC;\n",
              "    }\n",
              "\n",
              "    [theme=dark] .colab-df-convert:hover {\n",
              "      background-color: #434B5C;\n",
              "      box-shadow: 0px 1px 3px 1px rgba(0, 0, 0, 0.15);\n",
              "      filter: drop-shadow(0px 1px 2px rgba(0, 0, 0, 0.3));\n",
              "      fill: #FFFFFF;\n",
              "    }\n",
              "  </style>\n",
              "\n",
              "      <script>\n",
              "        const buttonEl =\n",
              "          document.querySelector('#df-529e172d-e441-4eba-82bd-4623f9d55e27 button.colab-df-convert');\n",
              "        buttonEl.style.display =\n",
              "          google.colab.kernel.accessAllowed ? 'block' : 'none';\n",
              "\n",
              "        async function convertToInteractive(key) {\n",
              "          const element = document.querySelector('#df-529e172d-e441-4eba-82bd-4623f9d55e27');\n",
              "          const dataTable =\n",
              "            await google.colab.kernel.invokeFunction('convertToInteractive',\n",
              "                                                     [key], {});\n",
              "          if (!dataTable) return;\n",
              "\n",
              "          const docLinkHtml = 'Like what you see? Visit the ' +\n",
              "            '<a target=\"_blank\" href=https://colab.research.google.com/notebooks/data_table.ipynb>data table notebook</a>'\n",
              "            + ' to learn more about interactive tables.';\n",
              "          element.innerHTML = '';\n",
              "          dataTable['output_type'] = 'display_data';\n",
              "          await google.colab.output.renderOutput(dataTable, element);\n",
              "          const docLink = document.createElement('div');\n",
              "          docLink.innerHTML = docLinkHtml;\n",
              "          element.appendChild(docLink);\n",
              "        }\n",
              "      </script>\n",
              "    </div>\n",
              "  </div>\n",
              "  "
            ]
          },
          "metadata": {},
          "execution_count": 50
        }
      ]
    },
    {
      "cell_type": "code",
      "metadata": {
        "id": "B6PvgIxVuHbe",
        "outputId": "f2cb6617-9a31-46ea-eadc-3275fc9b8054",
        "colab": {
          "base_uri": "https://localhost:8080/",
          "height": 175
        }
      },
      "source": [
        "# Transpose\n",
        "df.T"
      ],
      "execution_count": 51,
      "outputs": [
        {
          "output_type": "execute_result",
          "data": {
            "text/plain": [
              "   2013-01-01  2013-01-02  2013-01-03  2013-01-04  2013-01-05  2013-01-06\n",
              "A    1.755240    1.844514    0.241422   -1.723905   -0.986546    0.456204\n",
              "B    1.144730    0.799883   -0.473744    0.837317    0.183913    0.211631\n",
              "C    0.384722    0.975042    0.199555   -1.742124    0.241831    1.294752\n",
              "D   -0.091226    0.360253   -0.333147   -0.125787   -1.014229    0.247312"
            ],
            "text/html": [
              "\n",
              "  <div id=\"df-816b67c5-bea8-4948-a1b2-4cb2b54a8fe7\">\n",
              "    <div class=\"colab-df-container\">\n",
              "      <div>\n",
              "<style scoped>\n",
              "    .dataframe tbody tr th:only-of-type {\n",
              "        vertical-align: middle;\n",
              "    }\n",
              "\n",
              "    .dataframe tbody tr th {\n",
              "        vertical-align: top;\n",
              "    }\n",
              "\n",
              "    .dataframe thead th {\n",
              "        text-align: right;\n",
              "    }\n",
              "</style>\n",
              "<table border=\"1\" class=\"dataframe\">\n",
              "  <thead>\n",
              "    <tr style=\"text-align: right;\">\n",
              "      <th></th>\n",
              "      <th>2013-01-01</th>\n",
              "      <th>2013-01-02</th>\n",
              "      <th>2013-01-03</th>\n",
              "      <th>2013-01-04</th>\n",
              "      <th>2013-01-05</th>\n",
              "      <th>2013-01-06</th>\n",
              "    </tr>\n",
              "  </thead>\n",
              "  <tbody>\n",
              "    <tr>\n",
              "      <th>A</th>\n",
              "      <td>1.755240</td>\n",
              "      <td>1.844514</td>\n",
              "      <td>0.241422</td>\n",
              "      <td>-1.723905</td>\n",
              "      <td>-0.986546</td>\n",
              "      <td>0.456204</td>\n",
              "    </tr>\n",
              "    <tr>\n",
              "      <th>B</th>\n",
              "      <td>1.144730</td>\n",
              "      <td>0.799883</td>\n",
              "      <td>-0.473744</td>\n",
              "      <td>0.837317</td>\n",
              "      <td>0.183913</td>\n",
              "      <td>0.211631</td>\n",
              "    </tr>\n",
              "    <tr>\n",
              "      <th>C</th>\n",
              "      <td>0.384722</td>\n",
              "      <td>0.975042</td>\n",
              "      <td>0.199555</td>\n",
              "      <td>-1.742124</td>\n",
              "      <td>0.241831</td>\n",
              "      <td>1.294752</td>\n",
              "    </tr>\n",
              "    <tr>\n",
              "      <th>D</th>\n",
              "      <td>-0.091226</td>\n",
              "      <td>0.360253</td>\n",
              "      <td>-0.333147</td>\n",
              "      <td>-0.125787</td>\n",
              "      <td>-1.014229</td>\n",
              "      <td>0.247312</td>\n",
              "    </tr>\n",
              "  </tbody>\n",
              "</table>\n",
              "</div>\n",
              "      <button class=\"colab-df-convert\" onclick=\"convertToInteractive('df-816b67c5-bea8-4948-a1b2-4cb2b54a8fe7')\"\n",
              "              title=\"Convert this dataframe to an interactive table.\"\n",
              "              style=\"display:none;\">\n",
              "        \n",
              "  <svg xmlns=\"http://www.w3.org/2000/svg\" height=\"24px\"viewBox=\"0 0 24 24\"\n",
              "       width=\"24px\">\n",
              "    <path d=\"M0 0h24v24H0V0z\" fill=\"none\"/>\n",
              "    <path d=\"M18.56 5.44l.94 2.06.94-2.06 2.06-.94-2.06-.94-.94-2.06-.94 2.06-2.06.94zm-11 1L8.5 8.5l.94-2.06 2.06-.94-2.06-.94L8.5 2.5l-.94 2.06-2.06.94zm10 10l.94 2.06.94-2.06 2.06-.94-2.06-.94-.94-2.06-.94 2.06-2.06.94z\"/><path d=\"M17.41 7.96l-1.37-1.37c-.4-.4-.92-.59-1.43-.59-.52 0-1.04.2-1.43.59L10.3 9.45l-7.72 7.72c-.78.78-.78 2.05 0 2.83L4 21.41c.39.39.9.59 1.41.59.51 0 1.02-.2 1.41-.59l7.78-7.78 2.81-2.81c.8-.78.8-2.07 0-2.86zM5.41 20L4 18.59l7.72-7.72 1.47 1.35L5.41 20z\"/>\n",
              "  </svg>\n",
              "      </button>\n",
              "      \n",
              "  <style>\n",
              "    .colab-df-container {\n",
              "      display:flex;\n",
              "      flex-wrap:wrap;\n",
              "      gap: 12px;\n",
              "    }\n",
              "\n",
              "    .colab-df-convert {\n",
              "      background-color: #E8F0FE;\n",
              "      border: none;\n",
              "      border-radius: 50%;\n",
              "      cursor: pointer;\n",
              "      display: none;\n",
              "      fill: #1967D2;\n",
              "      height: 32px;\n",
              "      padding: 0 0 0 0;\n",
              "      width: 32px;\n",
              "    }\n",
              "\n",
              "    .colab-df-convert:hover {\n",
              "      background-color: #E2EBFA;\n",
              "      box-shadow: 0px 1px 2px rgba(60, 64, 67, 0.3), 0px 1px 3px 1px rgba(60, 64, 67, 0.15);\n",
              "      fill: #174EA6;\n",
              "    }\n",
              "\n",
              "    [theme=dark] .colab-df-convert {\n",
              "      background-color: #3B4455;\n",
              "      fill: #D2E3FC;\n",
              "    }\n",
              "\n",
              "    [theme=dark] .colab-df-convert:hover {\n",
              "      background-color: #434B5C;\n",
              "      box-shadow: 0px 1px 3px 1px rgba(0, 0, 0, 0.15);\n",
              "      filter: drop-shadow(0px 1px 2px rgba(0, 0, 0, 0.3));\n",
              "      fill: #FFFFFF;\n",
              "    }\n",
              "  </style>\n",
              "\n",
              "      <script>\n",
              "        const buttonEl =\n",
              "          document.querySelector('#df-816b67c5-bea8-4948-a1b2-4cb2b54a8fe7 button.colab-df-convert');\n",
              "        buttonEl.style.display =\n",
              "          google.colab.kernel.accessAllowed ? 'block' : 'none';\n",
              "\n",
              "        async function convertToInteractive(key) {\n",
              "          const element = document.querySelector('#df-816b67c5-bea8-4948-a1b2-4cb2b54a8fe7');\n",
              "          const dataTable =\n",
              "            await google.colab.kernel.invokeFunction('convertToInteractive',\n",
              "                                                     [key], {});\n",
              "          if (!dataTable) return;\n",
              "\n",
              "          const docLinkHtml = 'Like what you see? Visit the ' +\n",
              "            '<a target=\"_blank\" href=https://colab.research.google.com/notebooks/data_table.ipynb>data table notebook</a>'\n",
              "            + ' to learn more about interactive tables.';\n",
              "          element.innerHTML = '';\n",
              "          dataTable['output_type'] = 'display_data';\n",
              "          await google.colab.output.renderOutput(dataTable, element);\n",
              "          const docLink = document.createElement('div');\n",
              "          docLink.innerHTML = docLinkHtml;\n",
              "          element.appendChild(docLink);\n",
              "        }\n",
              "      </script>\n",
              "    </div>\n",
              "  </div>\n",
              "  "
            ]
          },
          "metadata": {},
          "execution_count": 51
        }
      ]
    },
    {
      "cell_type": "code",
      "metadata": {
        "id": "nta0_r0RuKeL",
        "outputId": "40b57291-475d-4b0e-afce-d2b94a028c49",
        "colab": {
          "base_uri": "https://localhost:8080/",
          "height": 237
        }
      },
      "source": [
        "# Sort by an axis\n",
        "df.sort_index(axis=1, ascending=False)"
      ],
      "execution_count": 52,
      "outputs": [
        {
          "output_type": "execute_result",
          "data": {
            "text/plain": [
              "                   D         C         B         A\n",
              "2013-01-01 -0.091226  0.384722  1.144730  1.755240\n",
              "2013-01-02  0.360253  0.975042  0.799883  1.844514\n",
              "2013-01-03 -0.333147  0.199555 -0.473744  0.241422\n",
              "2013-01-04 -0.125787 -1.742124  0.837317 -1.723905\n",
              "2013-01-05 -1.014229  0.241831  0.183913 -0.986546\n",
              "2013-01-06  0.247312  1.294752  0.211631  0.456204"
            ],
            "text/html": [
              "\n",
              "  <div id=\"df-cc81afc5-6302-4018-8310-cacbb2c01ab0\">\n",
              "    <div class=\"colab-df-container\">\n",
              "      <div>\n",
              "<style scoped>\n",
              "    .dataframe tbody tr th:only-of-type {\n",
              "        vertical-align: middle;\n",
              "    }\n",
              "\n",
              "    .dataframe tbody tr th {\n",
              "        vertical-align: top;\n",
              "    }\n",
              "\n",
              "    .dataframe thead th {\n",
              "        text-align: right;\n",
              "    }\n",
              "</style>\n",
              "<table border=\"1\" class=\"dataframe\">\n",
              "  <thead>\n",
              "    <tr style=\"text-align: right;\">\n",
              "      <th></th>\n",
              "      <th>D</th>\n",
              "      <th>C</th>\n",
              "      <th>B</th>\n",
              "      <th>A</th>\n",
              "    </tr>\n",
              "  </thead>\n",
              "  <tbody>\n",
              "    <tr>\n",
              "      <th>2013-01-01</th>\n",
              "      <td>-0.091226</td>\n",
              "      <td>0.384722</td>\n",
              "      <td>1.144730</td>\n",
              "      <td>1.755240</td>\n",
              "    </tr>\n",
              "    <tr>\n",
              "      <th>2013-01-02</th>\n",
              "      <td>0.360253</td>\n",
              "      <td>0.975042</td>\n",
              "      <td>0.799883</td>\n",
              "      <td>1.844514</td>\n",
              "    </tr>\n",
              "    <tr>\n",
              "      <th>2013-01-03</th>\n",
              "      <td>-0.333147</td>\n",
              "      <td>0.199555</td>\n",
              "      <td>-0.473744</td>\n",
              "      <td>0.241422</td>\n",
              "    </tr>\n",
              "    <tr>\n",
              "      <th>2013-01-04</th>\n",
              "      <td>-0.125787</td>\n",
              "      <td>-1.742124</td>\n",
              "      <td>0.837317</td>\n",
              "      <td>-1.723905</td>\n",
              "    </tr>\n",
              "    <tr>\n",
              "      <th>2013-01-05</th>\n",
              "      <td>-1.014229</td>\n",
              "      <td>0.241831</td>\n",
              "      <td>0.183913</td>\n",
              "      <td>-0.986546</td>\n",
              "    </tr>\n",
              "    <tr>\n",
              "      <th>2013-01-06</th>\n",
              "      <td>0.247312</td>\n",
              "      <td>1.294752</td>\n",
              "      <td>0.211631</td>\n",
              "      <td>0.456204</td>\n",
              "    </tr>\n",
              "  </tbody>\n",
              "</table>\n",
              "</div>\n",
              "      <button class=\"colab-df-convert\" onclick=\"convertToInteractive('df-cc81afc5-6302-4018-8310-cacbb2c01ab0')\"\n",
              "              title=\"Convert this dataframe to an interactive table.\"\n",
              "              style=\"display:none;\">\n",
              "        \n",
              "  <svg xmlns=\"http://www.w3.org/2000/svg\" height=\"24px\"viewBox=\"0 0 24 24\"\n",
              "       width=\"24px\">\n",
              "    <path d=\"M0 0h24v24H0V0z\" fill=\"none\"/>\n",
              "    <path d=\"M18.56 5.44l.94 2.06.94-2.06 2.06-.94-2.06-.94-.94-2.06-.94 2.06-2.06.94zm-11 1L8.5 8.5l.94-2.06 2.06-.94-2.06-.94L8.5 2.5l-.94 2.06-2.06.94zm10 10l.94 2.06.94-2.06 2.06-.94-2.06-.94-.94-2.06-.94 2.06-2.06.94z\"/><path d=\"M17.41 7.96l-1.37-1.37c-.4-.4-.92-.59-1.43-.59-.52 0-1.04.2-1.43.59L10.3 9.45l-7.72 7.72c-.78.78-.78 2.05 0 2.83L4 21.41c.39.39.9.59 1.41.59.51 0 1.02-.2 1.41-.59l7.78-7.78 2.81-2.81c.8-.78.8-2.07 0-2.86zM5.41 20L4 18.59l7.72-7.72 1.47 1.35L5.41 20z\"/>\n",
              "  </svg>\n",
              "      </button>\n",
              "      \n",
              "  <style>\n",
              "    .colab-df-container {\n",
              "      display:flex;\n",
              "      flex-wrap:wrap;\n",
              "      gap: 12px;\n",
              "    }\n",
              "\n",
              "    .colab-df-convert {\n",
              "      background-color: #E8F0FE;\n",
              "      border: none;\n",
              "      border-radius: 50%;\n",
              "      cursor: pointer;\n",
              "      display: none;\n",
              "      fill: #1967D2;\n",
              "      height: 32px;\n",
              "      padding: 0 0 0 0;\n",
              "      width: 32px;\n",
              "    }\n",
              "\n",
              "    .colab-df-convert:hover {\n",
              "      background-color: #E2EBFA;\n",
              "      box-shadow: 0px 1px 2px rgba(60, 64, 67, 0.3), 0px 1px 3px 1px rgba(60, 64, 67, 0.15);\n",
              "      fill: #174EA6;\n",
              "    }\n",
              "\n",
              "    [theme=dark] .colab-df-convert {\n",
              "      background-color: #3B4455;\n",
              "      fill: #D2E3FC;\n",
              "    }\n",
              "\n",
              "    [theme=dark] .colab-df-convert:hover {\n",
              "      background-color: #434B5C;\n",
              "      box-shadow: 0px 1px 3px 1px rgba(0, 0, 0, 0.15);\n",
              "      filter: drop-shadow(0px 1px 2px rgba(0, 0, 0, 0.3));\n",
              "      fill: #FFFFFF;\n",
              "    }\n",
              "  </style>\n",
              "\n",
              "      <script>\n",
              "        const buttonEl =\n",
              "          document.querySelector('#df-cc81afc5-6302-4018-8310-cacbb2c01ab0 button.colab-df-convert');\n",
              "        buttonEl.style.display =\n",
              "          google.colab.kernel.accessAllowed ? 'block' : 'none';\n",
              "\n",
              "        async function convertToInteractive(key) {\n",
              "          const element = document.querySelector('#df-cc81afc5-6302-4018-8310-cacbb2c01ab0');\n",
              "          const dataTable =\n",
              "            await google.colab.kernel.invokeFunction('convertToInteractive',\n",
              "                                                     [key], {});\n",
              "          if (!dataTable) return;\n",
              "\n",
              "          const docLinkHtml = 'Like what you see? Visit the ' +\n",
              "            '<a target=\"_blank\" href=https://colab.research.google.com/notebooks/data_table.ipynb>data table notebook</a>'\n",
              "            + ' to learn more about interactive tables.';\n",
              "          element.innerHTML = '';\n",
              "          dataTable['output_type'] = 'display_data';\n",
              "          await google.colab.output.renderOutput(dataTable, element);\n",
              "          const docLink = document.createElement('div');\n",
              "          docLink.innerHTML = docLinkHtml;\n",
              "          element.appendChild(docLink);\n",
              "        }\n",
              "      </script>\n",
              "    </div>\n",
              "  </div>\n",
              "  "
            ]
          },
          "metadata": {},
          "execution_count": 52
        }
      ]
    },
    {
      "cell_type": "code",
      "metadata": {
        "id": "fmplRrf0uPuE",
        "outputId": "5b23aa09-7949-4183-a41e-5cbc40b26a41",
        "colab": {
          "base_uri": "https://localhost:8080/",
          "height": 237
        }
      },
      "source": [
        "# Sort by values\n",
        "df.sort_values(by=\"B\")"
      ],
      "execution_count": 53,
      "outputs": [
        {
          "output_type": "execute_result",
          "data": {
            "text/plain": [
              "                   A         B         C         D\n",
              "2013-01-03  0.241422 -0.473744  0.199555 -0.333147\n",
              "2013-01-05 -0.986546  0.183913  0.241831 -1.014229\n",
              "2013-01-06  0.456204  0.211631  1.294752  0.247312\n",
              "2013-01-02  1.844514  0.799883  0.975042  0.360253\n",
              "2013-01-04 -1.723905  0.837317 -1.742124 -0.125787\n",
              "2013-01-01  1.755240  1.144730  0.384722 -0.091226"
            ],
            "text/html": [
              "\n",
              "  <div id=\"df-18b3b71c-565b-4eb2-93fa-7bbef6422f7e\">\n",
              "    <div class=\"colab-df-container\">\n",
              "      <div>\n",
              "<style scoped>\n",
              "    .dataframe tbody tr th:only-of-type {\n",
              "        vertical-align: middle;\n",
              "    }\n",
              "\n",
              "    .dataframe tbody tr th {\n",
              "        vertical-align: top;\n",
              "    }\n",
              "\n",
              "    .dataframe thead th {\n",
              "        text-align: right;\n",
              "    }\n",
              "</style>\n",
              "<table border=\"1\" class=\"dataframe\">\n",
              "  <thead>\n",
              "    <tr style=\"text-align: right;\">\n",
              "      <th></th>\n",
              "      <th>A</th>\n",
              "      <th>B</th>\n",
              "      <th>C</th>\n",
              "      <th>D</th>\n",
              "    </tr>\n",
              "  </thead>\n",
              "  <tbody>\n",
              "    <tr>\n",
              "      <th>2013-01-03</th>\n",
              "      <td>0.241422</td>\n",
              "      <td>-0.473744</td>\n",
              "      <td>0.199555</td>\n",
              "      <td>-0.333147</td>\n",
              "    </tr>\n",
              "    <tr>\n",
              "      <th>2013-01-05</th>\n",
              "      <td>-0.986546</td>\n",
              "      <td>0.183913</td>\n",
              "      <td>0.241831</td>\n",
              "      <td>-1.014229</td>\n",
              "    </tr>\n",
              "    <tr>\n",
              "      <th>2013-01-06</th>\n",
              "      <td>0.456204</td>\n",
              "      <td>0.211631</td>\n",
              "      <td>1.294752</td>\n",
              "      <td>0.247312</td>\n",
              "    </tr>\n",
              "    <tr>\n",
              "      <th>2013-01-02</th>\n",
              "      <td>1.844514</td>\n",
              "      <td>0.799883</td>\n",
              "      <td>0.975042</td>\n",
              "      <td>0.360253</td>\n",
              "    </tr>\n",
              "    <tr>\n",
              "      <th>2013-01-04</th>\n",
              "      <td>-1.723905</td>\n",
              "      <td>0.837317</td>\n",
              "      <td>-1.742124</td>\n",
              "      <td>-0.125787</td>\n",
              "    </tr>\n",
              "    <tr>\n",
              "      <th>2013-01-01</th>\n",
              "      <td>1.755240</td>\n",
              "      <td>1.144730</td>\n",
              "      <td>0.384722</td>\n",
              "      <td>-0.091226</td>\n",
              "    </tr>\n",
              "  </tbody>\n",
              "</table>\n",
              "</div>\n",
              "      <button class=\"colab-df-convert\" onclick=\"convertToInteractive('df-18b3b71c-565b-4eb2-93fa-7bbef6422f7e')\"\n",
              "              title=\"Convert this dataframe to an interactive table.\"\n",
              "              style=\"display:none;\">\n",
              "        \n",
              "  <svg xmlns=\"http://www.w3.org/2000/svg\" height=\"24px\"viewBox=\"0 0 24 24\"\n",
              "       width=\"24px\">\n",
              "    <path d=\"M0 0h24v24H0V0z\" fill=\"none\"/>\n",
              "    <path d=\"M18.56 5.44l.94 2.06.94-2.06 2.06-.94-2.06-.94-.94-2.06-.94 2.06-2.06.94zm-11 1L8.5 8.5l.94-2.06 2.06-.94-2.06-.94L8.5 2.5l-.94 2.06-2.06.94zm10 10l.94 2.06.94-2.06 2.06-.94-2.06-.94-.94-2.06-.94 2.06-2.06.94z\"/><path d=\"M17.41 7.96l-1.37-1.37c-.4-.4-.92-.59-1.43-.59-.52 0-1.04.2-1.43.59L10.3 9.45l-7.72 7.72c-.78.78-.78 2.05 0 2.83L4 21.41c.39.39.9.59 1.41.59.51 0 1.02-.2 1.41-.59l7.78-7.78 2.81-2.81c.8-.78.8-2.07 0-2.86zM5.41 20L4 18.59l7.72-7.72 1.47 1.35L5.41 20z\"/>\n",
              "  </svg>\n",
              "      </button>\n",
              "      \n",
              "  <style>\n",
              "    .colab-df-container {\n",
              "      display:flex;\n",
              "      flex-wrap:wrap;\n",
              "      gap: 12px;\n",
              "    }\n",
              "\n",
              "    .colab-df-convert {\n",
              "      background-color: #E8F0FE;\n",
              "      border: none;\n",
              "      border-radius: 50%;\n",
              "      cursor: pointer;\n",
              "      display: none;\n",
              "      fill: #1967D2;\n",
              "      height: 32px;\n",
              "      padding: 0 0 0 0;\n",
              "      width: 32px;\n",
              "    }\n",
              "\n",
              "    .colab-df-convert:hover {\n",
              "      background-color: #E2EBFA;\n",
              "      box-shadow: 0px 1px 2px rgba(60, 64, 67, 0.3), 0px 1px 3px 1px rgba(60, 64, 67, 0.15);\n",
              "      fill: #174EA6;\n",
              "    }\n",
              "\n",
              "    [theme=dark] .colab-df-convert {\n",
              "      background-color: #3B4455;\n",
              "      fill: #D2E3FC;\n",
              "    }\n",
              "\n",
              "    [theme=dark] .colab-df-convert:hover {\n",
              "      background-color: #434B5C;\n",
              "      box-shadow: 0px 1px 3px 1px rgba(0, 0, 0, 0.15);\n",
              "      filter: drop-shadow(0px 1px 2px rgba(0, 0, 0, 0.3));\n",
              "      fill: #FFFFFF;\n",
              "    }\n",
              "  </style>\n",
              "\n",
              "      <script>\n",
              "        const buttonEl =\n",
              "          document.querySelector('#df-18b3b71c-565b-4eb2-93fa-7bbef6422f7e button.colab-df-convert');\n",
              "        buttonEl.style.display =\n",
              "          google.colab.kernel.accessAllowed ? 'block' : 'none';\n",
              "\n",
              "        async function convertToInteractive(key) {\n",
              "          const element = document.querySelector('#df-18b3b71c-565b-4eb2-93fa-7bbef6422f7e');\n",
              "          const dataTable =\n",
              "            await google.colab.kernel.invokeFunction('convertToInteractive',\n",
              "                                                     [key], {});\n",
              "          if (!dataTable) return;\n",
              "\n",
              "          const docLinkHtml = 'Like what you see? Visit the ' +\n",
              "            '<a target=\"_blank\" href=https://colab.research.google.com/notebooks/data_table.ipynb>data table notebook</a>'\n",
              "            + ' to learn more about interactive tables.';\n",
              "          element.innerHTML = '';\n",
              "          dataTable['output_type'] = 'display_data';\n",
              "          await google.colab.output.renderOutput(dataTable, element);\n",
              "          const docLink = document.createElement('div');\n",
              "          docLink.innerHTML = docLinkHtml;\n",
              "          element.appendChild(docLink);\n",
              "        }\n",
              "      </script>\n",
              "    </div>\n",
              "  </div>\n",
              "  "
            ]
          },
          "metadata": {},
          "execution_count": 53
        }
      ]
    },
    {
      "cell_type": "markdown",
      "metadata": {
        "id": "NPoy9pw5uXlm"
      },
      "source": [
        "### Selecciones\n",
        "\n",
        "Uno de los primeros pasos en el análisis de datos es simplemente filtrar los datos y obtener las partes que más te interesan. Pandas tiene numerosos enfoques para conseguir rápidamente sólo lo que quieres.\n",
        "\n",
        "* Seleccionar una sola columna dirigiendo el marco de datos como lo haría con un diccionario, con `df [columna]` o, si el nombre de la columna es una sola palabra, con `df.column`. Esto devuelve una serie\n",
        "\n",
        "* Seleccione un segmento como lo haría con una lista de Python, con `df []`, p. `df [: 3]`, o cortando los índices, `df [\" 20130102 \":\" 20130104 \"]`\n",
        "\n",
        "* Usar `.loc` para seleccionar por etiquetas específicas, tales como:\n",
        "* Obtenga una sección transversal basada en una etiqueta, con p. `df.loc [índice [0]]`\n",
        "\n",
        "* Subir al eje múltiple por una etiqueta, con `df.loc[:,[\"A\",\"B\"]]` donde el primer `:` indica el segmento de filas, y la segunda lista `[\"A\",\"B\"] `indica la lista de columnas\n",
        "* Como lo harías con Numpy, se puede obtener una selección booleana, por ejemplo, con `df [df.A> num]`"
      ]
    },
    {
      "cell_type": "code",
      "metadata": {
        "id": "_-a7kQoquPsY",
        "outputId": "d5dc318d-a124-485b-80a3-59df99c47e58",
        "colab": {
          "base_uri": "https://localhost:8080/"
        }
      },
      "source": [
        "# By column\n",
        "df.A"
      ],
      "execution_count": 54,
      "outputs": [
        {
          "output_type": "execute_result",
          "data": {
            "text/plain": [
              "2013-01-01    1.755240\n",
              "2013-01-02    1.844514\n",
              "2013-01-03    0.241422\n",
              "2013-01-04   -1.723905\n",
              "2013-01-05   -0.986546\n",
              "2013-01-06    0.456204\n",
              "Freq: D, Name: A, dtype: float64"
            ]
          },
          "metadata": {},
          "execution_count": 54
        }
      ]
    },
    {
      "cell_type": "code",
      "metadata": {
        "id": "jjzNxbcnumRW",
        "outputId": "6c3cd537-0c5e-46fe-a314-03cd7415a2c5",
        "colab": {
          "base_uri": "https://localhost:8080/",
          "height": 143
        }
      },
      "source": [
        "# By slice\n",
        "df[\"20130102\":\"20130104\"]"
      ],
      "execution_count": 55,
      "outputs": [
        {
          "output_type": "execute_result",
          "data": {
            "text/plain": [
              "                   A         B         C         D\n",
              "2013-01-02  1.844514  0.799883  0.975042  0.360253\n",
              "2013-01-03  0.241422 -0.473744  0.199555 -0.333147\n",
              "2013-01-04 -1.723905  0.837317 -1.742124 -0.125787"
            ],
            "text/html": [
              "\n",
              "  <div id=\"df-8c0e013a-a53e-4418-991a-d4a0f2fb94cb\">\n",
              "    <div class=\"colab-df-container\">\n",
              "      <div>\n",
              "<style scoped>\n",
              "    .dataframe tbody tr th:only-of-type {\n",
              "        vertical-align: middle;\n",
              "    }\n",
              "\n",
              "    .dataframe tbody tr th {\n",
              "        vertical-align: top;\n",
              "    }\n",
              "\n",
              "    .dataframe thead th {\n",
              "        text-align: right;\n",
              "    }\n",
              "</style>\n",
              "<table border=\"1\" class=\"dataframe\">\n",
              "  <thead>\n",
              "    <tr style=\"text-align: right;\">\n",
              "      <th></th>\n",
              "      <th>A</th>\n",
              "      <th>B</th>\n",
              "      <th>C</th>\n",
              "      <th>D</th>\n",
              "    </tr>\n",
              "  </thead>\n",
              "  <tbody>\n",
              "    <tr>\n",
              "      <th>2013-01-02</th>\n",
              "      <td>1.844514</td>\n",
              "      <td>0.799883</td>\n",
              "      <td>0.975042</td>\n",
              "      <td>0.360253</td>\n",
              "    </tr>\n",
              "    <tr>\n",
              "      <th>2013-01-03</th>\n",
              "      <td>0.241422</td>\n",
              "      <td>-0.473744</td>\n",
              "      <td>0.199555</td>\n",
              "      <td>-0.333147</td>\n",
              "    </tr>\n",
              "    <tr>\n",
              "      <th>2013-01-04</th>\n",
              "      <td>-1.723905</td>\n",
              "      <td>0.837317</td>\n",
              "      <td>-1.742124</td>\n",
              "      <td>-0.125787</td>\n",
              "    </tr>\n",
              "  </tbody>\n",
              "</table>\n",
              "</div>\n",
              "      <button class=\"colab-df-convert\" onclick=\"convertToInteractive('df-8c0e013a-a53e-4418-991a-d4a0f2fb94cb')\"\n",
              "              title=\"Convert this dataframe to an interactive table.\"\n",
              "              style=\"display:none;\">\n",
              "        \n",
              "  <svg xmlns=\"http://www.w3.org/2000/svg\" height=\"24px\"viewBox=\"0 0 24 24\"\n",
              "       width=\"24px\">\n",
              "    <path d=\"M0 0h24v24H0V0z\" fill=\"none\"/>\n",
              "    <path d=\"M18.56 5.44l.94 2.06.94-2.06 2.06-.94-2.06-.94-.94-2.06-.94 2.06-2.06.94zm-11 1L8.5 8.5l.94-2.06 2.06-.94-2.06-.94L8.5 2.5l-.94 2.06-2.06.94zm10 10l.94 2.06.94-2.06 2.06-.94-2.06-.94-.94-2.06-.94 2.06-2.06.94z\"/><path d=\"M17.41 7.96l-1.37-1.37c-.4-.4-.92-.59-1.43-.59-.52 0-1.04.2-1.43.59L10.3 9.45l-7.72 7.72c-.78.78-.78 2.05 0 2.83L4 21.41c.39.39.9.59 1.41.59.51 0 1.02-.2 1.41-.59l7.78-7.78 2.81-2.81c.8-.78.8-2.07 0-2.86zM5.41 20L4 18.59l7.72-7.72 1.47 1.35L5.41 20z\"/>\n",
              "  </svg>\n",
              "      </button>\n",
              "      \n",
              "  <style>\n",
              "    .colab-df-container {\n",
              "      display:flex;\n",
              "      flex-wrap:wrap;\n",
              "      gap: 12px;\n",
              "    }\n",
              "\n",
              "    .colab-df-convert {\n",
              "      background-color: #E8F0FE;\n",
              "      border: none;\n",
              "      border-radius: 50%;\n",
              "      cursor: pointer;\n",
              "      display: none;\n",
              "      fill: #1967D2;\n",
              "      height: 32px;\n",
              "      padding: 0 0 0 0;\n",
              "      width: 32px;\n",
              "    }\n",
              "\n",
              "    .colab-df-convert:hover {\n",
              "      background-color: #E2EBFA;\n",
              "      box-shadow: 0px 1px 2px rgba(60, 64, 67, 0.3), 0px 1px 3px 1px rgba(60, 64, 67, 0.15);\n",
              "      fill: #174EA6;\n",
              "    }\n",
              "\n",
              "    [theme=dark] .colab-df-convert {\n",
              "      background-color: #3B4455;\n",
              "      fill: #D2E3FC;\n",
              "    }\n",
              "\n",
              "    [theme=dark] .colab-df-convert:hover {\n",
              "      background-color: #434B5C;\n",
              "      box-shadow: 0px 1px 3px 1px rgba(0, 0, 0, 0.15);\n",
              "      filter: drop-shadow(0px 1px 2px rgba(0, 0, 0, 0.3));\n",
              "      fill: #FFFFFF;\n",
              "    }\n",
              "  </style>\n",
              "\n",
              "      <script>\n",
              "        const buttonEl =\n",
              "          document.querySelector('#df-8c0e013a-a53e-4418-991a-d4a0f2fb94cb button.colab-df-convert');\n",
              "        buttonEl.style.display =\n",
              "          google.colab.kernel.accessAllowed ? 'block' : 'none';\n",
              "\n",
              "        async function convertToInteractive(key) {\n",
              "          const element = document.querySelector('#df-8c0e013a-a53e-4418-991a-d4a0f2fb94cb');\n",
              "          const dataTable =\n",
              "            await google.colab.kernel.invokeFunction('convertToInteractive',\n",
              "                                                     [key], {});\n",
              "          if (!dataTable) return;\n",
              "\n",
              "          const docLinkHtml = 'Like what you see? Visit the ' +\n",
              "            '<a target=\"_blank\" href=https://colab.research.google.com/notebooks/data_table.ipynb>data table notebook</a>'\n",
              "            + ' to learn more about interactive tables.';\n",
              "          element.innerHTML = '';\n",
              "          dataTable['output_type'] = 'display_data';\n",
              "          await google.colab.output.renderOutput(dataTable, element);\n",
              "          const docLink = document.createElement('div');\n",
              "          docLink.innerHTML = docLinkHtml;\n",
              "          element.appendChild(docLink);\n",
              "        }\n",
              "      </script>\n",
              "    </div>\n",
              "  </div>\n",
              "  "
            ]
          },
          "metadata": {},
          "execution_count": 55
        }
      ]
    },
    {
      "cell_type": "code",
      "metadata": {
        "id": "1KnNUhY7uo5O",
        "outputId": "ed45b22c-72fa-4013-a1ed-ffc315c222ac",
        "colab": {
          "base_uri": "https://localhost:8080/"
        }
      },
      "source": [
        "# Cross-section\n",
        "df.loc[dates[0]]"
      ],
      "execution_count": 56,
      "outputs": [
        {
          "output_type": "execute_result",
          "data": {
            "text/plain": [
              "A    1.755240\n",
              "B    1.144730\n",
              "C    0.384722\n",
              "D   -0.091226\n",
              "Name: 2013-01-01 00:00:00, dtype: float64"
            ]
          },
          "metadata": {},
          "execution_count": 56
        }
      ]
    },
    {
      "cell_type": "code",
      "metadata": {
        "id": "ecHPXDo4uq89",
        "outputId": "de8b17b9-1939-4dc2-83d4-13b737b73996",
        "colab": {
          "base_uri": "https://localhost:8080/",
          "height": 237
        }
      },
      "source": [
        "# Multi-axis\n",
        "df.loc[:, [\"A\", \"B\"]]"
      ],
      "execution_count": 57,
      "outputs": [
        {
          "output_type": "execute_result",
          "data": {
            "text/plain": [
              "                   A         B\n",
              "2013-01-01  1.755240  1.144730\n",
              "2013-01-02  1.844514  0.799883\n",
              "2013-01-03  0.241422 -0.473744\n",
              "2013-01-04 -1.723905  0.837317\n",
              "2013-01-05 -0.986546  0.183913\n",
              "2013-01-06  0.456204  0.211631"
            ],
            "text/html": [
              "\n",
              "  <div id=\"df-b15cd54f-5c3b-48e4-8daa-8c7190d8c4da\">\n",
              "    <div class=\"colab-df-container\">\n",
              "      <div>\n",
              "<style scoped>\n",
              "    .dataframe tbody tr th:only-of-type {\n",
              "        vertical-align: middle;\n",
              "    }\n",
              "\n",
              "    .dataframe tbody tr th {\n",
              "        vertical-align: top;\n",
              "    }\n",
              "\n",
              "    .dataframe thead th {\n",
              "        text-align: right;\n",
              "    }\n",
              "</style>\n",
              "<table border=\"1\" class=\"dataframe\">\n",
              "  <thead>\n",
              "    <tr style=\"text-align: right;\">\n",
              "      <th></th>\n",
              "      <th>A</th>\n",
              "      <th>B</th>\n",
              "    </tr>\n",
              "  </thead>\n",
              "  <tbody>\n",
              "    <tr>\n",
              "      <th>2013-01-01</th>\n",
              "      <td>1.755240</td>\n",
              "      <td>1.144730</td>\n",
              "    </tr>\n",
              "    <tr>\n",
              "      <th>2013-01-02</th>\n",
              "      <td>1.844514</td>\n",
              "      <td>0.799883</td>\n",
              "    </tr>\n",
              "    <tr>\n",
              "      <th>2013-01-03</th>\n",
              "      <td>0.241422</td>\n",
              "      <td>-0.473744</td>\n",
              "    </tr>\n",
              "    <tr>\n",
              "      <th>2013-01-04</th>\n",
              "      <td>-1.723905</td>\n",
              "      <td>0.837317</td>\n",
              "    </tr>\n",
              "    <tr>\n",
              "      <th>2013-01-05</th>\n",
              "      <td>-0.986546</td>\n",
              "      <td>0.183913</td>\n",
              "    </tr>\n",
              "    <tr>\n",
              "      <th>2013-01-06</th>\n",
              "      <td>0.456204</td>\n",
              "      <td>0.211631</td>\n",
              "    </tr>\n",
              "  </tbody>\n",
              "</table>\n",
              "</div>\n",
              "      <button class=\"colab-df-convert\" onclick=\"convertToInteractive('df-b15cd54f-5c3b-48e4-8daa-8c7190d8c4da')\"\n",
              "              title=\"Convert this dataframe to an interactive table.\"\n",
              "              style=\"display:none;\">\n",
              "        \n",
              "  <svg xmlns=\"http://www.w3.org/2000/svg\" height=\"24px\"viewBox=\"0 0 24 24\"\n",
              "       width=\"24px\">\n",
              "    <path d=\"M0 0h24v24H0V0z\" fill=\"none\"/>\n",
              "    <path d=\"M18.56 5.44l.94 2.06.94-2.06 2.06-.94-2.06-.94-.94-2.06-.94 2.06-2.06.94zm-11 1L8.5 8.5l.94-2.06 2.06-.94-2.06-.94L8.5 2.5l-.94 2.06-2.06.94zm10 10l.94 2.06.94-2.06 2.06-.94-2.06-.94-.94-2.06-.94 2.06-2.06.94z\"/><path d=\"M17.41 7.96l-1.37-1.37c-.4-.4-.92-.59-1.43-.59-.52 0-1.04.2-1.43.59L10.3 9.45l-7.72 7.72c-.78.78-.78 2.05 0 2.83L4 21.41c.39.39.9.59 1.41.59.51 0 1.02-.2 1.41-.59l7.78-7.78 2.81-2.81c.8-.78.8-2.07 0-2.86zM5.41 20L4 18.59l7.72-7.72 1.47 1.35L5.41 20z\"/>\n",
              "  </svg>\n",
              "      </button>\n",
              "      \n",
              "  <style>\n",
              "    .colab-df-container {\n",
              "      display:flex;\n",
              "      flex-wrap:wrap;\n",
              "      gap: 12px;\n",
              "    }\n",
              "\n",
              "    .colab-df-convert {\n",
              "      background-color: #E8F0FE;\n",
              "      border: none;\n",
              "      border-radius: 50%;\n",
              "      cursor: pointer;\n",
              "      display: none;\n",
              "      fill: #1967D2;\n",
              "      height: 32px;\n",
              "      padding: 0 0 0 0;\n",
              "      width: 32px;\n",
              "    }\n",
              "\n",
              "    .colab-df-convert:hover {\n",
              "      background-color: #E2EBFA;\n",
              "      box-shadow: 0px 1px 2px rgba(60, 64, 67, 0.3), 0px 1px 3px 1px rgba(60, 64, 67, 0.15);\n",
              "      fill: #174EA6;\n",
              "    }\n",
              "\n",
              "    [theme=dark] .colab-df-convert {\n",
              "      background-color: #3B4455;\n",
              "      fill: #D2E3FC;\n",
              "    }\n",
              "\n",
              "    [theme=dark] .colab-df-convert:hover {\n",
              "      background-color: #434B5C;\n",
              "      box-shadow: 0px 1px 3px 1px rgba(0, 0, 0, 0.15);\n",
              "      filter: drop-shadow(0px 1px 2px rgba(0, 0, 0, 0.3));\n",
              "      fill: #FFFFFF;\n",
              "    }\n",
              "  </style>\n",
              "\n",
              "      <script>\n",
              "        const buttonEl =\n",
              "          document.querySelector('#df-b15cd54f-5c3b-48e4-8daa-8c7190d8c4da button.colab-df-convert');\n",
              "        buttonEl.style.display =\n",
              "          google.colab.kernel.accessAllowed ? 'block' : 'none';\n",
              "\n",
              "        async function convertToInteractive(key) {\n",
              "          const element = document.querySelector('#df-b15cd54f-5c3b-48e4-8daa-8c7190d8c4da');\n",
              "          const dataTable =\n",
              "            await google.colab.kernel.invokeFunction('convertToInteractive',\n",
              "                                                     [key], {});\n",
              "          if (!dataTable) return;\n",
              "\n",
              "          const docLinkHtml = 'Like what you see? Visit the ' +\n",
              "            '<a target=\"_blank\" href=https://colab.research.google.com/notebooks/data_table.ipynb>data table notebook</a>'\n",
              "            + ' to learn more about interactive tables.';\n",
              "          element.innerHTML = '';\n",
              "          dataTable['output_type'] = 'display_data';\n",
              "          await google.colab.output.renderOutput(dataTable, element);\n",
              "          const docLink = document.createElement('div');\n",
              "          docLink.innerHTML = docLinkHtml;\n",
              "          element.appendChild(docLink);\n",
              "        }\n",
              "      </script>\n",
              "    </div>\n",
              "  </div>\n",
              "  "
            ]
          },
          "metadata": {},
          "execution_count": 57
        }
      ]
    },
    {
      "cell_type": "code",
      "metadata": {
        "id": "Hy37yLMcusta",
        "outputId": "2319519e-9a29-491c-947e-bb79eb10684c",
        "colab": {
          "base_uri": "https://localhost:8080/",
          "height": 175
        }
      },
      "source": [
        "# Boolean indexing\n",
        "df[df.A > 0]"
      ],
      "execution_count": 58,
      "outputs": [
        {
          "output_type": "execute_result",
          "data": {
            "text/plain": [
              "                   A         B         C         D\n",
              "2013-01-01  1.755240  1.144730  0.384722 -0.091226\n",
              "2013-01-02  1.844514  0.799883  0.975042  0.360253\n",
              "2013-01-03  0.241422 -0.473744  0.199555 -0.333147\n",
              "2013-01-06  0.456204  0.211631  1.294752  0.247312"
            ],
            "text/html": [
              "\n",
              "  <div id=\"df-9185e631-c205-483d-8295-8e7772bd6078\">\n",
              "    <div class=\"colab-df-container\">\n",
              "      <div>\n",
              "<style scoped>\n",
              "    .dataframe tbody tr th:only-of-type {\n",
              "        vertical-align: middle;\n",
              "    }\n",
              "\n",
              "    .dataframe tbody tr th {\n",
              "        vertical-align: top;\n",
              "    }\n",
              "\n",
              "    .dataframe thead th {\n",
              "        text-align: right;\n",
              "    }\n",
              "</style>\n",
              "<table border=\"1\" class=\"dataframe\">\n",
              "  <thead>\n",
              "    <tr style=\"text-align: right;\">\n",
              "      <th></th>\n",
              "      <th>A</th>\n",
              "      <th>B</th>\n",
              "      <th>C</th>\n",
              "      <th>D</th>\n",
              "    </tr>\n",
              "  </thead>\n",
              "  <tbody>\n",
              "    <tr>\n",
              "      <th>2013-01-01</th>\n",
              "      <td>1.755240</td>\n",
              "      <td>1.144730</td>\n",
              "      <td>0.384722</td>\n",
              "      <td>-0.091226</td>\n",
              "    </tr>\n",
              "    <tr>\n",
              "      <th>2013-01-02</th>\n",
              "      <td>1.844514</td>\n",
              "      <td>0.799883</td>\n",
              "      <td>0.975042</td>\n",
              "      <td>0.360253</td>\n",
              "    </tr>\n",
              "    <tr>\n",
              "      <th>2013-01-03</th>\n",
              "      <td>0.241422</td>\n",
              "      <td>-0.473744</td>\n",
              "      <td>0.199555</td>\n",
              "      <td>-0.333147</td>\n",
              "    </tr>\n",
              "    <tr>\n",
              "      <th>2013-01-06</th>\n",
              "      <td>0.456204</td>\n",
              "      <td>0.211631</td>\n",
              "      <td>1.294752</td>\n",
              "      <td>0.247312</td>\n",
              "    </tr>\n",
              "  </tbody>\n",
              "</table>\n",
              "</div>\n",
              "      <button class=\"colab-df-convert\" onclick=\"convertToInteractive('df-9185e631-c205-483d-8295-8e7772bd6078')\"\n",
              "              title=\"Convert this dataframe to an interactive table.\"\n",
              "              style=\"display:none;\">\n",
              "        \n",
              "  <svg xmlns=\"http://www.w3.org/2000/svg\" height=\"24px\"viewBox=\"0 0 24 24\"\n",
              "       width=\"24px\">\n",
              "    <path d=\"M0 0h24v24H0V0z\" fill=\"none\"/>\n",
              "    <path d=\"M18.56 5.44l.94 2.06.94-2.06 2.06-.94-2.06-.94-.94-2.06-.94 2.06-2.06.94zm-11 1L8.5 8.5l.94-2.06 2.06-.94-2.06-.94L8.5 2.5l-.94 2.06-2.06.94zm10 10l.94 2.06.94-2.06 2.06-.94-2.06-.94-.94-2.06-.94 2.06-2.06.94z\"/><path d=\"M17.41 7.96l-1.37-1.37c-.4-.4-.92-.59-1.43-.59-.52 0-1.04.2-1.43.59L10.3 9.45l-7.72 7.72c-.78.78-.78 2.05 0 2.83L4 21.41c.39.39.9.59 1.41.59.51 0 1.02-.2 1.41-.59l7.78-7.78 2.81-2.81c.8-.78.8-2.07 0-2.86zM5.41 20L4 18.59l7.72-7.72 1.47 1.35L5.41 20z\"/>\n",
              "  </svg>\n",
              "      </button>\n",
              "      \n",
              "  <style>\n",
              "    .colab-df-container {\n",
              "      display:flex;\n",
              "      flex-wrap:wrap;\n",
              "      gap: 12px;\n",
              "    }\n",
              "\n",
              "    .colab-df-convert {\n",
              "      background-color: #E8F0FE;\n",
              "      border: none;\n",
              "      border-radius: 50%;\n",
              "      cursor: pointer;\n",
              "      display: none;\n",
              "      fill: #1967D2;\n",
              "      height: 32px;\n",
              "      padding: 0 0 0 0;\n",
              "      width: 32px;\n",
              "    }\n",
              "\n",
              "    .colab-df-convert:hover {\n",
              "      background-color: #E2EBFA;\n",
              "      box-shadow: 0px 1px 2px rgba(60, 64, 67, 0.3), 0px 1px 3px 1px rgba(60, 64, 67, 0.15);\n",
              "      fill: #174EA6;\n",
              "    }\n",
              "\n",
              "    [theme=dark] .colab-df-convert {\n",
              "      background-color: #3B4455;\n",
              "      fill: #D2E3FC;\n",
              "    }\n",
              "\n",
              "    [theme=dark] .colab-df-convert:hover {\n",
              "      background-color: #434B5C;\n",
              "      box-shadow: 0px 1px 3px 1px rgba(0, 0, 0, 0.15);\n",
              "      filter: drop-shadow(0px 1px 2px rgba(0, 0, 0, 0.3));\n",
              "      fill: #FFFFFF;\n",
              "    }\n",
              "  </style>\n",
              "\n",
              "      <script>\n",
              "        const buttonEl =\n",
              "          document.querySelector('#df-9185e631-c205-483d-8295-8e7772bd6078 button.colab-df-convert');\n",
              "        buttonEl.style.display =\n",
              "          google.colab.kernel.accessAllowed ? 'block' : 'none';\n",
              "\n",
              "        async function convertToInteractive(key) {\n",
              "          const element = document.querySelector('#df-9185e631-c205-483d-8295-8e7772bd6078');\n",
              "          const dataTable =\n",
              "            await google.colab.kernel.invokeFunction('convertToInteractive',\n",
              "                                                     [key], {});\n",
              "          if (!dataTable) return;\n",
              "\n",
              "          const docLinkHtml = 'Like what you see? Visit the ' +\n",
              "            '<a target=\"_blank\" href=https://colab.research.google.com/notebooks/data_table.ipynb>data table notebook</a>'\n",
              "            + ' to learn more about interactive tables.';\n",
              "          element.innerHTML = '';\n",
              "          dataTable['output_type'] = 'display_data';\n",
              "          await google.colab.output.renderOutput(dataTable, element);\n",
              "          const docLink = document.createElement('div');\n",
              "          docLink.innerHTML = docLinkHtml;\n",
              "          element.appendChild(docLink);\n",
              "        }\n",
              "      </script>\n",
              "    </div>\n",
              "  </div>\n",
              "  "
            ]
          },
          "metadata": {},
          "execution_count": 58
        }
      ]
    },
    {
      "cell_type": "markdown",
      "metadata": {
        "id": "NI5htGTsvEOC"
      },
      "source": [
        "## Matplotlib\n",
        "Matplotlib es una biblioteca de ploteo de Python.\n",
        "\n",
        "**Matplotlib, Numpy y Pandas forman las tres herramientas más importantes en el análisis de datos.**"
      ]
    },
    {
      "cell_type": "code",
      "metadata": {
        "id": "lno9DxQ2vLjM",
        "outputId": "7e71bf7a-90f6-4a54-8e55-aef0778337af",
        "colab": {
          "base_uri": "https://localhost:8080/",
          "height": 277
        }
      },
      "source": [
        "import matplotlib.pyplot as plt\n",
        "# Para que Matplotlib plots lo muestre en notebook.\n",
        "%matplotlib inline\n",
        "\n",
        "# Produce a random timeseries\n",
        "ts = pd.Series(np.random.randn(1000), index=pd.date_range('1/1/2000', periods=1000))\n",
        "\n",
        "# Get the cumulative sum of the random numbers generated to mimic a historic data series\n",
        "ts = ts.cumsum()\n",
        "\n",
        "# And plot\n",
        "ts.plot()\n",
        "\n",
        "# Save\n",
        "plt.savefig('timeseries.png')"
      ],
      "execution_count": 61,
      "outputs": [
        {
          "output_type": "display_data",
          "data": {
            "text/plain": [
              "<Figure size 432x288 with 1 Axes>"
            ],
            "image/png": "[encoded data removed]"
          },
          "metadata": {
            "needs_background": "light"
          }
        }
      ]
    },
    {
      "cell_type": "code",
      "metadata": {
        "id": "SFMaouSrvjH5",
        "outputId": "8a9f4d58-64c4-4174-9385-f489c3e2870f",
        "colab": {
          "base_uri": "https://localhost:8080/",
          "height": 277
        }
      },
      "source": [
        "# And do the same thing with a dataframe\n",
        "df = pd.DataFrame(np.random.randn(1000, 4), index=ts.index,\n",
        "                  columns=['A', 'B', 'C', 'D'])\n",
        "\n",
        "df = df.cumsum()\n",
        "\n",
        "# And plot, this time creating a figure and adding a plot and legend to it\n",
        "df.plot()\n",
        "plt.legend(loc='best')\n",
        "\n",
        "# Save\n",
        "plt.savefig('series.png')"
      ],
      "execution_count": 60,
      "outputs": [
        {
          "output_type": "display_data",
          "data": {
            "text/plain": [
              "<Figure size 432x288 with 1 Axes>"
            ],
            "image/png": "[encoded data removed]"
          },
          "metadata": {
            "needs_background": "light"
          }
        }
      ]
    },
    {
      "cell_type": "markdown",
      "metadata": {
        "id": "8DBy3gV0zpaY"
      },
      "source": [
        "# Leer archivos csv + Pandas\n",
        "\n"
      ]
    },
    {
      "cell_type": "code",
      "metadata": {
        "id": "toCxY-bJ13Ej",
        "colab": {
          "resources": {
            "http://localhost:8080/nbextensions/google.colab/files.js": {
              "data": "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",
              "ok": true,
              "headers": [
                [
                  "content-type",
                  "application/javascript"
                ]
              ],
              "status": 200,
              "status_text": ""
            }
          },
          "base_uri": "https://localhost:8080/",
          "height": 74
        },
        "outputId": "3d49e060-6e07-42ed-893b-8c7a0e4050bd"
      },
      "source": [
        "from google.colab import files\n",
        "uploaded = files.upload()"
      ],
      "execution_count": 62,
      "outputs": [
        {
          "output_type": "display_data",
          "data": {
            "text/plain": [
              "<IPython.core.display.HTML object>"
            ],
            "text/html": [
              "\n",
              "     <input type=\"file\" id=\"files-753370ea-09ae-49eb-9d80-f7b775a2e4c6\" name=\"files[]\" multiple disabled\n",
              "        style=\"border:none\" />\n",
              "     <output id=\"result-753370ea-09ae-49eb-9d80-f7b775a2e4c6\">\n",
              "      Upload widget is only available when the cell has been executed in the\n",
              "      current browser session. Please rerun this cell to enable.\n",
              "      </output>\n",
              "      <script src=\"/nbextensions/google.colab/files.js\"></script> "
            ]
          },
          "metadata": {}
        },
        {
          "output_type": "stream",
          "name": "stdout",
          "text": [
            "Saving Automobile_data.csv to Automobile_data.csv\n"
          ]
        }
      ]
    },
    {
      "cell_type": "code",
      "metadata": {
        "id": "q5oHCauf2J_D"
      },
      "source": [
        "import pandas as pd\n",
        "import io\n",
        "cars = pd.read_csv(io.StringIO(uploaded['Automobile_data.csv'].decode('utf-8')))"
      ],
      "execution_count": 63,
      "outputs": []
    },
    {
      "cell_type": "code",
      "metadata": {
        "id": "1WdtDhyT2k3J",
        "colab": {
          "base_uri": "https://localhost:8080/"
        },
        "outputId": "87933487-41f3-4091-d9e6-1ffbcd9e921f"
      },
      "source": [
        "print(cars.shape)"
      ],
      "execution_count": 64,
      "outputs": [
        {
          "output_type": "stream",
          "name": "stdout",
          "text": [
            "(61, 10)\n"
          ]
        }
      ]
    },
    {
      "cell_type": "code",
      "metadata": {
        "id": "ltPT-Zls2n7R",
        "colab": {
          "base_uri": "https://localhost:8080/"
        },
        "outputId": "f31b28a0-cabf-45d6-a2b2-731b38a50529"
      },
      "source": [
        "print(cars.dtypes)"
      ],
      "execution_count": null,
      "outputs": [
        {
          "output_type": "stream",
          "text": [
            "index                 int64\n",
            "company              object\n",
            "body-style           object\n",
            "wheel-base          float64\n",
            "length              float64\n",
            "engine-type          object\n",
            "num-of-cylinders     object\n",
            "horsepower           object\n",
            "average-mileage      object\n",
            "price               float64\n",
            "dtype: object\n"
          ],
          "name": "stdout"
        }
      ]
    },
    {
      "cell_type": "code",
      "metadata": {
        "id": "Y5et9oM32qVo",
        "colab": {
          "base_uri": "https://localhost:8080/"
        },
        "outputId": "74a0d99e-c5a6-440e-e28a-d3ce7490fdfa"
      },
      "source": [
        "print(cars.head())"
      ],
      "execution_count": null,
      "outputs": [
        {
          "output_type": "stream",
          "text": [
            "   index      company   body-style  ...  horsepower  average-mileage    price\n",
            "0      0  alfa-romero  convertible  ...           ?               21  13495.0\n",
            "1      1  alfa-romero  convertible  ...         111                ?  16500.0\n",
            "2      2  alfa-romero    hatchback  ...         154               19  16500.0\n",
            "3      3         audi        sedan  ...         102               24  13950.0\n",
            "4      4         audi        sedan  ...         115               18  17450.0\n",
            "\n",
            "[5 rows x 10 columns]\n"
          ],
          "name": "stdout"
        }
      ]
    },
    {
      "cell_type": "code",
      "metadata": {
        "id": "B0GJX-rRO9oB",
        "colab": {
          "base_uri": "https://localhost:8080/"
        },
        "outputId": "6690fb98-4879-422f-caa9-83ba41b8d8f7"
      },
      "source": [
        "# Clean data and update the CSV file \n",
        "\n",
        "df = pd.read_csv(io.StringIO(uploaded['Automobile_data.csv'].decode('utf-8')), na_values={\n",
        "'price':[\"?\",\"n.a\"],\n",
        "'stroke':[\"?\",\"n.a\"],\n",
        "'horsepower':[\"?\",\"n.a\"],\n",
        "'peak-rpm':[\"?\",\"n.a\"],\n",
        "'average-mileage':[\"?\",\"n.a\"]})\n",
        "print(df)\n",
        "\n",
        "#df.to_csv(\"\")"
      ],
      "execution_count": null,
      "outputs": [
        {
          "output_type": "stream",
          "text": [
            "    index      company   body-style  ...  horsepower  average-mileage    price\n",
            "0       0  alfa-romero  convertible  ...         NaN             21.0  13495.0\n",
            "1       1  alfa-romero  convertible  ...       111.0              NaN  16500.0\n",
            "2       2  alfa-romero    hatchback  ...       154.0             19.0  16500.0\n",
            "3       3         audi        sedan  ...       102.0             24.0  13950.0\n",
            "4       4         audi        sedan  ...       115.0             18.0  17450.0\n",
            "..    ...          ...          ...  ...         ...              ...      ...\n",
            "56     81   volkswagen        sedan  ...        85.0             27.0   7975.0\n",
            "57     82   volkswagen        sedan  ...        52.0             37.0   7995.0\n",
            "58     86   volkswagen        sedan  ...         NaN             26.0   9995.0\n",
            "59     87        volvo        sedan  ...       114.0             23.0  12940.0\n",
            "60     88        volvo        wagon  ...       114.0              NaN  13415.0\n",
            "\n",
            "[61 rows x 10 columns]\n"
          ],
          "name": "stdout"
        }
      ]
    },
    {
      "cell_type": "code",
      "metadata": {
        "id": "41HPhhYQQigp",
        "colab": {
          "base_uri": "https://localhost:8080/",
          "height": 77
        },
        "outputId": "05f79ccb-682f-4fca-9dbf-6c00af913a05"
      },
      "source": [
        "# Find the most expensive car company name\n",
        "\n",
        "df = df [['company','price']][df.price==df['price'].max()]\n",
        "df"
      ],
      "execution_count": null,
      "outputs": [
        {
          "output_type": "execute_result",
          "data": {
            "text/html": [
              "<div>\n",
              "<style scoped>\n",
              "    .dataframe tbody tr th:only-of-type {\n",
              "        vertical-align: middle;\n",
              "    }\n",
              "\n",
              "    .dataframe tbody tr th {\n",
              "        vertical-align: top;\n",
              "    }\n",
              "\n",
              "    .dataframe thead th {\n",
              "        text-align: right;\n",
              "    }\n",
              "</style>\n",
              "<table border=\"1\" class=\"dataframe\">\n",
              "  <thead>\n",
              "    <tr style=\"text-align: right;\">\n",
              "      <th></th>\n",
              "      <th>company</th>\n",
              "      <th>price</th>\n",
              "    </tr>\n",
              "  </thead>\n",
              "  <tbody>\n",
              "    <tr>\n",
              "      <th>35</th>\n",
              "      <td>mercedes-benz</td>\n",
              "      <td>45400.0</td>\n",
              "    </tr>\n",
              "  </tbody>\n",
              "</table>\n",
              "</div>"
            ],
            "text/plain": [
              "          company    price\n",
              "35  mercedes-benz  45400.0"
            ]
          },
          "metadata": {
            "tags": []
          },
          "execution_count": 181
        }
      ]
    },
    {
      "cell_type": "code",
      "metadata": {
        "id": "AuamxEKtQog4"
      },
      "source": [
        "# Print All Toyota Cars details\n",
        "cars = pd.read_csv(io.StringIO(uploaded['Automobile_data.csv'].decode('utf-8')))\n",
        "car_Manufacturers = cars.groupby('company')\n",
        "toyotaDf = car_Manufacturers.get_group('toyota')\n",
        "toyotaDf"
      ],
      "execution_count": null,
      "outputs": []
    },
    {
      "cell_type": "code",
      "metadata": {
        "id": "sz7h-Jo5Q7jJ"
      },
      "source": [
        "#  Count total cars per company\n",
        "cars['company'].value_counts()"
      ],
      "execution_count": null,
      "outputs": []
    },
    {
      "cell_type": "code",
      "metadata": {
        "id": "YphDdpUZRAkh"
      },
      "source": [
        "# Find each company’s highest price car\n",
        "priceDf = car_Manufacturers['company','price'].max()\n",
        "priceDf"
      ],
      "execution_count": null,
      "outputs": []
    },
    {
      "cell_type": "code",
      "metadata": {
        "id": "rVJnf-aqRH90"
      },
      "source": [
        "# Find the average mileage of each car making company\n",
        "df = pd.read_csv(io.StringIO(uploaded['Automobile_data.csv'].decode('utf-8')), na_values={\n",
        "'price':[\"?\",\"n.a\"],\n",
        "'stroke':[\"?\",\"n.a\"],\n",
        "'horsepower':[\"?\",\"n.a\"],\n",
        "'peak-rpm':[\"?\",\"n.a\"],\n",
        "'average-mileage':[\"?\",\"n.a\"]})\n",
        "\n",
        "# No funciona .mean si están los ?\n",
        "car_Manufacturers = df.groupby('company')\n",
        "mileageDf = car_Manufacturers['company','average-mileage'].mean()\n",
        "mileageDf"
      ],
      "execution_count": null,
      "outputs": []
    },
    {
      "cell_type": "code",
      "metadata": {
        "id": "hvtmCFFnTvpV"
      },
      "source": [
        "# Sort all cars by Price column\n",
        "cars = cars.sort_values(by=['price', 'horsepower'], ascending=False)\n",
        "cars.head(5)"
      ],
      "execution_count": null,
      "outputs": []
    },
    {
      "cell_type": "code",
      "metadata": {
        "id": "EsPYb0_3T1FN"
      },
      "source": [
        "# Concatenate two data frames using the following conditions\n",
        "GermanCars = {'Company': ['Ford', 'Mercedes', 'BMV', 'Audi'], 'Price': [23845, 171995, 135925 , 71400]}\n",
        "carsDf1 = pd.DataFrame.from_dict(GermanCars)\n",
        "\n",
        "japaneseCars = {'Company': ['Toyota', 'Honda', 'Nissan', 'Mitsubishi '], 'Price': [29995, 23600, 61500 , 58900]}\n",
        "carsDf2 = pd.DataFrame.from_dict(japaneseCars)\n",
        "\n",
        "carsDf = pd.concat([carsDf1, carsDf2], keys=[\"Germany\", \"Japan\"])\n",
        "carsDf"
      ],
      "execution_count": null,
      "outputs": []
    },
    {
      "cell_type": "code",
      "metadata": {
        "id": "qsKa075-T7d6"
      },
      "source": [
        "# Merge two data frames using the following condition\n",
        "Car_Price = {'Company': ['Toyota', 'Honda', 'BMV', 'Audi'], 'Price': [23845, 17995, 135925 , 71400]}\n",
        "carPriceDf = pd.DataFrame.from_dict(Car_Price)\n",
        "\n",
        "car_Horsepower = {'Company': ['Toyota', 'Honda', 'BMV', 'Audi'], 'horsepower': [141, 80, 182 , 160]}\n",
        "carsHorsepowerDf = pd.DataFrame.from_dict(car_Horsepower)\n",
        "\n",
        "carsDf = pd.merge(carPriceDf, carsHorsepowerDf, on=\"Company\")\n",
        "carsDf"
      ],
      "execution_count": null,
      "outputs": []
    }
  ]
}