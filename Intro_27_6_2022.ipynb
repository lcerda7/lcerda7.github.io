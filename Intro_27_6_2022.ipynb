{
  "nbformat": 4,
  "nbformat_minor": 0,
  "metadata": {
    "colab": {
      "name": "Intro 27/6/2022.ipynb",
      "provenance": [],
      "collapsed_sections": [],
      "toc_visible": true,
      "include_colab_link": true
    },
    "kernelspec": {
      "name": "python3",
      "display_name": "Python 3"
    }
  },
  "cells": [
    {
      "cell_type": "markdown",
      "metadata": {
        "id": "view-in-github",
        "colab_type": "text"
      },
      "source": [
        "<a href=\"https://colab.research.google.com/github/lcerda7/lcerda7.github.io/blob/master/Intro_27_6_2022.ipynb\" target=\"_parent\"><img src=\"https://colab.research.google.com/assets/colab-badge.svg\" alt=\"Open In Colab\"/></a>"
      ]
    },
    {
      "cell_type": "markdown",
      "metadata": {
        "id": "IYjO9FJ0TtUA"
      },
      "source": [
        "**Python básico**"
      ]
    },
    {
      "cell_type": "markdown",
      "metadata": {
        "id": "BBuHZ-vLaKXg"
      },
      "source": [
        "# Hello, World!"
      ]
    },
    {
      "cell_type": "code",
      "metadata": {
        "id": "CtpTLiAVUx3s",
        "colab": {
          "base_uri": "https://localhost:8080/"
        },
        "outputId": "0639653f-3c9f-422b-f637-eedbfa9e3194"
      },
      "source": [
        "print(\"Hello, World!\")"
      ],
      "execution_count": 1,
      "outputs": [
        {
          "output_type": "stream",
          "name": "stdout",
          "text": [
            "Hello, World!\n"
          ]
        }
      ]
    },
    {
      "cell_type": "markdown",
      "metadata": {
        "id": "jaVTq6TbU2x6"
      },
      "source": [
        "Acabamos de correr nuestro primer programa. Notar que el programa nos resalta las palabras de distintos colores. *print* es un termino \"protegido\"  y lo resalta en marrón. El color dependerá del programa que usemos."
      ]
    },
    {
      "cell_type": "markdown",
      "metadata": {
        "id": "9Pad-D04aNa7"
      },
      "source": [
        "# Sangrías (indentation)"
      ]
    },
    {
      "cell_type": "markdown",
      "metadata": {
        "id": "VlW8sdnIanui"
      },
      "source": [
        "Python utiliza la indentación para indicar las partes del código que deben ser ejecutadas juntas. Se admiten tanto tabulaciones como espacios. \n",
        "\n",
        "Es fundamental esto para Python. Un loop finaliza cuando se escribe un comando que tiene menor sangría que el anterior.\n",
        "\n",
        "En este ejercicio se asignará un valor a una variable, comprobará si una comparación es verdadera, y luego - basándose en el resultado - imprimirá. \n",
        "\n",
        "(Podrés apretar Ctrl+Enter para que corra el código)"
      ]
    },
    {
      "cell_type": "code",
      "metadata": {
        "id": "4lY6Yv9AReA_",
        "colab": {
          "base_uri": "https://localhost:8080/"
        },
        "outputId": "2391d8db-3bb3-4e0a-cd5c-1bec7f24ae9c"
      },
      "source": [
        "x = 1\n",
        "if x == 1:\n",
        "  # Indented  \n",
        "  print(\"x is 1\")"
      ],
      "execution_count": 2,
      "outputs": [
        {
          "output_type": "stream",
          "name": "stdout",
          "text": [
            "x is 1\n"
          ]
        }
      ]
    },
    {
      "cell_type": "markdown",
      "metadata": {
        "id": "MubSmavGZg_o"
      },
      "source": [
        "Cualquier término de texto no protegido puede ser una variable. *x* podría haber sido tu nombre. Normalmente nombramos las variables de la forma más descriptiva posible para poder leer algoritmos como el texto (es decir, el código se describe a sí mismo)."
      ]
    },
    {
      "cell_type": "markdown",
      "metadata": {
        "id": "CL2PhMstbvML"
      },
      "source": [
        "\n",
        "\n",
        "---\n",
        "\n",
        "\n",
        "Usar nombres de variables válidos!\n",
        "\n",
        "* Los nombres de las variables pueden contener letras, números y guión bajo.\n",
        "* NO se puede empezar el nombre de una variable con un dígito, o usar las palabras protegidas de Python (ej. False, list, None, zip, else, class, ...).\n",
        "* NO usar un espacio en el medio del nombre de una variable.\n",
        "* Case-sensitive\n",
        "\n",
        "\n",
        "---\n",
        "\n",
        "\n"
      ]
    },
    {
      "cell_type": "markdown",
      "metadata": {
        "id": "fDhWFyV3ci-P"
      },
      "source": [
        "# Variables y Tipos de datos"
      ]
    },
    {
      "cell_type": "markdown",
      "metadata": {
        "id": "amTHFgJMER59"
      },
      "source": [
        "[Data Types](https://drive.google.com/file/d/1tRSMdUwpOnH8AoLceyFPNJ3jenBb8YUw/view?usp=sharing)"
      ]
    },
    {
      "cell_type": "markdown",
      "metadata": {
        "id": "Jk5EaGcRc6ZS"
      },
      "source": [
        "Cada variable es un *objeto*.\n",
        "\n",
        "Tipo de datos\n",
        "* Números: Integer, Float, Boolean\n",
        "* Strings (texto)\n",
        "* Listas\n",
        "* Tuple\n",
        "* Array\n",
        "* Diccionarios\n",
        "* Set\n",
        "* File\n",
        "\n",
        "|Estructura de datos | Propiedades| Sintaxis|\n",
        "|----|----|----|\n",
        "|List | Ordenada, secuencia mutable | mylist = [1,2,3] |\n",
        "|Tuple | Ordenada, secuencia inmutable | mytuple = (1,2,3) |\n",
        "|Set | Conjunto no ordenado de valores únicos, mutable con elementos inmutables| myset = set([1,2,3]) o myset={1,2,3} |\n",
        "|Dictionary | Conjunto mutable de pares de valores | mydict = {'first_value':1, 'second_value:2} |"
      ]
    },
    {
      "cell_type": "markdown",
      "metadata": {
        "id": "Dwoslz9Udh14"
      },
      "source": [
        "Números\n",
        "--\n",
        "\n",
        "2 tipos de números: *integers* y *floats*.\n",
        "Ojo! al convertir uno al otro\n",
        "\n",
        "\n"
      ]
    },
    {
      "cell_type": "code",
      "metadata": {
        "id": "WMtfQ90CdupF",
        "colab": {
          "base_uri": "https://localhost:8080/"
        },
        "outputId": "8f8a383a-577b-465e-b478-cd279725ef79"
      },
      "source": [
        "myint = 7\n",
        "print(myint)"
      ],
      "execution_count": 3,
      "outputs": [
        {
          "output_type": "stream",
          "name": "stdout",
          "text": [
            "7\n"
          ]
        }
      ]
    },
    {
      "cell_type": "code",
      "metadata": {
        "id": "ZU4K5KfId7Dl",
        "colab": {
          "base_uri": "https://localhost:8080/"
        },
        "outputId": "cc8ebd77-7fd0-4a56-f0cf-1ce59de75f24"
      },
      "source": [
        "myfloat = 7.0\n",
        "print(myfloat)\n",
        "# Convertir a float\n",
        "myfloat = float(myint)\n",
        "# `float` es un término protegido\n",
        "print(myfloat)"
      ],
      "execution_count": 4,
      "outputs": [
        {
          "output_type": "stream",
          "name": "stdout",
          "text": [
            "7.0\n",
            "7.0\n"
          ]
        }
      ]
    },
    {
      "cell_type": "code",
      "metadata": {
        "id": "wOfeT9uud7jQ",
        "colab": {
          "base_uri": "https://localhost:8080/"
        },
        "outputId": "42d98cb6-4390-429d-9e2c-3ff9d4bee53c"
      },
      "source": [
        "# Convertir float a integer\n",
        "myint = int(7.8)\n",
        "print(myint)"
      ],
      "execution_count": 5,
      "outputs": [
        {
          "output_type": "stream",
          "name": "stdout",
          "text": [
            "7\n"
          ]
        }
      ]
    },
    {
      "cell_type": "markdown",
      "metadata": {
        "id": "7cWGlV5C318t"
      },
      "source": [
        "* La división (/) siempre devuelve un número *float*.\n",
        "* Existe la *floored division* (//) que devuelve un número *float* si alguno de los operandos es *float* o un entero si ambos son enteros."
      ]
    },
    {
      "cell_type": "code",
      "metadata": {
        "id": "3xmdVtAQQT0_",
        "colab": {
          "base_uri": "https://localhost:8080/"
        },
        "outputId": "f28d854d-f9e3-487d-ce3c-405d35c1aa5a"
      },
      "source": [
        "print(10 / 20)\n",
        "print(10 / 2)\n",
        "y= 10 / 2\n",
        "print(y==5)\n",
        "print(10 // 20)\n",
        "print(10 // 2)\n",
        "print(5.0 // 2)\n",
        "\n"
      ],
      "execution_count": 6,
      "outputs": [
        {
          "output_type": "stream",
          "name": "stdout",
          "text": [
            "0.5\n",
            "5.0\n",
            "True\n",
            "0\n",
            "5\n",
            "2.0\n"
          ]
        }
      ]
    },
    {
      "cell_type": "code",
      "metadata": {
        "id": "4_cskjmvsg-a",
        "colab": {
          "base_uri": "https://localhost:8080/"
        },
        "outputId": "b0fb003a-b83d-4d6a-c2ba-0cc46d3439c0"
      },
      "source": [
        "# Conversión implícita\n",
        "print(5 + 2.0)\n",
        "# Conversión explícita\n",
        "print(float(5 + 2))"
      ],
      "execution_count": 7,
      "outputs": [
        {
          "output_type": "stream",
          "name": "stdout",
          "text": [
            "7.0\n",
            "7.0\n"
          ]
        }
      ]
    },
    {
      "cell_type": "markdown",
      "metadata": {
        "id": "WFMB5HnLedQJ"
      },
      "source": [
        "---\n",
        "Strings\n",
        "---\n",
        "\n",
        "Se puede usar comillas simples o dobles. Pero tener cuidado si el texto tiene apóstrofes...\n"
      ]
    },
    {
      "cell_type": "code",
      "metadata": {
        "id": "ckkUcsCxfPUB",
        "colab": {
          "base_uri": "https://localhost:8080/"
        },
        "outputId": "28aff89c-bfb9-4aa5-ccd8-ef5ebb369fc4"
      },
      "source": [
        "mystring = \"Hello, World!\"\n",
        "print(mystring)\n",
        "mystring = \"Let's talk about apostrophes...\"\n",
        "print(mystring)\n",
        "mystring = 'Let'\n",
        "print(mystring)"
      ],
      "execution_count": 8,
      "outputs": [
        {
          "output_type": "stream",
          "name": "stdout",
          "text": [
            "Hello, World!\n",
            "Let's talk about apostrophes...\n",
            "Let\n"
          ]
        }
      ]
    },
    {
      "cell_type": "markdown",
      "metadata": {
        "id": "1LiPqD-ghSSK"
      },
      "source": [
        "También se pueden aplicar operadores simples a sus variables, o asignar múltiples variables simultáneamente."
      ]
    },
    {
      "cell_type": "code",
      "metadata": {
        "id": "4qyUCnn0fgB3",
        "colab": {
          "base_uri": "https://localhost:8080/"
        },
        "outputId": "fd7dd898-51cd-4e90-83d0-86b109cf426f"
      },
      "source": [
        "one = 1\n",
        "two = 2\n",
        "three = one + two\n",
        "print(three)\n",
        "\n",
        "hello = \"Hello,\"\n",
        "world = \"World!\"\n",
        "helloworld = hello + \" \" + world\n",
        "print(helloworld)\n",
        "\n",
        "a, b = 3, 4\n",
        "print(a)\n",
        "print(a, b)\n",
        "\n",
        "a=3\n",
        "b=4\n",
        "n=3*4\n",
        "print('El producto de', a , 'por' , b , 'es', n)\n",
        "# f-string\n",
        "print(f'El producto de {a} por {b} es {n}')"
      ],
      "execution_count": 9,
      "outputs": [
        {
          "output_type": "stream",
          "name": "stdout",
          "text": [
            "3\n",
            "Hello, World!\n",
            "3\n",
            "3 4\n",
            "El producto de 3 por 4 es 12\n",
            "El producto de 3 por 4 es 12\n"
          ]
        }
      ]
    },
    {
      "cell_type": "markdown",
      "metadata": {
        "id": "HK_fUtLehhC1"
      },
      "source": [
        "Pero mezclar distintos tipos de variables causa problemas."
      ]
    },
    {
      "cell_type": "code",
      "metadata": {
        "id": "ZBUD45PNhn88",
        "outputId": "291e8c19-833c-4a8c-c2ac-ff23a42485d2",
        "colab": {
          "base_uri": "https://localhost:8080/",
          "height": 165
        }
      },
      "source": [
        "print(one + two + hello)"
      ],
      "execution_count": 10,
      "outputs": [
        {
          "output_type": "error",
          "ename": "TypeError",
          "evalue": "ignored",
          "traceback": [
            "\u001b[0;31m---------------------------------------------------------------------------\u001b[0m",
            "\u001b[0;31mTypeError\u001b[0m                                 Traceback (most recent call last)",
            "\u001b[0;32m<ipython-input-10-a2961e4891f2>\u001b[0m in \u001b[0;36m<module>\u001b[0;34m()\u001b[0m\n\u001b[0;32m----> 1\u001b[0;31m \u001b[0mprint\u001b[0m\u001b[0;34m(\u001b[0m\u001b[0mone\u001b[0m \u001b[0;34m+\u001b[0m \u001b[0mtwo\u001b[0m \u001b[0;34m+\u001b[0m \u001b[0mhello\u001b[0m\u001b[0;34m)\u001b[0m\u001b[0;34m\u001b[0m\u001b[0;34m\u001b[0m\u001b[0m\n\u001b[0m",
            "\u001b[0;31mTypeError\u001b[0m: unsupported operand type(s) for +: 'int' and 'str'"
          ]
        }
      ]
    },
    {
      "cell_type": "markdown",
      "metadata": {
        "id": "V67Qb57mh3G_"
      },
      "source": [
        "* Añadir variables a un *string* usando `format`: \n",
        "\n",
        "`\"Variable {}\".format(x)` reemplazará el `{}` en el *string* con el valor de la variable `x`.\n",
        "\n",
        "* Para controlar la cantidad de decimales:\n",
        "\n",
        "`\"Variable {:10.4f}\".format(x)` donde `10` es la cantidad de espacio asignado al *float* y `0.4f` es el número de decimales después del punto. \n",
        "\n"
      ]
    },
    {
      "cell_type": "code",
      "metadata": {
        "id": "SjTeANLeidIf",
        "colab": {
          "base_uri": "https://localhost:8080/"
        },
        "outputId": "42af23ab-7d6e-4934-89a9-4d05be7de63a"
      },
      "source": [
        "variable = 1/3 * 100\n",
        "print(\"Unformated variable: {}%\".format(variable))\n",
        "print(\"Formatted variable: {:.3f}%\".format(variable))\n",
        "print(\"Space formatted variable: {:10.1f}%\".format(variable))"
      ],
      "execution_count": 11,
      "outputs": [
        {
          "output_type": "stream",
          "name": "stdout",
          "text": [
            "Unformated variable: 33.33333333333333%\n",
            "Formatted variable: 33.333%\n",
            "Space formatted variable:       33.3%\n"
          ]
        }
      ]
    },
    {
      "cell_type": "markdown",
      "metadata": {
        "id": "5b7CToDmvfC6"
      },
      "source": [
        "* Built-in functions: \n",
        "len(string)\n",
        "\n",
        "* Built-in methods:\n",
        "string.upper(), string.lower(), string.capitalize()\n",
        "\n",
        "Ver más [functions](https://docs.python.org/3.7/library/functions.html) \n",
        "\n",
        "Ver más [built-in methods para strings](https://docs.python.org/3/library/stdtypes.html#string-methods)"
      ]
    },
    {
      "cell_type": "markdown",
      "metadata": {
        "id": "kxEyCwbSkJrz"
      },
      "source": [
        "---\n",
        "Listas\n",
        "---\n",
        "Son una lista **ordenada** y **mutable** de cualquier tipo de variable. Podés combinar tantas variables como quieras, e incluso pueden ser de múltiples tipos. \n",
        "\n",
        "Normalmente, a menos que tengas una razón específica para hacerlo, las listas contendrán variables de un sólo tipo.\n",
        "\n",
        "También puedes iterar sobre una lista (usar cada elemento de una lista en secuencia).\n",
        "\n",
        "Una lista se coloca entre corchetes: [] y los elementos se separan con comas (,)."
      ]
    },
    {
      "cell_type": "code",
      "metadata": {
        "id": "HRhBJgsikgOX",
        "colab": {
          "base_uri": "https://localhost:8080/"
        },
        "outputId": "0a8fb006-53fb-4ec6-d15e-db37c78def2d"
      },
      "source": [
        "mylist = []\n",
        "mylist.append(1)\n",
        "mylist.append(2)\n",
        "mylist.append(3)\n",
        "mylist.append(4)\n",
        "# Se puede `llamar' a cada item de la lista directamente. \n",
        "# Ojo! Python empieza a contar desde 0.\n",
        "print(mylist[0])"
      ],
      "execution_count": 12,
      "outputs": [
        {
          "output_type": "stream",
          "name": "stdout",
          "text": [
            "1\n"
          ]
        }
      ]
    },
    {
      "cell_type": "code",
      "metadata": {
        "id": "2pLx9OyYnP2v",
        "colab": {
          "base_uri": "https://localhost:8080/"
        },
        "outputId": "e586a12c-ab7f-47e4-8b35-2fefcfd9edde"
      },
      "source": [
        "# El último item de la lista se `llama' usando el -1. \n",
        "print(mylist[-1])"
      ],
      "execution_count": 13,
      "outputs": [
        {
          "output_type": "stream",
          "name": "stdout",
          "text": [
            "4\n"
          ]
        }
      ]
    },
    {
      "cell_type": "code",
      "metadata": {
        "id": "X5Ciqe0anQ-j",
        "colab": {
          "base_uri": "https://localhost:8080/"
        },
        "outputId": "caf8f0ab-df95-45ae-9782-fad44bee565c"
      },
      "source": [
        "# También podés seleccionar un subgrupo de items (slice)\n",
        "print(mylist[1:3])"
      ],
      "execution_count": 14,
      "outputs": [
        {
          "output_type": "stream",
          "name": "stdout",
          "text": [
            "[2, 3]\n"
          ]
        }
      ]
    },
    {
      "cell_type": "code",
      "metadata": {
        "id": "s0P9YeBPnR5n",
        "colab": {
          "base_uri": "https://localhost:8080/"
        },
        "outputId": "a89e0989-35d7-4181-d445-be64a2b534c5"
      },
      "source": [
        "# Fundamental para hacer loops usando `for` .\n",
        "# `x` es una nueva variable que toma el valor de cada item de la lista en orden.\n",
        "for x in mylist:\n",
        "    print(x)"
      ],
      "execution_count": 15,
      "outputs": [
        {
          "output_type": "stream",
          "name": "stdout",
          "text": [
            "1\n",
            "2\n",
            "3\n",
            "4\n"
          ]
        }
      ]
    },
    {
      "cell_type": "code",
      "metadata": {
        "id": "0Uz7Skqet5W6",
        "colab": {
          "base_uri": "https://localhost:8080/"
        },
        "outputId": "566672e3-324e-4983-e775-962651401584"
      },
      "source": [
        "# Agregar elementos a lista\n",
        "a = [1,2,3]\n",
        "\n",
        "#a += [4,5] \n",
        "#a += 4,5\n",
        "#a[len(a):] = [4,5]\n",
        "#a.extend([4,5])\n",
        "\n",
        "##Ojo!\n",
        "#a.append([4,5])\n",
        "#a[-1:]=[4,5]\n",
        "\n",
        "print(a)\n"
      ],
      "execution_count": 24,
      "outputs": [
        {
          "output_type": "stream",
          "name": "stdout",
          "text": [
            "[1, 2, 3]\n"
          ]
        }
      ]
    },
    {
      "cell_type": "markdown",
      "metadata": {
        "id": "oeVzXitop-FV"
      },
      "source": [
        "* Comprueba qué tipo de variable es usando `isinstance`\n",
        "* Usar `.sort()` para ordenar la lista alfabética o numéricamente.\n",
        "* Obtener el número de elementos de una lista con `len(lista)` ([built-in functions](https://docs.python.org/3.7/library/functions.html)). \n",
        "* Obtener el más chico o más grande (número o alfabético): `min(list)` o `max(list)`\n",
        "* Contar el número de veces que una variable particular aparece en una lista, usando `list.count(x)` (Ver más [built-in methods para listas](https://docs.python.org/3/tutorial/datastructures.html#more-on-lists)). \n",
        "* Enumera los outcomes de una lista usando `for i, x in enumerate(mylist)` \n",
        "* `enumerate` genera un *tuple* con el número de la enumeración que corresponde y lo que querés enumerar"
      ]
    },
    {
      "cell_type": "code",
      "metadata": {
        "id": "GyhCFZu0phDL",
        "colab": {
          "base_uri": "https://localhost:8080/"
        },
        "outputId": "bc77dc07-98b2-4af1-87b2-9afa837a957e"
      },
      "source": [
        "# Imaginemos que tenemos una lista de nombres no ordenados que de alguna manera se incluyeron algunos números al azar.\n",
        "# Para este ejercicio, queremos imprimir la lista alfabética de nombres sin los números.\n",
        "# Esta no es la mejor manera de hacer el ejercicio, pero ilustrará un montón de técnicas.\n",
        "names = [\"John\", 3234, 2342, 3323, \"Eric\", 234, \"Jessica\", 734978234, \"Lois\", 2384]\n",
        "print(\"Number of names in list: {}\".format(len(names)))"
      ],
      "execution_count": 25,
      "outputs": [
        {
          "output_type": "stream",
          "name": "stdout",
          "text": [
            "Number of names in list: 10\n"
          ]
        }
      ]
    },
    {
      "cell_type": "code",
      "metadata": {
        "id": "6cpNqcDyqrZc"
      },
      "source": [
        "# Primero eliminamos esos números\n",
        "new_names = []\n",
        "for n in names:\n",
        "    if isinstance(n, str):\n",
        "        # Si n es string, agregar a la lista\n",
        "        # Notar la doble sangría\n",
        "        new_names.append(n)"
      ],
      "execution_count": 26,
      "outputs": []
    },
    {
      "cell_type": "code",
      "metadata": {
        "id": "RXs3Oy61quIH",
        "colab": {
          "base_uri": "https://localhost:8080/"
        },
        "outputId": "61663034-cded-4f27-ef91-33341c0e105c"
      },
      "source": [
        "# Ahora tendríamos que tener sólo nombres en la lista. \n",
        "# Ordenémoslos\n",
        "new_names.sort()\n",
        "print(\"Cleaned-up number of names in list: {}\".format(len(new_names)))"
      ],
      "execution_count": 27,
      "outputs": [
        {
          "output_type": "stream",
          "name": "stdout",
          "text": [
            "Cleaned-up number of names in list: 4\n"
          ]
        }
      ]
    },
    {
      "cell_type": "code",
      "metadata": {
        "id": "CQX8g1UHMpgc",
        "colab": {
          "base_uri": "https://localhost:8080/"
        },
        "outputId": "9dce9d55-9826-451d-f6dc-fab38d34eeee"
      },
      "source": [
        "print(new_names)"
      ],
      "execution_count": 28,
      "outputs": [
        {
          "output_type": "stream",
          "name": "stdout",
          "text": [
            "['Eric', 'Jessica', 'John', 'Lois']\n"
          ]
        }
      ]
    },
    {
      "cell_type": "code",
      "metadata": {
        "id": "Orkm56tWu_9s",
        "colab": {
          "base_uri": "https://localhost:8080/"
        },
        "outputId": "a03a8719-4843-4a71-f438-d9ec8d2d4dd0"
      },
      "source": [
        "for ele in enumerate(new_names): \n",
        "    print (ele)\n"
      ],
      "execution_count": 29,
      "outputs": [
        {
          "output_type": "stream",
          "name": "stdout",
          "text": [
            "(0, 'Eric')\n",
            "(1, 'Jessica')\n",
            "(2, 'John')\n",
            "(3, 'Lois')\n"
          ]
        }
      ]
    },
    {
      "cell_type": "code",
      "metadata": {
        "id": "Sz_hHWhHrBaE",
        "colab": {
          "base_uri": "https://localhost:8080/"
        },
        "outputId": "aab5cdc9-e7c1-40b5-a7b5-b34046c71c75"
      },
      "source": [
        "# Veámoslos, pero enumerándolos.\n",
        "for i, n in enumerate(new_names):\n",
        "    # Usar i y n como string\n",
        "    # Agregar 1 a i porque las listas empiezan en 0.\n",
        "    print(\"{}. {}\".format(i+1, n))"
      ],
      "execution_count": 30,
      "outputs": [
        {
          "output_type": "stream",
          "name": "stdout",
          "text": [
            "1. Eric\n",
            "2. Jessica\n",
            "3. John\n",
            "4. Lois\n"
          ]
        }
      ]
    },
    {
      "cell_type": "markdown",
      "metadata": {
        "id": "uhtYdPdkqyDZ"
      },
      "source": [
        "También existen nested lists:"
      ]
    },
    {
      "cell_type": "code",
      "metadata": {
        "id": "_KP94IogqxkH",
        "colab": {
          "base_uri": "https://localhost:8080/"
        },
        "outputId": "c8bd2781-d715-4a41-bfd1-3cf12e914cb7"
      },
      "source": [
        "x = [10, [3.141, 20, [30, 'baz', 2.718]], 'foo']\n",
        "# Para \"llamar\" la f de 'foo''\n",
        "print(x[2][0])\n",
        "print(x[2][-3])\n",
        "# Para \"llamar\" a [3.141, 20]\n",
        "print(x[1][0:2])\n",
        "# Para eliminar un elemento\n",
        "x[0:1]=[]\n",
        "#x.remove(0)\n",
        "print(x)\n",
        "\n",
        "del x[1]\n",
        "print(x)\n"
      ],
      "execution_count": 31,
      "outputs": [
        {
          "output_type": "stream",
          "name": "stdout",
          "text": [
            "f\n",
            "f\n",
            "[3.141, 20]\n",
            "[[3.141, 20, [30, 'baz', 2.718]], 'foo']\n",
            "[[3.141, 20, [30, 'baz', 2.718]]]\n"
          ]
        }
      ]
    },
    {
      "cell_type": "markdown",
      "metadata": {
        "id": "WT42a6Nb_Ess"
      },
      "source": [
        "Sets\n",
        "--\n",
        "Los conjuntos son listas (mutables) **sin entradas duplicadas**. Probablemente podrías escribir un algoritmo o un diccionario para lograr el mismo fin, pero los conjuntos son más rápidos y flexibles.\n",
        "\n",
        "**Frozen sets** son inmutables. Pueden ser partes de un set. Pueden ser key de un diccionario.\n",
        "\n",
        "x = frozenset(['foo', 'bar', 'baz'])"
      ]
    },
    {
      "cell_type": "code",
      "metadata": {
        "id": "wBuGa2MR_Wx-",
        "colab": {
          "base_uri": "https://localhost:8080/"
        },
        "outputId": "639214b2-43c2-4d0f-eca0-e71f8c554e61"
      },
      "source": [
        "# Extraer todos los componentes únicos de la frase\n",
        "print(set(\"the rain is wet and wet is the rain\".split()))"
      ],
      "execution_count": 32,
      "outputs": [
        {
          "output_type": "stream",
          "name": "stdout",
          "text": [
            "{'rain', 'the', 'wet', 'is', 'and'}\n"
          ]
        }
      ]
    },
    {
      "cell_type": "markdown",
      "metadata": {
        "id": "YTuHYCYG_Y_z"
      },
      "source": [
        "* Cree un conjunto único de términos con `set`\n",
        "* Para obtener elementos presentes en ambos conjuntos, usar `set1.intersection(set2)`\n",
        "* Para obtener los elementro únicos de ambos conjuntos, usar `set1.symmetric_difference(set2)`\n",
        "* Para obtener los elementos diferentes entre ambos conjuntos use `set1.difference(set2)`\n",
        "* Para obtener todos los elementos ambas listas, usar `set1.union(set2)`"
      ]
    },
    {
      "cell_type": "code",
      "metadata": {
        "id": "Uoaq0YBD_jQm",
        "colab": {
          "base_uri": "https://localhost:8080/"
        },
        "outputId": "e35aae27-3067-44c4-f32f-1bec456a0108"
      },
      "source": [
        "set_one = set([\"Alice\", \"Carol\", \"Dan\", \"Eve\", \"Heidi\"])\n",
        "set_two = set([\"Bob\", \"Dan\", \"Eve\", \"Grace\", \"Heidi\"])\n",
        "\n",
        "# Intersection (también se puede usar &)\n",
        "print(\"Set One intersection: {}\".format(set_one.intersection(set_two)))\n",
        "print(\"Set Two intersection: {}\".format(set_two.intersection(set_one)))\n",
        "print(\"Set Two intersection:\", set_two & set_one)\n",
        "\n",
        "# Symmetric difference (también se puede usar ^)\n",
        "print(\"Set One symmetric difference: {}\".format(set_one.symmetric_difference(set_two)))\n",
        "print(\"Set Two symmetric difference: {}\".format(set_two.symmetric_difference(set_one)))\n",
        "print(\"Set Two symmetric difference:\", set_two ^ set_one)\n",
        "\n",
        "# Difference (también se puede usar -)\n",
        "print(\"Set One difference: {}\".format(set_one.difference(set_two)))\n",
        "print(\"Set Two difference: {}\".format(set_two.difference(set_one)))\n",
        "print(\"Set Two difference:\", set_two - set_one)\n",
        "\n",
        "# Union (también se puede usar |)\n",
        "print(\"Set One union: {}\".format(set_one.union(set_two)))\n",
        "print(\"Set Two union: {}\".format(set_two.union(set_one)))\n",
        "print(\"Set Two union:\", set_two | set_one)"
      ],
      "execution_count": 33,
      "outputs": [
        {
          "output_type": "stream",
          "name": "stdout",
          "text": [
            "Set One intersection: {'Dan', 'Heidi', 'Eve'}\n",
            "Set Two intersection: {'Dan', 'Heidi', 'Eve'}\n",
            "Set Two intersection: {'Dan', 'Heidi', 'Eve'}\n",
            "Set One symmetric difference: {'Carol', 'Grace', 'Alice', 'Bob'}\n",
            "Set Two symmetric difference: {'Carol', 'Grace', 'Alice', 'Bob'}\n",
            "Set Two symmetric difference: {'Carol', 'Grace', 'Alice', 'Bob'}\n",
            "Set One difference: {'Carol', 'Alice'}\n",
            "Set Two difference: {'Bob', 'Grace'}\n",
            "Set Two difference: {'Bob', 'Grace'}\n",
            "Set One union: {'Grace', 'Dan', 'Bob', 'Eve', 'Carol', 'Alice', 'Heidi'}\n",
            "Set Two union: {'Grace', 'Dan', 'Bob', 'Eve', 'Carol', 'Alice', 'Heidi'}\n",
            "Set Two union: {'Grace', 'Dan', 'Bob', 'Eve', 'Carol', 'Alice', 'Heidi'}\n"
          ]
        }
      ]
    },
    {
      "cell_type": "code",
      "metadata": {
        "id": "sX_fvCbcyI5K",
        "colab": {
          "base_uri": "https://localhost:8080/"
        },
        "outputId": "71ef2aa1-d8aa-4d55-bf0d-24982ac206ef"
      },
      "source": [
        "# Está Bob en el set?\n",
        "'Bob' in set_one"
      ],
      "execution_count": 34,
      "outputs": [
        {
          "output_type": "execute_result",
          "data": {
            "text/plain": [
              "False"
            ]
          },
          "metadata": {},
          "execution_count": 34
        }
      ]
    },
    {
      "cell_type": "markdown",
      "metadata": {
        "id": "e0sxkJRxwnNv"
      },
      "source": [
        "--- \n",
        "Diccionarios\n",
        "---\n",
        "\n",
        "Los diccionarios son uno de los tipos de datos más útiles y versátiles de Python. Son similares a las matrices, pero consisten en pares clave:valor (key:value). \n",
        "\n",
        "Cada valor almacenado en un diccionario **se accede por su clave**, y el valor puede ser cualquier tipo de objeto (string, número, lista, etc.).\n",
        "\n",
        "Esto permite crear registros estructurados. \n",
        "\n",
        "**Los diccionarios se colocan entre {}. También se pueden definir usando:\n",
        "dictionary_name=dict()**\n",
        "\n",
        "Las *keys* de los diccionarios pueden ser cualquier objeto de tipo inmutable: string, built-in function (len), número, tuple (). **NO** puede ser una lista [] u otro diccionario dict()."
      ]
    },
    {
      "cell_type": "markdown",
      "metadata": {
        "id": "UtoaIWUGjisf"
      },
      "source": [
        ""
      ]
    },
    {
      "cell_type": "code",
      "metadata": {
        "id": "gwLg9M1Rw-IV",
        "colab": {
          "base_uri": "https://localhost:8080/"
        },
        "outputId": "0f7dd395-40aa-4cf5-b07f-5ec3a3c55654"
      },
      "source": [
        "phonebook = {}\n",
        "phonebook[\"John\"] = {\"Phone\": \"012 794 794\",\n",
        "                     \"Email\": \"john@email.com\"}\n",
        "phonebook[\"Jill\"] = {\"Phone\": \"012 345 345\",\n",
        "                     \"Email\": \"jill@email.com\"}\n",
        "phonebook[\"Joss\"] = {\"Phone\": \"012 321 321\",\n",
        "                     \"Email\": \"joss@email.com\"}\n",
        "print(phonebook)"
      ],
      "execution_count": 35,
      "outputs": [
        {
          "output_type": "stream",
          "name": "stdout",
          "text": [
            "{'John': {'Phone': '012 794 794', 'Email': 'john@email.com'}, 'Jill': {'Phone': '012 345 345', 'Email': 'jill@email.com'}, 'Joss': {'Phone': '012 321 321', 'Email': 'joss@email.com'}}\n"
          ]
        }
      ]
    },
    {
      "cell_type": "markdown",
      "metadata": {
        "id": "FbhKNFKaxAKt"
      },
      "source": [
        "Tengan en cuenta que pueden anidar diccionarios y listas. Lo anterior muestra cómo puede agregar valores a un diccionario existente o crear diccionarios con valores.\n",
        "\n",
        "Podes iterar sobre un diccionario como si fuera una lista, usando `.items()`."
      ]
    },
    {
      "cell_type": "code",
      "metadata": {
        "id": "XatJPysQxQmt",
        "colab": {
          "base_uri": "https://localhost:8080/"
        },
        "outputId": "d45cdc2a-7f42-482a-edfd-25a332269a8c"
      },
      "source": [
        "for name, record in phonebook.items():\n",
        "    print(\"{}'s phone number is {}, and their email is {}\".format(name, record[\"Phone\"], record[\"Email\"]))"
      ],
      "execution_count": 36,
      "outputs": [
        {
          "output_type": "stream",
          "name": "stdout",
          "text": [
            "John's phone number is 012 794 794, and their email is john@email.com\n",
            "Jill's phone number is 012 345 345, and their email is jill@email.com\n",
            "Joss's phone number is 012 321 321, and their email is joss@email.com\n"
          ]
        }
      ]
    },
    {
      "cell_type": "markdown",
      "metadata": {
        "id": "ZhKYOJ63xaYe"
      },
      "source": [
        "Eliminar registros con `del` o `pop`. Estos son statements.\n",
        "\n",
        "También se puede borrar con **methods**: d.pop()"
      ]
    },
    {
      "cell_type": "code",
      "metadata": {
        "id": "t28AJ43bxkBT",
        "colab": {
          "base_uri": "https://localhost:8080/"
        },
        "outputId": "4598a3c4-d290-4fe1-b480-fc06f27b8411"
      },
      "source": [
        "# `del`\n",
        "del phonebook[\"John\"]\n",
        "for name, record in phonebook.items():\n",
        "    print(\"{}'s phone number is {}, and their email is {}\".format(name, record[\"Phone\"], record[\"Email\"]))"
      ],
      "execution_count": 37,
      "outputs": [
        {
          "output_type": "stream",
          "name": "stdout",
          "text": [
            "Jill's phone number is 012 345 345, and their email is jill@email.com\n",
            "Joss's phone number is 012 321 321, and their email is joss@email.com\n"
          ]
        }
      ]
    },
    {
      "cell_type": "code",
      "metadata": {
        "id": "uHvpBVGjx0he",
        "colab": {
          "base_uri": "https://localhost:8080/"
        },
        "outputId": "fd082bc3-f447-4d8e-8e9b-73b09121f356"
      },
      "source": [
        "# `pop` te muestra el registro y después lo borra\n",
        "jill_record = phonebook.pop(\"Jill\")\n",
        "print(jill_record)"
      ],
      "execution_count": 38,
      "outputs": [
        {
          "output_type": "stream",
          "name": "stdout",
          "text": [
            "{'Phone': '012 345 345', 'Email': 'jill@email.com'}\n"
          ]
        }
      ]
    },
    {
      "cell_type": "code",
      "metadata": {
        "id": "n2N_ZGgjyF-U",
        "colab": {
          "base_uri": "https://localhost:8080/"
        },
        "outputId": "e3596202-6f62-4710-dca9-f0fb78e8e6a8"
      },
      "source": [
        "for name, record in phonebook.items():\n",
        "    # You can see that only Joss is still left in the system\n",
        "    print(\"{}'s phone number is {}, and their email is {}\".format(name, record[\"Phone\"], record[\"Email\"]))"
      ],
      "execution_count": 39,
      "outputs": [
        {
          "output_type": "stream",
          "name": "stdout",
          "text": [
            "Joss's phone number is 012 321 321, and their email is joss@email.com\n"
          ]
        }
      ]
    },
    {
      "cell_type": "code",
      "metadata": {
        "id": "yaLaYtYyx5xP",
        "outputId": "a1b3982c-a62e-4690-e06b-7caf3ab3a91a",
        "colab": {
          "base_uri": "https://localhost:8080/",
          "height": 182
        }
      },
      "source": [
        "# Si no existe, ERROR!\n",
        "del phonebook[\"John\"]"
      ],
      "execution_count": 40,
      "outputs": [
        {
          "output_type": "error",
          "ename": "KeyError",
          "evalue": "ignored",
          "traceback": [
            "\u001b[0;31m---------------------------------------------------------------------------\u001b[0m",
            "\u001b[0;31mKeyError\u001b[0m                                  Traceback (most recent call last)",
            "\u001b[0;32m<ipython-input-40-cafc89fdb9bc>\u001b[0m in \u001b[0;36m<module>\u001b[0;34m()\u001b[0m\n\u001b[1;32m      1\u001b[0m \u001b[0;31m# Si no existe, ERROR!\u001b[0m\u001b[0;34m\u001b[0m\u001b[0;34m\u001b[0m\u001b[0;34m\u001b[0m\u001b[0m\n\u001b[0;32m----> 2\u001b[0;31m \u001b[0;32mdel\u001b[0m \u001b[0mphonebook\u001b[0m\u001b[0;34m[\u001b[0m\u001b[0;34m\"John\"\u001b[0m\u001b[0;34m]\u001b[0m\u001b[0;34m\u001b[0m\u001b[0;34m\u001b[0m\u001b[0m\n\u001b[0m",
            "\u001b[0;31mKeyError\u001b[0m: 'John'"
          ]
        }
      ]
    },
    {
      "cell_type": "code",
      "metadata": {
        "id": "xaVot9o8kXp-",
        "colab": {
          "base_uri": "https://localhost:8080/",
          "height": 36
        },
        "outputId": "e4455b8d-9504-4979-985e-454989eaf267"
      },
      "source": [
        "# Quiero el teléfono de Joss\n",
        "phonebook[\"Joss\"][\"Phone\"]"
      ],
      "execution_count": 41,
      "outputs": [
        {
          "output_type": "execute_result",
          "data": {
            "text/plain": [
              "'012 321 321'"
            ],
            "application/vnd.google.colaboratory.intrinsic+json": {
              "type": "string"
            }
          },
          "metadata": {},
          "execution_count": 41
        }
      ]
    },
    {
      "cell_type": "markdown",
      "metadata": {
        "id": "lr4FALao2a1z"
      },
      "source": [
        "Una cosa que hay que acostumbrarse a hacer, es probar las variables antes de asumir que tienen las características que estás buscando. Puedes probar en un diccionario para ver si tiene un registro, y pedir que te devuelva cierta respuesta por defecto si no lo tiene.\n",
        "\n",
        "Esto se hace con `.get(\"key\", default)`. \n",
        "\n",
        "`default` puede ser cualquier cosa, incluyendo otra variable. \n",
        "\n",
        "Si dejas en blanco el valor `default` (es decir, sólo `.get(\"key\")`), el resultado será automáticamente `False` si no hay ningún registro."
      ]
    },
    {
      "cell_type": "code",
      "metadata": {
        "id": "N81oq2yp3C2D",
        "colab": {
          "base_uri": "https://localhost:8080/"
        },
        "outputId": "a9e5b7b1-d987-4758-b033-2ccc45aa8471"
      },
      "source": [
        "# False and True \n",
        "jill_record = phonebook.get(\"Jill\", False)\n",
        "if jill_record: \n",
        "    print(\"Jill's phone number is {}, and their email is {}\".format(jill_record[\"Phone\"], jill_record[\"Email\"]))\n",
        "else: # si es False\n",
        "    print(\"No record found.\")"
      ],
      "execution_count": 42,
      "outputs": [
        {
          "output_type": "stream",
          "name": "stdout",
          "text": [
            "No record found.\n"
          ]
        }
      ]
    },
    {
      "cell_type": "markdown",
      "metadata": {
        "id": "TMS11OaxdZGU"
      },
      "source": [
        "# Operaciones básicas"
      ]
    },
    {
      "cell_type": "markdown",
      "metadata": {
        "id": "wKldWcC03rcd"
      },
      "source": [
        "---\n",
        "Operadores aritméticos\n",
        "---"
      ]
    },
    {
      "cell_type": "markdown",
      "metadata": {
        "id": "CQ9p0QbA3dVY"
      },
      "source": [
        "Aritmética básica: \n",
        "\n",
        "| Símbolo | Función |\n",
        "|----|---|\n",
        "| +  | suma |\n",
        "| -  | resta |\n",
        "| /  | división |\n",
        "| *  | multiplicación |\n",
        "| **  | potencia |\n",
        "| %  | devuelve el resto de una división |\n",
        "| += | sumar y asignar (ej. a=+3 es lo mismo que a=a+3) |"
      ]
    },
    {
      "cell_type": "code",
      "metadata": {
        "id": "0q7IcvwYfdP8",
        "colab": {
          "base_uri": "https://localhost:8080/"
        },
        "outputId": "c236f12c-f028-4cb2-8170-1477ae07d2b1"
      },
      "source": [
        "number = 1 + 2 * 3 // 4\n",
        "print(number)\n",
        "\n",
        "remainder = 11 % 3\n",
        "print(remainder)\n",
        "\n",
        "squared = 7 ** 2\n",
        "print(squared)\n",
        "\n",
        "cubed = 2 ** 3\n",
        "print(cubed)"
      ],
      "execution_count": 43,
      "outputs": [
        {
          "output_type": "stream",
          "name": "stdout",
          "text": [
            "2\n",
            "2\n",
            "49\n",
            "8\n"
          ]
        }
      ]
    },
    {
      "cell_type": "markdown",
      "metadata": {
        "id": "FkPK0DFh33gs"
      },
      "source": [
        "---\n",
        "List operators\n",
        "---"
      ]
    },
    {
      "cell_type": "code",
      "metadata": {
        "id": "MjVcAhhv37an",
        "colab": {
          "base_uri": "https://localhost:8080/"
        },
        "outputId": "aa984639-ca7b-4023-af48-75164f2cf76a"
      },
      "source": [
        "even_numbers = [2, 4, 6, 8]\n",
        "uneven_numbers = [1, 3, 5, 7]\n",
        "all_numbers = uneven_numbers + even_numbers\n",
        "\n",
        "# Concatenar\n",
        "print(all_numbers)\n",
        "\n",
        "# Para ordenar \n",
        "all_numbers.sort()\n",
        "print(all_numbers)\n",
        "\n",
        "# También se puede armar una secuencia repetida\n",
        "print([1, 2 , 3] * 3)"
      ],
      "execution_count": 44,
      "outputs": [
        {
          "output_type": "stream",
          "name": "stdout",
          "text": [
            "[1, 3, 5, 7, 2, 4, 6, 8]\n",
            "[1, 2, 3, 4, 5, 6, 7, 8]\n",
            "[1, 2, 3, 1, 2, 3, 1, 2, 3]\n"
          ]
        }
      ]
    },
    {
      "cell_type": "markdown",
      "metadata": {
        "id": "w3UX3scH3_cF"
      },
      "source": [
        "---\n",
        "Operadores de texto\n",
        "---\n"
      ]
    },
    {
      "cell_type": "code",
      "metadata": {
        "id": "7uqPoxQb4DWx",
        "colab": {
          "base_uri": "https://localhost:8080/"
        },
        "outputId": "c617c524-591b-4b1d-971a-dfc703a25932"
      },
      "source": [
        "# Concatenación de strings\n",
        "helloworld = \"Hello,\" + \" \" + \"World!\"\n",
        "print(helloworld)\n",
        "\n",
        "# Repetir secuencia\n",
        "manyhellos = \"Hello \" * 10\n",
        "print(manyhellos)\n",
        "\n",
        "# No se puede hacer cualquier cosa...\n",
        "# nohellos = \"Hello \" / 10\n",
        "# print(nohellos)"
      ],
      "execution_count": 45,
      "outputs": [
        {
          "output_type": "stream",
          "name": "stdout",
          "text": [
            "Hello, World!\n",
            "Hello Hello Hello Hello Hello Hello Hello Hello Hello Hello \n"
          ]
        }
      ]
    },
    {
      "cell_type": "markdown",
      "metadata": {
        "id": "Z22cuaqj4LZK"
      },
      "source": [
        "* Obtenga el índice (ubicación) para la primera aparición de una letra específica con `string.index(\"l\")` donde `l` es la letra que está buscando\n",
        "* Como en las listas, cuente el número de apariciones de una letra específica con `string.count(\"l\")`\n",
        "* Obtenga segmentos de cadenas con `string[start:end]`, p. `string[3:7]`. Si no estás seguro del final de la *string*, podés usar números negativos para contar desde el final, p. `string [:-3]` para obtener un corte del primer carácter al tercero desde el final.\n",
        "* También podés \"saltar\" a través de una cadena con `string[start:stop:step]`, ej. `string[2:6:2]` que omitirá un carácter entre los caracteres 2 y 5 (es decir, 6 es el límite).\n",
        "* Podés usar un \"step\" negativo para invertir el orden de los caracteres, ej `string[::-1]`\n",
        "* Podés convertir cadenas a mayúsculas o minúsculas con `string.upper()` y `string.lower()`\n",
        "* Podés probar si una cadena comienza o termina con una subcadena con:\n",
        "`string.startswith(substring)` o `string.endswith(substring)` que devuelve `True` o `False`\n",
        "* Usá `in` para probar si una cadena contiene una subcadena, por lo que `substring in string` devolverá `True` o` False`\n",
        "* Podés dividir una cadena en una lista genuina con `.split(s)` donde `s` es el carácter específico que se utilizará para dividir, ej `s = \",\"` o `s = \" \"`. Esto podría ser útil para dividir texto que contiene datos numéricos."
      ]
    },
    {
      "cell_type": "code",
      "metadata": {
        "id": "363vuFzb4ZQQ",
        "colab": {
          "base_uri": "https://localhost:8080/"
        },
        "outputId": "683680fa-ecb9-47be-aad2-ab85d80e4a3d"
      },
      "source": [
        "a_string = \"Hello, World!\"\n",
        "# Cuenta los espacios también\n",
        "print(\"String length: {}\".format(len(a_string)))\n",
        "\n",
        "# Recordá que Python cuenta desde 0.\n",
        "\n",
        "# Observá que hay ' dentro de \"\".\n",
        "\n",
        "print(\"Index for first 'o': {}\".format(a_string.index(\"o\")))\n",
        "print(\"Count of 'o': {}\".format(a_string.count(\"o\")))\n",
        "print(\"Count of 'o' between character 4 and 8: {}\".format(a_string.count(\"o\",4,8)))\n",
        "print(\"Count of 'o' from character 3 on: {}\".format(a_string.count(\"o\",4)))\n",
        "print(\"Slicing between second and fifth characters: {}\".format(a_string[2:6]))\n",
        "print(\"Skipping between 3rd and 2nd-from-last characters: {}\".format(a_string[3:-2:2]))\n",
        "print(\"Reverse text: {}\".format(a_string[::-1]))\n",
        "print(\"Starts with 'Hello': {}\".format(a_string.startswith(\"Hello\")))\n",
        "print(\"Ends with 'Hello': {}\".format(a_string.endswith(\"Hello\")))\n",
        "print(\"Contains 'Goodbye': {}\".format(\"Goodbye\" in a_string))\n",
        "print(\"Split the string: {}\".format(a_string.split(\" \")))\n",
        "print(\"Does not split the string: {}\".format(', '.join(a_string.split(\", \")))) # son complementarios\n",
        "print(\"Does not split the string: {}\".format(a_string.strip(\", \"))) # solo si \", \" está al principio o al final\n",
        "print(\"Does not split the string: {}\".format(a_string.strip(\"H\"))) # solo si \", \" está al principio o al final\n",
        "print(\"{}\".format(a_string.upper().lower())) # son complementarios"
      ],
      "execution_count": 46,
      "outputs": [
        {
          "output_type": "stream",
          "name": "stdout",
          "text": [
            "String length: 13\n",
            "Index for first 'o': 4\n",
            "Count of 'o': 2\n",
            "Count of 'o' between character 4 and 8: 1\n",
            "Count of 'o' from character 3 on: 2\n",
            "Slicing between second and fifth characters: llo,\n",
            "Skipping between 3rd and 2nd-from-last characters: l,Wr\n",
            "Reverse text: !dlroW ,olleH\n",
            "Starts with 'Hello': True\n",
            "Ends with 'Hello': False\n",
            "Contains 'Goodbye': False\n",
            "Split the string: ['Hello,', 'World!']\n",
            "Does not split the string: Hello, World!\n",
            "Does not split the string: Hello, World!\n",
            "Does not split the string: ello, World!\n",
            "hello, world!\n"
          ]
        }
      ]
    },
    {
      "cell_type": "markdown",
      "metadata": {
        "id": "0Q47mC2w4Y3J"
      },
      "source": [
        "---\n",
        "Condiciones\n",
        "---\n",
        "Operadores `booleanos`:\n",
        "* equal: `==`\n",
        "* not equal: `!=`\n",
        "* greater-than: `>`\n",
        "* less-than: `<`\n",
        "\n",
        "A esa lista de operadores booleanos se añade un nuevo conjunto de comparaciones: `and`, `or` and `in`.\n",
        "\n",
        "`if`, `else`, `elif` son ejemplos de *control structures*, las cuales determinan qué comandos se ejecutan y en qué orden, permitiendo que algunos se salteen y otros que se repitan."
      ]
    },
    {
      "cell_type": "code",
      "metadata": {
        "id": "dz04zlCL5nJQ",
        "colab": {
          "base_uri": "https://localhost:8080/"
        },
        "outputId": "a3c3d92e-3a2d-486d-b02d-99207d0dae55"
      },
      "source": [
        "# Simple boolean tests\n",
        "x = 2\n",
        "print(x == 2)\n",
        "print(x == 3)\n",
        "print(x < 3)\n",
        "\n",
        "# Using `and`\n",
        "name = \"John\"\n",
        "print(name == \"John\" and x == 2)\n",
        "\n",
        "# Using `or`\n",
        "print(name == \"John\" or name == \"Jill\")\n",
        "\n",
        "# Using `in` on lists\n",
        "print(name in [\"John\", \"Jill\", \"Jess\"])"
      ],
      "execution_count": 47,
      "outputs": [
        {
          "output_type": "stream",
          "name": "stdout",
          "text": [
            "True\n",
            "False\n",
            "True\n",
            "True\n",
            "True\n",
            "True\n"
          ]
        }
      ]
    },
    {
      "cell_type": "markdown",
      "metadata": {
        "id": "QFO4BJZX54tz"
      },
      "source": [
        "Podés usar `if`, `elif` y otros.\n",
        "\n",
        "Recordá que el código debe estar correctamente indentado o tendrá un comportamiento inesperado."
      ]
    },
    {
      "cell_type": "code",
      "metadata": {
        "id": "4h1jtM5k5tIl",
        "colab": {
          "base_uri": "https://localhost:8080/"
        },
        "outputId": "117e1025-f988-4c09-b1dc-0a065f1affd3"
      },
      "source": [
        "x = 2\n",
        "y = 10\n",
        "if x > 2:\n",
        "    print(\"x > 2\")\n",
        "elif x < 10 or y > 50:\n",
        "    print(\"x < 10 or y > 50\")\n",
        "elif x == 2 and y > 0:\n",
        "    print(\"x == 2 and y > 50\")\n",
        "else:\n",
        "    print(\"Nothing worked.\")"
      ],
      "execution_count": 48,
      "outputs": [
        {
          "output_type": "stream",
          "name": "stdout",
          "text": [
            "x < 10 or y > 50\n"
          ]
        }
      ]
    },
    {
      "cell_type": "code",
      "metadata": {
        "id": "LNHzdH9jhWo1",
        "colab": {
          "base_uri": "https://localhost:8080/"
        },
        "outputId": "65fb4e0f-e446-480c-a7cb-deb4bdd5422f"
      },
      "source": [
        "# Se puede escribir separando con ;\n",
        "x = 2\n",
        "y = 10\n",
        "if x < 10 or y > 50: print(\"x < 10 or y > 50\")"
      ],
      "execution_count": 49,
      "outputs": [
        {
          "output_type": "stream",
          "name": "stdout",
          "text": [
            "x < 10 or y > 50\n"
          ]
        }
      ]
    },
    {
      "cell_type": "markdown",
      "metadata": {
        "id": "n9c4D31C6vGd"
      },
      "source": [
        "* `not` se usa para obtener lo contrario de una prueba booleana particular: `not(False)` devuelve `True`\n",
        "* `is` parecería, superficialmente, similar a` ==`, pero **comprueba si los objetos reales son los mismos, no si los valores que reflejan los objetos son iguales.**"
      ]
    },
    {
      "cell_type": "code",
      "metadata": {
        "id": "-0CdZjHj5uqF",
        "colab": {
          "base_uri": "https://localhost:8080/"
        },
        "outputId": "0acfaa4a-1afe-464d-d54c-ac6f7d908a33"
      },
      "source": [
        "# Using `not`\n",
        "name_list1 = [\"John\", \"Jill\"]\n",
        "name_list2 = [\"John\", \"Jill\"]\n",
        "print(not(name_list1 == name_list2))\n",
        "\n",
        "# Using `is`\n",
        "print(name_list1 == name_list2)\n",
        "\n",
        "print(name_list1 is name_list2)\n",
        "\n",
        "print(name_list1 is name_list1)"
      ],
      "execution_count": 50,
      "outputs": [
        {
          "output_type": "stream",
          "name": "stdout",
          "text": [
            "False\n",
            "True\n",
            "False\n",
            "True\n"
          ]
        }
      ]
    },
    {
      "cell_type": "markdown",
      "metadata": {
        "id": "e_yw99OKDdcm"
      },
      "source": [
        "---\n",
        "Truthy & Falsy\n",
        "---\n",
        "\n",
        "**Falsy Values**\n",
        "* Empty lists []\n",
        "* Empty tuples ()\n",
        "* Empty dictionaries {}\n",
        "* Empty sets set()\n",
        "* Empty strings \" \"\n",
        "* Empty ranges range(0)\n",
        "* Integer: 0\n",
        "* Float: 0.0\n",
        "* `None`\n",
        "* `False`\n"
      ]
    },
    {
      "cell_type": "markdown",
      "metadata": {
        "id": "c1bO1af7EWm_"
      },
      "source": [
        "Podemos hacer la condición mucho más concisa usando `trusty`. Si la lista está vacía, los datos se evaluarán como `False`. Si no está vacía, se evaluará a `True`. Obtenemos la misma funcionalidad con un código más conciso."
      ]
    },
    {
      "cell_type": "code",
      "metadata": {
        "id": "M83_RI56H29c",
        "colab": {
          "base_uri": "https://localhost:8080/"
        },
        "outputId": "c9277bf5-7fb9-4862-e07f-2d624c586a97"
      },
      "source": [
        "my_list=[1,2]\n",
        "\n",
        "if len(my_list) != 0:\n",
        "   print(\"Not empty!\")\n",
        "\n",
        "# Más conciso\n",
        "if my_list:\n",
        "   print(\"Not empty!\")"
      ],
      "execution_count": 51,
      "outputs": [
        {
          "output_type": "stream",
          "name": "stdout",
          "text": [
            "Not empty!\n",
            "Not empty!\n"
          ]
        }
      ]
    },
    {
      "cell_type": "code",
      "metadata": {
        "id": "2rRrivpBIcdu",
        "colab": {
          "base_uri": "https://localhost:8080/"
        },
        "outputId": "7e882338-9969-4460-e092-ea05f71cb7b7"
      },
      "source": [
        "# Otro ejemplo\n",
        "a = 5\n",
        "if a:\n",
        "\tprint(a)\n",
        " \n",
        "a = 0\n",
        "if a:\n",
        "\tprint(a)"
      ],
      "execution_count": 52,
      "outputs": [
        {
          "output_type": "stream",
          "name": "stdout",
          "text": [
            "5\n"
          ]
        }
      ]
    },
    {
      "cell_type": "markdown",
      "metadata": {
        "id": "MIhBkeKg7IB7"
      },
      "source": [
        "# Loops"
      ]
    },
    {
      "cell_type": "markdown",
      "metadata": {
        "id": "k_a96gua7iPi"
      },
      "source": [
        "* Para *loops*, `for`, recorre una lista. \n",
        "\n",
        "**Otros tipos de loops:**\n",
        "* `enumerate` en *lists* que te permite contar el número de \"vuelta\"\n",
        "* *Range* crea una lista de números enteros para recorrer, `range(start, stop)` crea una lista de enteros entre start y stop, o `range(num)` crea una lista de cero hasta num, o `range (start, stop, step)` recorre una lista en incrementos de a \"step\".\n",
        "\n",
        "* `while`, se ejecuta mientras una condición particular es` True`. \n",
        "\n",
        "* `while` es una declaración condicional (requiere una prueba para devolver `True`), eso significa que podemos usar `else` en un `while` (pero no `for`)"
      ]
    },
    {
      "cell_type": "code",
      "metadata": {
        "id": "8hguxilz9rT-",
        "colab": {
          "base_uri": "https://localhost:8080/"
        },
        "outputId": "3b789ccb-b5e5-4f86-e294-759845584916"
      },
      "source": [
        "# For\n",
        "for i, x in enumerate(range(2, 8, 2)):\n",
        "    print(\"{}. Range {}\".format(i+1, x))"
      ],
      "execution_count": 53,
      "outputs": [
        {
          "output_type": "stream",
          "name": "stdout",
          "text": [
            "1. Range 2\n",
            "2. Range 4\n",
            "3. Range 6\n"
          ]
        }
      ]
    },
    {
      "cell_type": "code",
      "metadata": {
        "id": "fgWCJdQVMOtq",
        "colab": {
          "base_uri": "https://localhost:8080/"
        },
        "outputId": "0f5c4f51-b91a-4686-cfbb-64bca7359a20"
      },
      "source": [
        "# While \n",
        "count = 0\n",
        "while count < 5:\n",
        "    print(count)\n",
        "    count += 1 # Recordar que ya vimos esto\n",
        "else:\n",
        "    print(\"End of while loop reached\")\n",
        "\n",
        "# Ojo con las sangrías"
      ],
      "execution_count": 54,
      "outputs": [
        {
          "output_type": "stream",
          "name": "stdout",
          "text": [
            "0\n",
            "1\n",
            "2\n",
            "3\n",
            "4\n",
            "End of while loop reached\n"
          ]
        }
      ]
    },
    {
      "cell_type": "markdown",
      "metadata": {
        "id": "SJXGcDqc91ES"
      },
      "source": [
        "* `break` finaliza un ` while` o `for` inmediatamente\n",
        "* `continue` omite el loop actual y vuelve al loop condicional\n",
        "* `pass` significa que no hay nada que mostrar\n"
      ]
    },
    {
      "cell_type": "code",
      "metadata": {
        "id": "MuF_xBm8-BhV",
        "colab": {
          "base_uri": "https://localhost:8080/"
        },
        "outputId": "5acd1e86-410d-43f1-c95b-2f8c33106374"
      },
      "source": [
        "# Break and while conditional\n",
        "print(\"Break and while conditional\")\n",
        "count = 0\n",
        "while True:\n",
        "    # Esto correría para siempre a menos que pongamos el break\n",
        "    print(count)\n",
        "    count += 1\n",
        "    if count >= 5:\n",
        "        break\n",
        "\n",
        "# Continue\n",
        "print(\"Continue\")\n",
        "for x in range(8):\n",
        "    # Check si x es par\n",
        "    if (x+1) % 2 == 0:\n",
        "        continue\n",
        "    print(x)\n",
        "\n",
        "# Pass\n",
        "print(\"Pass\")\n",
        "for x in range(8):\n",
        "    # Check si x es par\n",
        "    if (x+1) % 2 == 0:\n",
        "        pass\n",
        "    print(x)"
      ],
      "execution_count": 55,
      "outputs": [
        {
          "output_type": "stream",
          "name": "stdout",
          "text": [
            "Break and while conditional\n",
            "0\n",
            "1\n",
            "2\n",
            "3\n",
            "4\n",
            "Continue\n",
            "0\n",
            "2\n",
            "4\n",
            "6\n",
            "Pass\n",
            "0\n",
            "1\n",
            "2\n",
            "3\n",
            "4\n",
            "5\n",
            "6\n",
            "7\n"
          ]
        }
      ]
    },
    {
      "cell_type": "markdown",
      "metadata": {
        "id": "tQlTAlK47LEO"
      },
      "source": [
        "# List comprehensions"
      ]
    },
    {
      "cell_type": "markdown",
      "metadata": {
        "id": "Fz6Hw8qi-KnZ"
      },
      "source": [
        "Una de las tareas comunes en la codificación es revisar una lista de elementos, editar o aplicar algún tipo de algoritmo y devolver una nueva lista.\n",
        "\n",
        "Escribir largos tramos de código para lograr esto es tedioso y lleva mucho tiempo. La comprensión de la lista es una manera eficiente y concisa de lograr exactamente eso.\n",
        "\n",
        "Como ejemplo, imaginemos que tenemos una frase en la que queremos contar la longitud de cada palabra, pero nos saltamos todas las \"las\":"
      ]
    },
    {
      "cell_type": "code",
      "metadata": {
        "id": "wn04k7Ai-Mdk",
        "colab": {
          "base_uri": "https://localhost:8080/"
        },
        "outputId": "20aede17-14d7-4221-a5a4-83e80a02bae7"
      },
      "source": [
        "sentence = \"for the song and the sword are birthrights sold to an usurer, but I am the last lone highwayman and I am the last adventurer\"\n",
        "words = sentence.split()\n",
        "print(words)\n",
        "word_lengths = []\n",
        "for word in words:\n",
        "      if word != \"the\":\n",
        "          word_lengths.append(len(word))\n",
        "print(word_lengths)"
      ],
      "execution_count": 56,
      "outputs": [
        {
          "output_type": "stream",
          "name": "stdout",
          "text": [
            "['for', 'the', 'song', 'and', 'the', 'sword', 'are', 'birthrights', 'sold', 'to', 'an', 'usurer,', 'but', 'I', 'am', 'the', 'last', 'lone', 'highwayman', 'and', 'I', 'am', 'the', 'last', 'adventurer']\n",
            "[3, 4, 3, 5, 3, 11, 4, 2, 2, 7, 3, 1, 2, 4, 4, 10, 3, 1, 2, 4, 10]\n"
          ]
        }
      ]
    },
    {
      "cell_type": "code",
      "metadata": {
        "id": "s-HCgw1bOiQZ",
        "outputId": "ea076432-a644-4de4-e958-6aa3bb1bad71",
        "colab": {
          "base_uri": "https://localhost:8080/"
        }
      },
      "source": [
        "# Usando una list comprehension\n",
        "sentence = \"for the song and the sword are birthrights sold to an usurer, but I am the last lone highwayman and I am the last adventurer\"\n",
        "word_lengths = [len(word) for word in sentence.split(\" \") if word != \"the\"]\n",
        "print(word_lengths)"
      ],
      "execution_count": 57,
      "outputs": [
        {
          "output_type": "stream",
          "name": "stdout",
          "text": [
            "[3, 4, 3, 5, 3, 11, 4, 2, 2, 7, 3, 1, 2, 4, 4, 10, 3, 1, 2, 4, 10]\n"
          ]
        }
      ]
    }
  ]
}